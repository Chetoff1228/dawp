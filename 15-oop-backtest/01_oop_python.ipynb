{
 "cells": [
  {
   "cell_type": "markdown",
   "metadata": {},
   "source": [
    "# Для чего нужны классы\n",
    "\n",
    "Классы используются для того, чтобы определять собственные типы данных с собственным \"атрибутами\" и \"поведением\".\n",
    "Далее можно просто создавать объекты на основе данных классов, уже не описывая их атрибуты и поведение.\n",
    "\n",
    "Давайте представим себе набор абстрактных \"кошечек\". Это наш класс. \n",
    "\n",
    "У кошек есть клички, окрас, порода, пол, возраст и еще какие-то другие характеристики. Это их атрибуты.\n",
    "\n",
    "Кошечка может выполнять некоторые действия - спать, есть, мурлыкать и т.д. Это их поведение. \n",
    "\n",
    "Класс определяется с помощью ключевого слова `class`, у задает шаблон объекта:"
   ]
  },
  {
   "cell_type": "code",
   "execution_count": 2,
   "metadata": {},
   "outputs": [],
   "source": [
    "class Cats:\n",
    "    pass"
   ]
  },
  {
   "cell_type": "markdown",
   "metadata": {},
   "source": [
    "В данном случае определен класс `Cats`, который условно представляет кошечку. \n",
    "В данном случае в классе не определяется никаких методов или атрибутов. \n",
    "Вот только есть проблема, в классе должно быть хоть что-то определено. \n",
    "В этом случае  применяется оператор `pass`. \n",
    "Этот оператор применяется, когда необходимо определить некоторый код, но кода быть его не должно, и вместо конкретного кода вставляем оператор `pass`.\n",
    "\n",
    "После создания класса можно определить объекты этого класса. Например:"
   ]
  },
  {
   "cell_type": "code",
   "execution_count": 14,
   "metadata": {},
   "outputs": [],
   "source": [
    "class Cats:\n",
    "    pass\n",
    " \n",
    "tom = Cats()      # определение объекта tom\n",
    "bella = Cats()    # определение объекта bella"
   ]
  },
  {
   "cell_type": "markdown",
   "metadata": {},
   "source": [
    "После определения класса `Cats` создаются два объекта класса `Cats` - `tom` и `bella`. \n",
    "\n",
    "Для создания объекта применяется специальная функция - конструктор, которая называется по имени класса и которая возвращает объект класса, в данном случае вызов `Cats()` представляет вызов конструктора. \n",
    "Каждый класс по умолчанию имеет конструктор без параметров."
   ]
  },
  {
   "cell_type": "code",
   "execution_count": 15,
   "metadata": {},
   "outputs": [
    {
     "data": {
      "text/plain": [
       "<__main__.Cats at 0x7f77e4a1f310>"
      ]
     },
     "execution_count": 15,
     "metadata": {},
     "output_type": "execute_result"
    }
   ],
   "source": [
    "Cats()"
   ]
  },
  {
   "cell_type": "markdown",
   "metadata": {},
   "source": [
    "## Методы классов\n",
    "\n",
    "**Методы класса фактически представляют функции**, которые определенны внутри класса и которые определяют его поведение. Например, определим класс `Cats` с одним методом:"
   ]
  },
  {
   "cell_type": "code",
   "execution_count": 16,
   "metadata": {},
   "outputs": [
    {
     "name": "stdout",
     "output_type": "stream",
     "text": [
      "meow\n"
     ]
    }
   ],
   "source": [
    "class Cats:       # определение класса Person\n",
    "    def say_hello(self):\n",
    "        print(\"meow\")\n",
    " \n",
    "tom = Cats()\n",
    "tom.say_hello()    # Hello"
   ]
  },
  {
   "cell_type": "markdown",
   "metadata": {},
   "source": [
    "Здесь определен метод `say_hello()`, который выполняет принтование мяуканья кота. \n",
    "При определении методов любого класса следует учитывать, что все они должны принимать в качестве первого параметра ссылку на объект, который всегда называется `self`. Через эту ссылку внутри класса мы можем обратиться к функциональности текущего объекта. Но при самом вызове метода этот параметр не учитывается.\n",
    "\n",
    "Используя имя объекта, мы можем обратиться к его методам. Для обращения к методам применяется нотация точки - после имени объекта ставится точка и после нее идет вызов метода:"
   ]
  },
  {
   "cell_type": "code",
   "execution_count": 17,
   "metadata": {},
   "outputs": [
    {
     "name": "stdout",
     "output_type": "stream",
     "text": [
      "meow\n"
     ]
    }
   ],
   "source": [
    "tom.say_hello()"
   ]
  },
  {
   "cell_type": "markdown",
   "metadata": {},
   "source": [
    "Обратите внимане, что не объекте другого класса наши методы не работаю. Конечно, это очевидно, но ..."
   ]
  },
  {
   "cell_type": "code",
   "execution_count": 18,
   "metadata": {},
   "outputs": [
    {
     "ename": "AttributeError",
     "evalue": "'int' object has no attribute 'say_hello'",
     "output_type": "error",
     "traceback": [
      "\u001b[0;31m---------------------------------------------------------------------------\u001b[0m",
      "\u001b[0;31mAttributeError\u001b[0m                            Traceback (most recent call last)",
      "Cell \u001b[0;32mIn[18], line 2\u001b[0m\n\u001b[1;32m      1\u001b[0m baracuda \u001b[38;5;241m=\u001b[39m \u001b[38;5;241m1\u001b[39m\n\u001b[0;32m----> 2\u001b[0m \u001b[43mbaracuda\u001b[49m\u001b[38;5;241;43m.\u001b[39;49m\u001b[43msay_hello\u001b[49m()\n",
      "\u001b[0;31mAttributeError\u001b[0m: 'int' object has no attribute 'say_hello'"
     ]
    }
   ],
   "source": [
    "baracuda = 1\n",
    "baracuda.say_hello()"
   ]
  },
  {
   "cell_type": "markdown",
   "metadata": {},
   "source": [
    "Если метод должен принимать другие параметры, то они определяются после параметра `self`, и при вызове подобного метода для них необходимо передать значения:"
   ]
  },
  {
   "cell_type": "code",
   "execution_count": 19,
   "metadata": {},
   "outputs": [
    {
     "name": "stdout",
     "output_type": "stream",
     "text": [
      "purr, purr, purr\n"
     ]
    }
   ],
   "source": [
    "class Cats:       # определение класса Person\n",
    "    def say(self, message):     # метод \n",
    "        print(message)\n",
    " \n",
    " \n",
    "tom = Cats()\n",
    "tom.say(\"purr, purr, purr\")"
   ]
  },
  {
   "cell_type": "markdown",
   "metadata": {},
   "source": [
    "## Обращение через self\n",
    "\n",
    "Через ключевое слово self можно обращаться внутри класса к функциональности текущего объекта"
   ]
  },
  {
   "cell_type": "code",
   "execution_count": 47,
   "metadata": {},
   "outputs": [
    {
     "name": "stdout",
     "output_type": "stream",
     "text": [
      "meow\n"
     ]
    }
   ],
   "source": [
    "class Cats:\n",
    " \n",
    "    def say(self, message):\n",
    "        print(message)\n",
    " \n",
    "    def say_hello(self):\n",
    "        self.say(\"meow\")  # обращаемся к выше определенному методу say\n",
    " \n",
    " \n",
    "tom = Cats()\n",
    "tom.say_hello()    "
   ]
  },
  {
   "cell_type": "markdown",
   "metadata": {},
   "source": [
    "Поскольку метод say() принимает кроме self еще параметры (параметр message), то при вызове метода для этого параметра передается значение.\n",
    "\n",
    "Причем при вызове метода объекта нам обязательно необходимо использовать слово self, если мы его не используем, то мы столкнемся с ошибкой"
   ]
  },
  {
   "cell_type": "code",
   "execution_count": 48,
   "metadata": {},
   "outputs": [
    {
     "ename": "NameError",
     "evalue": "name 'say' is not defined",
     "output_type": "error",
     "traceback": [
      "\u001b[0;31m---------------------------------------------------------------------------\u001b[0m",
      "\u001b[0;31mNameError\u001b[0m                                 Traceback (most recent call last)",
      "Cell \u001b[0;32mIn[48], line 11\u001b[0m\n\u001b[1;32m      7\u001b[0m         say(\u001b[38;5;124m\"\u001b[39m\u001b[38;5;124mmeow\u001b[39m\u001b[38;5;124m\"\u001b[39m)  \u001b[38;5;66;03m# обращаемся к выше определенному методу say\u001b[39;00m\n\u001b[1;32m     10\u001b[0m tom \u001b[38;5;241m=\u001b[39m Cats()\n\u001b[0;32m---> 11\u001b[0m \u001b[43mtom\u001b[49m\u001b[38;5;241;43m.\u001b[39;49m\u001b[43msay_hello\u001b[49m\u001b[43m(\u001b[49m\u001b[43m)\u001b[49m\n",
      "Cell \u001b[0;32mIn[48], line 7\u001b[0m, in \u001b[0;36mCats.say_hello\u001b[0;34m(self)\u001b[0m\n\u001b[1;32m      6\u001b[0m \u001b[38;5;28;01mdef\u001b[39;00m \u001b[38;5;21msay_hello\u001b[39m(\u001b[38;5;28mself\u001b[39m):\n\u001b[0;32m----> 7\u001b[0m     \u001b[43msay\u001b[49m(\u001b[38;5;124m\"\u001b[39m\u001b[38;5;124mmeow\u001b[39m\u001b[38;5;124m\"\u001b[39m)\n",
      "\u001b[0;31mNameError\u001b[0m: name 'say' is not defined"
     ]
    }
   ],
   "source": [
    "class Cats:\n",
    " \n",
    "    def say(self, message):\n",
    "        print(message)\n",
    " \n",
    "    def say_hello(self):\n",
    "        say(\"meow\")  # обращаемся к выше определенному методу say\n",
    " \n",
    " \n",
    "tom = Cats()\n",
    "tom.say_hello()   "
   ]
  },
  {
   "cell_type": "markdown",
   "metadata": {},
   "source": [
    "## Конструктор\n",
    "\n",
    "Для создания объекта класса используется конструктор. Так, выше когда мы создавали объекты класса `Cats`, мы использовали конструктор по умолчанию, который не принимает параметров и который неявно имеют все классы:"
   ]
  },
  {
   "cell_type": "code",
   "execution_count": 49,
   "metadata": {},
   "outputs": [],
   "source": [
    "tom = Cats()"
   ]
  },
  {
   "cell_type": "markdown",
   "metadata": {},
   "source": [
    "Однако мы можем явным образом определить в классах конструктор с помощью специального метода, который называется `__init__()` (по два прочерка с каждой стороны). К примеру, изменим класс `Cats`, добавив в него конструктор:"
   ]
  },
  {
   "cell_type": "code",
   "execution_count": 50,
   "metadata": {},
   "outputs": [
    {
     "name": "stdout",
     "output_type": "stream",
     "text": [
      "Создание объекта Cats\n",
      "meow\n"
     ]
    }
   ],
   "source": [
    "class Cats:\n",
    "    # конструктор\n",
    "    def __init__(self):\n",
    "        print(\"Создание объекта Cats\")\n",
    " \n",
    "    def say_hello(self):\n",
    "        print(\"meow\")\n",
    "         \n",
    "         \n",
    "tom = Cats()      # Создание объекта Person\n",
    "tom.say_hello()     # Hello"
   ]
  },
  {
   "cell_type": "markdown",
   "metadata": {},
   "source": [
    "Итак, здесь в коде класса Person определен конструктор и метод `say_hello()`. В качестве первого параметра конструктор, как и методы, также принимает ссылку на текущий объект - `self`. Обычно конструкторы применяются для определения действий, которые должны производиться при создании объекта.\n",
    "\n",
    "Теперь при создании объекта будет производится вызов конструктора `__init__()` из класса `Cats`, который выведет на консоль строку \"Создание объекта Cats\"."
   ]
  },
  {
   "cell_type": "code",
   "execution_count": 51,
   "metadata": {},
   "outputs": [
    {
     "name": "stdout",
     "output_type": "stream",
     "text": [
      "Создание объекта Cats\n"
     ]
    },
    {
     "data": {
      "text/plain": [
       "<__main__.Cats at 0x7f77e49e7550>"
      ]
     },
     "execution_count": 51,
     "metadata": {},
     "output_type": "execute_result"
    }
   ],
   "source": [
    "tom = Cats()\n",
    "tom"
   ]
  },
  {
   "cell_type": "markdown",
   "metadata": {},
   "source": [
    "## Атрибуты объекта\n",
    "\n",
    "Атрибуты хранят состояние объекта. Для определения и установки атрибутов внутри класса можно применять слово `self`. Например, определим следующий класс `Cats`:"
   ]
  },
  {
   "cell_type": "code",
   "execution_count": 52,
   "metadata": {},
   "outputs": [
    {
     "name": "stdout",
     "output_type": "stream",
     "text": [
      "Tom\n",
      "1\n",
      "10\n"
     ]
    }
   ],
   "source": [
    "class Cats:\n",
    " \n",
    "    def __init__(self, name):\n",
    "        self.name = name    # имя человека\n",
    "        self.age = 1        # возраст человека\n",
    " \n",
    " \n",
    "tom = Cats(\"Tom\")\n",
    " \n",
    "# обращение к атрибутам\n",
    "# получение значений\n",
    "print(tom.name)\n",
    "print(tom.age)\n",
    "# изменение значения\n",
    "tom.age = 10\n",
    "print(tom.age)"
   ]
  },
  {
   "cell_type": "markdown",
   "metadata": {},
   "source": [
    "Теперь конструктор класса `Cats` принимает еще один параметр - `name`. Через этот параметр в конструктор будет передаваться кличка кошки.\n",
    "\n",
    "Внутри конструктора устанавливаются два атрибута - `name` и `age` (условно кличка и возраст кошки).\n",
    "\n",
    "Атрибуту `self.name` присваивается значение переменной name. Атрибут age получает значение 1.\n",
    "\n",
    "Если мы определили в классе конструктор `__init__`, мы уже не сможем вызвать конструктор по умолчанию. Теперь нам надо вызывать наш явным образом опреледеленный конструктор `__init__`, в который необходимо передать значение для параметра name:"
   ]
  },
  {
   "cell_type": "code",
   "execution_count": 53,
   "metadata": {},
   "outputs": [
    {
     "ename": "TypeError",
     "evalue": "Cats.__init__() missing 1 required positional argument: 'name'",
     "output_type": "error",
     "traceback": [
      "\u001b[0;31m---------------------------------------------------------------------------\u001b[0m",
      "\u001b[0;31mTypeError\u001b[0m                                 Traceback (most recent call last)",
      "Cell \u001b[0;32mIn[53], line 1\u001b[0m\n\u001b[0;32m----> 1\u001b[0m tom \u001b[38;5;241m=\u001b[39m \u001b[43mCats\u001b[49m\u001b[43m(\u001b[49m\u001b[43m)\u001b[49m\n",
      "\u001b[0;31mTypeError\u001b[0m: Cats.__init__() missing 1 required positional argument: 'name'"
     ]
    }
   ],
   "source": [
    "tom = Cats()"
   ]
  },
  {
   "cell_type": "code",
   "execution_count": 54,
   "metadata": {},
   "outputs": [
    {
     "name": "stdout",
     "output_type": "stream",
     "text": [
      "37\n",
      "Tom\n"
     ]
    }
   ],
   "source": [
    "tom = Cats('Tom')\n",
    "tom.age = 37 \n",
    "print(tom.age)\n",
    "print(tom.name)"
   ]
  },
  {
   "cell_type": "markdown",
   "metadata": {},
   "source": [
    "В принципе нам необязательно определять атрибуты внутри класса - Python позволяет сделать это динамически вне кода:"
   ]
  },
  {
   "cell_type": "code",
   "execution_count": 55,
   "metadata": {},
   "outputs": [
    {
     "name": "stdout",
     "output_type": "stream",
     "text": [
      "white\n"
     ]
    }
   ],
   "source": [
    "class Cats:\n",
    " \n",
    "    def __init__(self, name):\n",
    "        self.name = name    # кличка кошки\n",
    "        self.age = 1        # возраст кошки\n",
    " \n",
    " \n",
    "tom = Cats(\"Tom\")\n",
    " \n",
    "tom.color = \"white\"\n",
    "print(tom.color)  # Microsoft"
   ]
  },
  {
   "cell_type": "markdown",
   "metadata": {},
   "source": [
    "Здесь динамически устанавливается атрибут `color`, который хранит место работы человека. И после установки мы также можем получить его значение. В то же время подобное определение чревато ошибками. Например, если мы попытаемся обратиться к атрибуту до его определения, то программа сгенерирует ошибку:"
   ]
  },
  {
   "cell_type": "code",
   "execution_count": 56,
   "metadata": {},
   "outputs": [
    {
     "ename": "TypeError",
     "evalue": "Person.__init__() takes 1 positional argument but 2 were given",
     "output_type": "error",
     "traceback": [
      "\u001b[0;31m---------------------------------------------------------------------------\u001b[0m",
      "\u001b[0;31mTypeError\u001b[0m                                 Traceback (most recent call last)",
      "Cell \u001b[0;32mIn[56], line 1\u001b[0m\n\u001b[0;32m----> 1\u001b[0m tom \u001b[38;5;241m=\u001b[39m \u001b[43mPerson\u001b[49m\u001b[43m(\u001b[49m\u001b[38;5;124;43m\"\u001b[39;49m\u001b[38;5;124;43mTom\u001b[39;49m\u001b[38;5;124;43m\"\u001b[39;49m\u001b[43m)\u001b[49m\n\u001b[1;32m      2\u001b[0m \u001b[38;5;28mprint\u001b[39m(tom\u001b[38;5;241m.\u001b[39mcolor)\n",
      "\u001b[0;31mTypeError\u001b[0m: Person.__init__() takes 1 positional argument but 2 were given"
     ]
    }
   ],
   "source": [
    "tom = Person(\"Tom\")\n",
    "print(tom.color)"
   ]
  },
  {
   "cell_type": "markdown",
   "metadata": {},
   "source": [
    "Для обращения к атрибутам объекта внутри класса в его методах также применяется слово self:"
   ]
  },
  {
   "cell_type": "code",
   "execution_count": 57,
   "metadata": {},
   "outputs": [
    {
     "name": "stdout",
     "output_type": "stream",
     "text": [
      "Name: Tom, Age: 1\n"
     ]
    }
   ],
   "source": [
    "class Cats:\n",
    "    # атрибуты экземпляра\n",
    "    def __init__(self, name):\n",
    "        self.name = name    # кличка кошки\n",
    "        self.age = 1        # возраст кошки\n",
    "    \n",
    "    # метод экземпляра\n",
    "    def display_info(self):\n",
    "        print(f\"Name: {self.name}, Age: {self.age}\")\n",
    " \n",
    " \n",
    "tom = Cats(\"Tom\")\n",
    "tom.display_info()      "
   ]
  },
  {
   "cell_type": "markdown",
   "metadata": {},
   "source": [
    "Здесь определяется метод `display_info()`, который выводит информацию на консоль. И для обращения в методе к атрибутам объекта применяется слово `self`: `self.name` и `self.age`"
   ]
  },
  {
   "cell_type": "markdown",
   "metadata": {},
   "source": [
    "## Создание различных объектов\n",
    "\n",
    "Выше создавался один объект. Но подобным образом можно создавать и другие объекты класса:"
   ]
  },
  {
   "cell_type": "code",
   "execution_count": 58,
   "metadata": {},
   "outputs": [
    {
     "name": "stdout",
     "output_type": "stream",
     "text": [
      "Name: Tom, Age: 5\n",
      "Name: Bella, Age: 3\n"
     ]
    }
   ],
   "source": [
    "class Cats:\n",
    " \n",
    "    def __init__(self, name):\n",
    "        self.name = name    # кличка кошки\n",
    "        self.age = 1        # возраст кошки\n",
    "     \n",
    "    def display_info(self):\n",
    "        print(f\"Name: {self.name}, Age: {self.age}\")\n",
    " \n",
    " \n",
    "tom = Cats(\"Tom\")\n",
    "tom.age = 5\n",
    "tom.display_info()      \n",
    " \n",
    "bella = Cats(\"Bella\")\n",
    "bella.age = 3\n",
    "bella.display_info()      "
   ]
  },
  {
   "cell_type": "markdown",
   "metadata": {},
   "source": [
    "# Примеры\n",
    "\n",
    "## Создадим класс"
   ]
  },
  {
   "cell_type": "code",
   "execution_count": 67,
   "metadata": {},
   "outputs": [
    {
     "name": "stdout",
     "output_type": "stream",
     "text": [
      "Тузик — собака\n",
      "Мухтар тоже собака\n",
      " \n",
      "Тузик — 6-летний пес\n",
      "Мухтар — 8 летний пес\n",
      " \n",
      "Тузик лает громко\n",
      "Мухтар танцует\n"
     ]
    }
   ],
   "source": [
    "# Создаем класс и его объекты\n",
    "class Dogs:\n",
    "\n",
    "    # атрибуты класса\n",
    "    species = \"собака\"\n",
    "\n",
    "    # атрибуты экземпляра\n",
    "    def __init__(self, name, age):\n",
    "        self.name = name\n",
    "        self.age = age\n",
    "            \n",
    "    # метод экземпляра\n",
    "    def sing(self, song):\n",
    "        return \"{} лает {}\".format(self.name, song)\n",
    "\n",
    "    def dance(self):\n",
    "        return \"{} танцует\".format(self.name)\n",
    "\n",
    "# создаем экземпляра класса\n",
    "tuzik = Dogs(\"Тузик\", 6)\n",
    "muhtar = Dogs(\"Мухтар\", 8)\n",
    "\n",
    "# получаем доступ к атрибутам класса\n",
    "print(\"Тузик — {}\".format(tuzik.__class__.species))\n",
    "print(\"Мухтар тоже {}\".format(muhtar.__class__.species))\n",
    "print(\" \")\n",
    "# получаем доступ к атрибутам экземпляра\n",
    "print(\"{} — {}-летний пес\".format(tuzik.name, tuzik.age))\n",
    "print(\"{} — {} летний пес\".format(muhtar.name, muhtar.age))\n",
    "print(\" \")\n",
    "# вызываем методы экземпляра\n",
    "print(tuzik.sing('громко'))\n",
    "print(muhtar.dance())"
   ]
  },
  {
   "cell_type": "markdown",
   "metadata": {},
   "source": [
    "## Наследование\n",
    "\n",
    "Наследование — способ создания класса. Его суть заключается в том, что функциональность нового класса наследуются от уже существующего класса. Новый класс называется производным (дочерним). Существующий — базовым (родительским).\n",
    "\n",
    "Встроенная функция `super()` возвращает временный объект, который позволяет нам получить доступ к методам базового класса."
   ]
  },
  {
   "cell_type": "code",
   "execution_count": 70,
   "metadata": {},
   "outputs": [
    {
     "name": "stdout",
     "output_type": "stream",
     "text": [
      "Птица готова\n",
      "Пингвин готов\n",
      "--------------\n",
      "Пингвин\n",
      "--------------\n",
      "Плывет быстрее\n",
      "--------------\n",
      "Бежит быстрее\n"
     ]
    }
   ],
   "source": [
    "# родительский класс\n",
    "class Bird:\n",
    "    \n",
    "    def __init__(self):\n",
    "        print(\"Птица готова\")\n",
    "\n",
    "    def whoisThis(self):\n",
    "        print(\"Птица\")\n",
    "\n",
    "    def swim(self):\n",
    "        print(\"Плывет быстрее\")\n",
    "\n",
    "# дочерний класс\n",
    "class Penguin(Bird):\n",
    "\n",
    "    def __init__(self):\n",
    "        # вызов функции super() \n",
    "        super().__init__()\n",
    "        print(\"Пингвин готов\")\n",
    "\n",
    "    def whoisThis(self):\n",
    "        print(\"Пингвин\")\n",
    "\n",
    "    def run(self):\n",
    "        print(\"Бежит быстрее\")\n",
    "\n",
    "peggy = Penguin()\n",
    "print('--------------')\n",
    "peggy.whoisThis()\n",
    "print('--------------')\n",
    "peggy.swim()\n",
    "print('--------------')\n",
    "peggy.run()"
   ]
  },
  {
   "cell_type": "markdown",
   "metadata": {},
   "source": [
    "В этой программе мы создаем два класса — `Bird` (родительский) и `Penguin` (дочерний). Дочерний класс наследует функции родительского. Это вы можете заметить по методу `swim()`, который неопределен в классе `Penguin`.\n",
    "\n",
    "Однако и дочерний класс изменяет функциональность родительского. Это можно заметить по методу `whoisThis()`. Более того, мы расширяем функциональность родительского класса — создаем метод `run()`.\n",
    "\n",
    "Также мы используем функцию `super()` внутри метода `__init__()`. Это позволяет запускать метод `__init__()` родительского класса внутри дочернего."
   ]
  },
  {
   "cell_type": "markdown",
   "metadata": {},
   "source": [
    "## Инкапсуляция\n",
    "\n",
    "Мы можем ограничить доступ к методам и переменным, что предотвратит модификацию данных — это и есть инкапсуляция. Приватные атрибуты выделяются нижним подчеркиванием: одинарным `_` или двойным `__`. "
   ]
  },
  {
   "cell_type": "code",
   "execution_count": 73,
   "metadata": {},
   "outputs": [
    {
     "name": "stdout",
     "output_type": "stream",
     "text": [
      "Цена продажи: 1000\n",
      "Цена продажи: 1000\n",
      "Цена продажи: 2000\n"
     ]
    }
   ],
   "source": [
    "# Используем инкапсуляцию данных\n",
    "class Computer:\n",
    "\n",
    "    def __init__(self):\n",
    "        self.__maxprice = 1000\n",
    "\n",
    "    def sell(self):\n",
    "        print(\"Цена продажи: {}\".format(self.__maxprice))\n",
    "\n",
    "    def setMaxPrice(self, price):\n",
    "        self.__maxprice = price\n",
    "\n",
    "c = Computer()\n",
    "c.sell()\n",
    "\n",
    "# изменение цены\n",
    "c.__maxprice = 1500\n",
    "c.sell()\n",
    "\n",
    "# используем функцию изменения цены\n",
    "c.setMaxPrice(2000)\n",
    "c.sell()"
   ]
  },
  {
   "cell_type": "markdown",
   "metadata": {},
   "source": [
    "Мы объявили класс `Computer`. \n",
    "\n",
    "Затем мы использовали метод `__init__()` для хранения максимальной цены компьютера. Затем мы попытались изменить цену — безуспешно: Python воспринимает `__maxprice` как приватный атрибут. \n",
    "\n",
    "Как видите, для изменения цены нам нужно использовать специальную функцию — `setMaxPrice()`, которая принимает цену в качестве параметра."
   ]
  },
  {
   "cell_type": "markdown",
   "metadata": {},
   "source": [
    "## Полиморфизм\n",
    "\n",
    "Полиморфизм — особенность ООП, позволяющая использовать одну функцию для разных форм (типов данных).\n",
    "\n",
    "Допустим, нам нужно закрасить фигуру. Их форма может быть любой: прямоугольник, квадрат, круг. Одним и тем же методом мы можем раскрасить любую фигуру. Такой принцип и называется полиморфизмом."
   ]
  },
  {
   "cell_type": "code",
   "execution_count": 74,
   "metadata": {},
   "outputs": [
    {
     "name": "stdout",
     "output_type": "stream",
     "text": [
      "Попугай умеет летать\n",
      "Пингвин не умеет летать\n"
     ]
    }
   ],
   "source": [
    "# Используем полиморфизм\n",
    "class Parrot:\n",
    "\n",
    "    def fly(self):\n",
    "        print(\"Попугай умеет летать\")\n",
    "    \n",
    "    def swim(self):\n",
    "        print(\"Попугай не умеет плавать\")\n",
    "\n",
    "class Penguin:\n",
    "\n",
    "    def fly(self):\n",
    "        print(\"Пингвин не умеет летать\")\n",
    "    \n",
    "    def swim(self):\n",
    "        print(\"Пингвин умеет плавать\")\n",
    "\n",
    "# общий интерфейс \n",
    "def flying_test(bird):\n",
    "    bird.fly()\n",
    "\n",
    "# создаем экземпляров класса\n",
    "kesha = Parrot()\n",
    "peggy = Penguin()\n",
    "\n",
    "# передача объектов в качестве аргумента\n",
    "flying_test(kesha)\n",
    "flying_test(peggy)"
   ]
  },
  {
   "cell_type": "markdown",
   "metadata": {},
   "source": [
    "**Что нужно запомнить:**\n",
    "\n",
    "Объектно-ориентированное программирование упрощает понимание программы, делает ее эффективнее. \n",
    "- Все классы являются общими — код можно использовать повторно. \n",
    "- Все данные находятся в сохранности и защищены благодаря абстракции.\n",
    "- Полиморфизм предоставляет общий интерфейс разным объектам, что делает код эффективнее. "
   ]
  },
  {
   "cell_type": "code",
   "execution_count": null,
   "metadata": {},
   "outputs": [],
   "source": []
  }
 ],
 "metadata": {
  "kernelspec": {
   "display_name": "Python 3 (ipykernel)",
   "language": "python",
   "name": "python3"
  },
  "language_info": {
   "codemirror_mode": {
    "name": "ipython",
    "version": 3
   },
   "file_extension": ".py",
   "mimetype": "text/x-python",
   "name": "python",
   "nbconvert_exporter": "python",
   "pygments_lexer": "ipython3",
   "version": "3.10.9"
  }
 },
 "nbformat": 4,
 "nbformat_minor": 4
}
