{
 "cells": [
  {
   "cell_type": "code",
   "execution_count": 2,
   "metadata": {},
   "outputs": [],
   "source": [
    "import numpy as np\n",
    "import matplotlib.pyplot as plt"
   ]
  },
  {
   "cell_type": "code",
   "execution_count": 5,
   "metadata": {},
   "outputs": [
    {
     "data": {
      "image/png": "[encoded data removed]",
      "text/plain": [
       "<Figure size 432x288 with 1 Axes>"
      ]
     },
     "metadata": {
      "needs_background": "light"
     },
     "output_type": "display_data"
    },
    {
     "name": "stdout",
     "output_type": "stream",
     "text": [
      "Максимальное значение на тректории: 461.0\n",
      "Минимальное значение на траектории: -39.0\n",
      "Значение индекса, начиная с которого впервые было сделано более 10 шагов в одном направлении 1\n",
      "Значение индекса, начиная с которого было сделано максимальное число шагов в одном направлении 100\n"
     ]
    }
   ],
   "source": [
    "np.random.seed(42)\n",
    "#создаем массив из шагов\n",
    "diff = np.random.choice([-1,1],1000)\n",
    "#шаг с индексом 0 равено 0\n",
    "diff[0] = 0\n",
    "#высчитываем траекторию\n",
    "x = np.cumsum(diff)\n",
    "\n",
    "\n",
    "\n",
    "### мой тест\n",
    "\n",
    "my_list = np.zeros(1000)\n",
    "my_list[1:20] = -1\n",
    "my_list[20:50] = 1\n",
    "my_list[50:100] = -1\n",
    "my_list[100:300] = 1\n",
    "my_list[300:500] = -1\n",
    "my_list[500:1000] = 1\n",
    "\n",
    "x = np.cumsum(my_list)\n",
    "diff = my_list\n",
    "\n",
    "\n",
    "\n",
    "\n",
    "#текущий минимум и его индекс\n",
    "x_min = x[0]\n",
    "ind_min = 0\n",
    "#текущий максимум и его индекс\n",
    "x_max = x[0]\n",
    "ind_max = 0\n",
    "#текущее количество шагов в одном направлении\n",
    "n_step = 1\n",
    "#текущее максимальное количество шагов в одном направлении\n",
    "max_step = 1\n",
    "#индекс шага с которого началась первая серия в 10 шагов в одну сторону\n",
    "t_step_start= -1\n",
    "#индекс шага на котором эта серия закончилась\n",
    "t_step_finish = -1\n",
    "flag = False\n",
    "#аналогично для самой длинной серии шагов в одну сторону\n",
    "max_step_start = 1\n",
    "max_step_finish = 1\n",
    "#начинаем итерацию с 1 индекса\n",
    "for i in range(1,len(x)):\n",
    "    #по возможности обновляем текущие максимумы и минимумы и их индексы\n",
    "    if x[i] > x_max:\n",
    "        x_max = x[i]\n",
    "        ind_max = i\n",
    "    if x[i] < x_min:\n",
    "        x_min = x[i]\n",
    "        ind_min = i\n",
    "    #если шаг был сделан в том же направлении, что и предыдущий\n",
    "    if diff[i] == diff[i - 1]:\n",
    "        #увеличиваем текущее количество шагов в одну сторону\n",
    "        n_step += 1\n",
    "        #если мы в первый раз сделали серию больше чем в 10 шагов\n",
    "        if (max_step) < 11 and (n_step == 11):\n",
    "            #тогда фиксируем начало нашей серии и потом отметим конец\n",
    "            t_step_start = i - 10\n",
    "            flag = True\n",
    "    else:\n",
    "        #отмечаем последний шаг серии если это нужно\n",
    "        if flag == True:\n",
    "            t_step_finish = i - 1\n",
    "            flag = False\n",
    "        #если нашагали больше чем текущий максимум тоже отмечаем это - \n",
    "        if n_step > max_step:\n",
    "            max_step = n_step\n",
    "            max_step_start = i - n_step\n",
    "            max_step_finish = i - 1\n",
    "        #новое количество шагов в одну сторону\n",
    "        n_step = 1\n",
    "        \n",
    "plt.plot(range(1000), x[:1000])\n",
    "plt.scatter([ind_min, ind_max], [x_min,x_max], c = \"red\")\n",
    "plt.plot(range(max_step_start, max_step_finish + 1), x[max_step_start:(max_step_finish + 1)])\n",
    "if t_step_start != - 1:\n",
    "    plt.plot(range(t_step_start, t_step_finish + 1), x[t_step_start:(t_step_finish + 1)])\n",
    "plt.show()\n",
    "\n",
    "print(\"Максимальное значение на тректории:\", x_max)\n",
    "print(\"Минимальное значение на траектории:\", x_min)\n",
    "if t_step_start != -1:\n",
    "    print(\"Значение индекса, начиная с которого впервые было сделано более 10 шагов в одном направлении\", t_step_start)\n",
    "else:\n",
    "    print(\"Максимальное количество шагов в одном направлении не превысило 10\")\n",
    "print(\"Значение индекса, начиная с которого было сделано максимальное число шагов в одном направлении\", max_step_start)"
   ]
  },
  {
   "cell_type": "code",
   "execution_count": null,
   "metadata": {},
   "outputs": [],
   "source": []
  }
 ],
 "metadata": {
  "kernelspec": {
   "display_name": "Python 3",
   "language": "python",
   "name": "python3"
  },
  "language_info": {
   "codemirror_mode": {
    "name": "ipython",
    "version": 3
   },
   "file_extension": ".py",
   "mimetype": "text/x-python",
   "name": "python",
   "nbconvert_exporter": "python",
   "pygments_lexer": "ipython3",
   "version": "3.8.3"
  }
 },
 "nbformat": 4,
 "nbformat_minor": 4
}
