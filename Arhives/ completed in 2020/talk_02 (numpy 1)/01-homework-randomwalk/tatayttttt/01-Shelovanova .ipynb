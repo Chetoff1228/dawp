{
 "cells": [
  {
   "cell_type": "markdown",
   "metadata": {},
   "source": [
    "## Домашняя работа №1"
   ]
  },
  {
   "cell_type": "code",
   "execution_count": 22,
   "metadata": {},
   "outputs": [],
   "source": [
    "import numpy as np\n",
    "import matplotlib as mpl\n",
    "import random as rd\n",
    "import array\n",
    "import matplotlib.pyplot as plt"
   ]
  },
  {
   "cell_type": "markdown",
   "metadata": {},
   "source": [
    "##### Задание 1. Найти максимальное и минимальное значение (глобальное) на траектории. Визуализировать эти точки на графике (желательно их подписать)."
   ]
  },
  {
   "cell_type": "code",
   "execution_count": 23,
   "metadata": {},
   "outputs": [],
   "source": [
    "np.random.seed(42)\n",
    "vector=np.append(0, np.random.choice([-1,1], size=1000).cumsum());# с помощью функции np.random.choice генерируем вектор из -1 и 1\n",
    "                                                                  # с помощью np.append добавляем в вектор 1-ый элемент 0 \n",
    "    \n",
    "### мой тест\n",
    "\n",
    "my_list = np.zeros(1000)\n",
    "my_list[1:20] = 1\n",
    "my_list[20:50] = -1\n",
    "my_list[50:100] = -1\n",
    "my_list[100:300] = -1\n",
    "my_list[300:500] = 1\n",
    "my_list[500:1000] = -1\n",
    "\n",
    "vector = np.cumsum(my_list)\n",
    "put = my_list    "
   ]
  },
  {
   "cell_type": "code",
   "execution_count": 24,
   "metadata": {},
   "outputs": [
    {
     "name": "stdout",
     "output_type": "stream",
     "text": [
      "-561.0 MIN\n",
      "19.0 MAX\n"
     ]
    },
    {
     "data": {
      "text/plain": [
       "Text(700, 39, 'global max')"
      ]
     },
     "execution_count": 24,
     "metadata": {},
     "output_type": "execute_result"
    },
    {
     "data": {
      "image/png": "[encoded data removed]",
      "text/plain": [
       "<Figure size 432x288 with 1 Axes>"
      ]
     },
     "metadata": {
      "needs_background": "light"
     },
     "output_type": "display_data"
    }
   ],
   "source": [
    "print(min(vector),\"MIN\")\n",
    "print(max(vector), \"MAX\")\n",
    "markers_on = [np.argmin(vector),np.argmax(vector)]#определяем наибольшее и наимеьшее значения в массиве 'vector' с помощь функции np.argmax\n",
    "plt.plot(vector, 'k--', markevery=markers_on, marker='D', markerfacecolor='red')# c помощью функции markervery ставим точкина графике максимального и минималного значения по оси у на графике \n",
    "plt.text(40, -10, 'global min',\n",
    "        verticalalignment='bottom', horizontalalignment='left',\n",
    "        color='red', fontsize=11)\n",
    "plt.text(700, 39, 'global max',\n",
    "        verticalalignment='bottom', horizontalalignment='right',\n",
    "        color='red', fontsize=11)"
   ]
  },
  {
   "cell_type": "markdown",
   "metadata": {},
   "source": [
    "##### Задание 2. Найти значение индекса, начиная с которого будет сделано свыше 10 шагов в одну сторону. Визуализировать эти шаги на графике (достаночно другим цветом на графике выделить данный участок, желательно его подписать)."
   ]
  },
  {
   "cell_type": "markdown",
   "metadata": {},
   "source": [
    "###### Проверим для движения вправо (+1)"
   ]
  },
  {
   "cell_type": "code",
   "execution_count": 25,
   "metadata": {},
   "outputs": [
    {
     "name": "stdout",
     "output_type": "stream",
     "text": [
      "0\n",
      "1\n",
      "2\n",
      "3\n",
      "4\n",
      "5\n",
      "6\n",
      "7\n",
      "8\n",
      "299\n",
      "300\n",
      "301\n",
      "302\n",
      "303\n",
      "304\n",
      "305\n",
      "306\n",
      "307\n",
      "308\n",
      "309\n",
      "310\n",
      "311\n",
      "312\n",
      "313\n",
      "314\n",
      "315\n",
      "316\n",
      "317\n",
      "318\n",
      "319\n",
      "320\n",
      "321\n",
      "322\n",
      "323\n",
      "324\n",
      "325\n",
      "326\n",
      "327\n",
      "328\n",
      "329\n",
      "330\n",
      "331\n",
      "332\n",
      "333\n",
      "334\n",
      "335\n",
      "336\n",
      "337\n",
      "338\n",
      "339\n",
      "340\n",
      "341\n",
      "342\n",
      "343\n",
      "344\n",
      "345\n",
      "346\n",
      "347\n",
      "348\n",
      "349\n",
      "350\n",
      "351\n",
      "352\n",
      "353\n",
      "354\n",
      "355\n",
      "356\n",
      "357\n",
      "358\n",
      "359\n",
      "360\n",
      "361\n",
      "362\n",
      "363\n",
      "364\n",
      "365\n",
      "366\n",
      "367\n",
      "368\n",
      "369\n",
      "370\n",
      "371\n",
      "372\n",
      "373\n",
      "374\n",
      "375\n",
      "376\n",
      "377\n",
      "378\n",
      "379\n",
      "380\n",
      "381\n",
      "382\n",
      "383\n",
      "384\n",
      "385\n",
      "386\n",
      "387\n",
      "388\n",
      "389\n",
      "390\n",
      "391\n",
      "392\n",
      "393\n",
      "394\n",
      "395\n",
      "396\n",
      "397\n",
      "398\n",
      "399\n",
      "400\n",
      "401\n",
      "402\n",
      "403\n",
      "404\n",
      "405\n",
      "406\n",
      "407\n",
      "408\n",
      "409\n",
      "410\n",
      "411\n",
      "412\n",
      "413\n",
      "414\n",
      "415\n",
      "416\n",
      "417\n",
      "418\n",
      "419\n",
      "420\n",
      "421\n",
      "422\n",
      "423\n",
      "424\n",
      "425\n",
      "426\n",
      "427\n",
      "428\n",
      "429\n",
      "430\n",
      "431\n",
      "432\n",
      "433\n",
      "434\n",
      "435\n",
      "436\n",
      "437\n",
      "438\n",
      "439\n",
      "440\n",
      "441\n",
      "442\n",
      "443\n",
      "444\n",
      "445\n",
      "446\n",
      "447\n",
      "448\n",
      "449\n",
      "450\n",
      "451\n",
      "452\n",
      "453\n",
      "454\n",
      "455\n",
      "456\n",
      "457\n",
      "458\n",
      "459\n",
      "460\n",
      "461\n",
      "462\n",
      "463\n",
      "464\n",
      "465\n",
      "466\n",
      "467\n",
      "468\n",
      "469\n",
      "470\n",
      "471\n",
      "472\n",
      "473\n",
      "474\n",
      "475\n",
      "476\n",
      "477\n",
      "478\n",
      "479\n",
      "480\n",
      "481\n",
      "482\n",
      "483\n",
      "484\n",
      "485\n",
      "486\n",
      "487\n",
      "488\n"
     ]
    }
   ],
   "source": [
    "found=set()# генерируем вектор от 0 до 989, что будет представлять упорядоченный набор индексов ключевого вектора \"vector\"\n",
    "for i in range(0, 989):\n",
    "                    found.add(i)\n",
    "index=list(found)\n",
    "index#\n",
    "found=set()\n",
    "for i in index:\n",
    "    if vector[i+11]-vector[i]==11:  #свыше 10 шагов в одну сторону будет сделано в тот момент,\n",
    "                                    #когда в векоре \"vector\" 1 или -1 выпадет 11 раз подряд или когда в кумулятивной сумме\n",
    "                                    #приращение двух элементов, отсноящих друг от друга на 10 шагов, составит 11\n",
    "                                    #собираем индексы вектора 'vector', начиная с которых было сделано 11 шагов +1\n",
    "                    print(i)"
   ]
  },
  {
   "cell_type": "markdown",
   "metadata": {},
   "source": [
    "###### Проверим для движения влево (-1)"
   ]
  },
  {
   "cell_type": "code",
   "execution_count": 26,
   "metadata": {},
   "outputs": [
    {
     "name": "stdout",
     "output_type": "stream",
     "text": [
      "влево(-1) not found\n"
     ]
    }
   ],
   "source": [
    "found=set()# генерируем вектор от 0 до 989, что будет представлять упорядоченный набор индексов ключевого вектора \"vector\"\n",
    "for i in range(0, 989):\n",
    "                    found.add(i)\n",
    "index=list(found)\n",
    "index#\n",
    "found=set()\n",
    "for i in index:\n",
    "    if vector[i]-vector[i+11]==11:  #свыше 10 шагов в одну сторону будет сделано в тот момент,\n",
    "                                    #когда в векоре \"vector\" 1 или -1 выпадет 11 раз подряд или когда в кумулятивной сумме\n",
    "                                    #приращение двух элементов, отсноящих друг от друга на 10 шагов, составит 11\n",
    "            print(i)                #собираем индексы вектора 'vector', начиная с которых было сделано 11 шагов -1\n",
    "    else:\n",
    "        print(\"влево(-1) not found\")\n",
    "    break"
   ]
  },
  {
   "cell_type": "markdown",
   "metadata": {},
   "source": [
    "###### Индекс 88- это первый индекс,  начиная с которого будет сделано свыше 10 шагов в одну сторону. Теперь найдём до какого индекса продолжались шаги в одну торону."
   ]
  },
  {
   "cell_type": "code",
   "execution_count": 27,
   "metadata": {},
   "outputs": [
    {
     "name": "stdout",
     "output_type": "stream",
     "text": [
      "88 -до данного индекса продолжались шаги +1, начиная с индекса 88\n"
     ]
    }
   ],
   "source": [
    "#### Почему индекс фиксирован ????\n",
    "\n",
    "\n",
    "found=set()\n",
    "for i in range(88, 999):\n",
    "                    found.add(i)\n",
    "index=list(found)\n",
    "index\n",
    "found=set()\n",
    "for i in index:\n",
    "    if vector[i+1]-vector[i]==1:\n",
    "        i\n",
    "    else:\n",
    "        print(i,'-до данного индекса продолжались шаги +1, начиная с индекса 88')\n",
    "        break"
   ]
  },
  {
   "cell_type": "code",
   "execution_count": 28,
   "metadata": {},
   "outputs": [
    {
     "data": {
      "text/plain": [
       "Text(70, 30, 'свыше 10 шагов в одну сторону')"
      ]
     },
     "execution_count": 28,
     "metadata": {},
     "output_type": "execute_result"
    },
    {
     "data": {
      "image/png": "[encoded data removed]",
      "text/plain": [
       "<Figure size 432x288 with 1 Axes>"
      ]
     },
     "metadata": {
      "needs_background": "light"
     },
     "output_type": "display_data"
    }
   ],
   "source": [
    "markers_on = [np.argmin(vector),np.argmax(vector)]\n",
    "plt.plot(vector, 'k--', markevery=markers_on, marker='D', markerfacecolor='red')\n",
    "plt.axvspan(88, 99, color='green', alpha=0.5)\n",
    "plt.text(70, 30, 'свыше 10 шагов в одну сторону',\n",
    "        verticalalignment='bottom', horizontalalignment='left',\n",
    "        color='green', fontsize=11)"
   ]
  },
  {
   "cell_type": "markdown",
   "metadata": {},
   "source": [
    "###### Задание 3. Найти значение индекса, с которого будет сделано максимальное количество шагов в одну сторону. Визуализировать эти шаги на графике (достаночно другим цветом на графике выделить данный участок, желательно его подписать)."
   ]
  },
  {
   "cell_type": "code",
   "execution_count": 29,
   "metadata": {},
   "outputs": [
    {
     "name": "stdout",
     "output_type": "stream",
     "text": [
      "0 -количество шагов (+1) в одну сторону, начиная с индекса 88\n"
     ]
    }
   ],
   "source": [
    "#### Почему индекс фиксирован ????\n",
    "\n",
    "\n",
    "\n",
    "#Нужно проверить, для какого из ранее найденных индексов (88 или 984) количество шаговов, сделанных в оду сторону, наибольшее\n",
    "found=set()\n",
    "for i in range(88, 999):\n",
    "                    found.add(i)\n",
    "index=list(found)\n",
    "index\n",
    "found=set()\n",
    "for i in index:\n",
    "    if vector[i+1]-vector[i]==1:\n",
    "        i\n",
    "    else:\n",
    "        print(i-88, '-количество шагов (+1) в одну сторону, начиная с индекса 88')\n",
    "        break"
   ]
  },
  {
   "cell_type": "code",
   "execution_count": 30,
   "metadata": {},
   "outputs": [
    {
     "name": "stdout",
     "output_type": "stream",
     "text": [
      "8 -количество шагов (+1) в одну сторону, начиная с индекса 984\n"
     ]
    }
   ],
   "source": [
    "#### Почему индекс фиксирован ????\n",
    "\n",
    "found=set()\n",
    "for i in range(984, 999):\n",
    "                    found.add(i)\n",
    "index=list(found)\n",
    "index\n",
    "found=set()\n",
    "for i in index:\n",
    "    if vector[i+1]-vector[i]==1:\n",
    "        i\n",
    "    else:\n",
    "        print(i-984, '-количество шагов (+1) в одну сторону, начиная с индекса 984')\n",
    "        break"
   ]
  },
  {
   "cell_type": "code",
   "execution_count": 31,
   "metadata": {},
   "outputs": [
    {
     "data": {
      "text/plain": [
       "Text(110, 30, 'макс.число шагов')"
      ]
     },
     "execution_count": 31,
     "metadata": {},
     "output_type": "execute_result"
    },
    {
     "data": {
      "image/png": "[encoded data removed]",
      "text/plain": [
       "<Figure size 432x288 with 1 Axes>"
      ]
     },
     "metadata": {
      "needs_background": "light"
     },
     "output_type": "display_data"
    }
   ],
   "source": [
    "markers_on = [np.argmin(vector),np.argmax(vector)]\n",
    "plt.plot(vector, 'k--', markevery=markers_on, marker='D', markerfacecolor='red')\n",
    "plt.axvspan(88, 99, color='blue', alpha=0.5)\n",
    "plt.axvspan(984, 995, color='blue', alpha=0.5) #поскольку и индекс 88, и индекс 984 - индексы,\n",
    "                                               #визуализируем интервалы одноторонних шагов для обоих из них.\n",
    "plt.text(110, 30, 'макс.число шагов',\n",
    "        verticalalignment='bottom', horizontalalignment='left',\n",
    "        color='blue', fontsize=11)"
   ]
  },
  {
   "cell_type": "code",
   "execution_count": null,
   "metadata": {},
   "outputs": [],
   "source": []
  },
  {
   "cell_type": "code",
   "execution_count": null,
   "metadata": {},
   "outputs": [],
   "source": []
  }
 ],
 "metadata": {
  "kernelspec": {
   "display_name": "Python 3",
   "language": "python",
   "name": "python3"
  },
  "language_info": {
   "codemirror_mode": {
    "name": "ipython",
    "version": 3
   },
   "file_extension": ".py",
   "mimetype": "text/x-python",
   "name": "python",
   "nbconvert_exporter": "python",
   "pygments_lexer": "ipython3",
   "version": "3.8.3"
  }
 },
 "nbformat": 4,
 "nbformat_minor": 4
}
