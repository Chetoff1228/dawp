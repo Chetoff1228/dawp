{
 "cells": [
  {
   "cell_type": "code",
   "execution_count": 10,
   "metadata": {},
   "outputs": [
    {
     "name": "stdout",
     "output_type": "stream",
     "text": [
      "Почему на шаг больше : (1001,)\n",
      "Макимальное значение на траектории:37\n",
      "Минимальное значение на траектории:-12\n"
     ]
    },
    {
     "ename": "NameError",
     "evalue": "name 'z' is not defined",
     "output_type": "error",
     "traceback": [
      "\u001b[0;31m---------------------------------------------------------------------------\u001b[0m",
      "\u001b[0;31mNameError\u001b[0m                                 Traceback (most recent call last)",
      "\u001b[0;32m<ipython-input-10-50e16f55456a>\u001b[0m in \u001b[0;36m<module>\u001b[0;34m\u001b[0m\n\u001b[1;32m     51\u001b[0m \u001b[0mprint\u001b[0m\u001b[0;34m(\u001b[0m\u001b[0;34m\"Макимальное значение на траектории:\"\u001b[0m \u001b[0;34m+\u001b[0m \u001b[0mstr\u001b[0m\u001b[0;34m(\u001b[0m\u001b[0mmax_steps\u001b[0m\u001b[0;34m)\u001b[0m\u001b[0;34m)\u001b[0m\u001b[0;34m\u001b[0m\u001b[0;34m\u001b[0m\u001b[0m\n\u001b[1;32m     52\u001b[0m \u001b[0mprint\u001b[0m\u001b[0;34m(\u001b[0m\u001b[0;34m\"Минимальное значение на траектории:\"\u001b[0m \u001b[0;34m+\u001b[0m \u001b[0mstr\u001b[0m\u001b[0;34m(\u001b[0m\u001b[0mmin_steps\u001b[0m\u001b[0;34m)\u001b[0m\u001b[0;34m)\u001b[0m\u001b[0;34m\u001b[0m\u001b[0;34m\u001b[0m\u001b[0m\n\u001b[0;32m---> 53\u001b[0;31m \u001b[0mprint\u001b[0m\u001b[0;34m(\u001b[0m\u001b[0;34m\"Значение индекса, начиная с которого будет сделано свыше 10 шагов в одну сторону: \"\u001b[0m \u001b[0;34m+\u001b[0m\u001b[0mstr\u001b[0m\u001b[0;34m(\u001b[0m\u001b[0mz\u001b[0m\u001b[0;34m)\u001b[0m\u001b[0;34m)\u001b[0m\u001b[0;34m\u001b[0m\u001b[0;34m\u001b[0m\u001b[0m\n\u001b[0m\u001b[1;32m     54\u001b[0m \u001b[0mprint\u001b[0m\u001b[0;34m(\u001b[0m\u001b[0;34m\"Значение индекса, с которого будет сделано максимальное количество шагов в одну сторону: \"\u001b[0m \u001b[0;34m+\u001b[0m\u001b[0mstr\u001b[0m\u001b[0;34m(\u001b[0m\u001b[0mt_max_index\u001b[0m\u001b[0;34m)\u001b[0m\u001b[0;34m)\u001b[0m\u001b[0;34m\u001b[0m\u001b[0;34m\u001b[0m\u001b[0m\n\u001b[1;32m     55\u001b[0m \u001b[0;34m\u001b[0m\u001b[0m\n",
      "\u001b[0;31mNameError\u001b[0m: name 'z' is not defined"
     ]
    }
   ],
   "source": [
    "import numpy as np\n",
    "import matplotlib.pyplot as plt\n",
    "np.random.seed(42)\n",
    "n=1000\n",
    "random_walk = np.append(0,np.random.choice(a = [-1,1],size = n, replace = True, p=[0.5,0.5]))\n",
    "cum_walk = np.cumsum(random_walk)\n",
    "\n",
    "\n",
    "### мой тест\n",
    "### все равно не проверить\n",
    "\n",
    "# my_list = np.zeros(1001)\n",
    "# my_list[1:100] = 1\n",
    "# my_list[100:300] = -1\n",
    "# my_list[300:550] = 1\n",
    "# my_list[550:1000] = -1\n",
    "\n",
    "# random_walk = my_list\n",
    "# cum_walk = np.cumsum(my_list)\n",
    "\n",
    "print (\"Почему на шаг больше :\", random_walk.shape)\n",
    "\n",
    "\n",
    "\n",
    "max_steps = max(cum_walk)\n",
    "max_index = np.transpose(np.where(cum_walk == max_steps)).flatten()\n",
    "min_steps = min(cum_walk)\n",
    "y_max_array = np.repeat(max_steps,len(max_index))\n",
    "min_index = np.transpose(np.where(cum_walk == min_steps)).flatten()\n",
    "y_min_array = np.repeat(min_steps,len(min_index))\n",
    "#Поиск значения индекса где впервые сделано больше 10 шагов в одну сторону \n",
    "for i in range(0,len(cum_walk)-11):\n",
    "    if np.absolute(cum_walk[i]-cum_walk[i+11])>=11:\n",
    "        tsi = i # ten step's index\n",
    "        break\n",
    "    else:\n",
    "        tsi=None\n",
    "#Поиск значения индекс начиная с которого сделано больше всего шагов в одну сторону\n",
    "t_max = 0\n",
    "t_max_index = 0 \n",
    "for i in range(1,n):\n",
    "    t=1\n",
    "    while random_walk[i] == random_walk[i-1]:\n",
    "        t = t+1\n",
    "        i= i+1\n",
    "    \n",
    "    if t > t_max:\n",
    "        t_max = t\n",
    "        t_max_index = (i-1) - t\n",
    "\n",
    "print(\"Макимальное значение на траектории:\" + str(max_steps))\n",
    "print(\"Минимальное значение на траектории:\" + str(min_steps))\n",
    "print(\"Значение индекса, начиная с которого будет сделано свыше 10 шагов в одну сторону: \" +str(z))\n",
    "print(\"Значение индекса, с которого будет сделано максимальное количество шагов в одну сторону: \" +str(t_max_index))\n",
    "\n",
    "fig = plt.figure(figsize = (25,10))\n",
    "ax = fig.add_subplot(1, 1, 1)\n",
    "ax.plot(range(0,1001), cum_walk, color='tab:blue')\n",
    "\n",
    "ax.plot(range(z,z+11),range(cum_walk[tsi],cum_walk[tsi]+11),linewidth=3,color = 'tab:red',label='More than 10 steps taken for the first time')\n",
    "\n",
    "ax.plot(range(t_max_index,t_max_index+t_max),range(cum_walk[t_max_index],cum_walk[t_max_index]+t_max),linestyle = ':',linewidth=4,color = 'tab:green', label='Most steps taken one way')\n",
    "plt.scatter(max_index,y_max_array, s = 17, color = \"red\")\n",
    "plt.scatter(min_index,y_min_array, s=17, color = \"green\")\n",
    "plt.title(\"Random Walk\", fontsize = 35)\n",
    "plt.ylabel(\"cumulative steps\", fontsize = 25)\n",
    "plt.xlabel(\"time\", fontsize = 25)\n",
    "plt.annotate(\"Max values\",xy=(max_index[0]+10,max_steps),fontsize=12,color = 'red')\n",
    "plt.annotate(\"Min values\",xy=(min_index[0]+8,min_steps-2),fontsize=12,color = 'green')\n",
    "leg = ax.legend(fontsize = 15)"
   ]
  },
  {
   "cell_type": "code",
   "execution_count": null,
   "metadata": {},
   "outputs": [],
   "source": []
  }
 ],
 "metadata": {
  "kernelspec": {
   "display_name": "Python 3",
   "language": "python",
   "name": "python3"
  },
  "language_info": {
   "codemirror_mode": {
    "name": "ipython",
    "version": 3
   },
   "file_extension": ".py",
   "mimetype": "text/x-python",
   "name": "python",
   "nbconvert_exporter": "python",
   "pygments_lexer": "ipython3",
   "version": "3.8.3"
  }
 },
 "nbformat": 4,
 "nbformat_minor": 4
}
