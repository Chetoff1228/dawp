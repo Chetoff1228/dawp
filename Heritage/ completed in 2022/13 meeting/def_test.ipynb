{
 "cells": [
  {
   "cell_type": "code",
   "execution_count": null,
   "id": "fb357a76",
   "metadata": {},
   "outputs": [],
   "source": [
    "def test_robot(strategy = 1, start='2015-1-1', end = '2019-12-31', \n",
    "               freq = CustomBusinessDay(calendar=USFederalHolidayCalendar())):\n",
    "    date = pd.date_range(start=start, end = end, freq = freq )\n",
    "    lenght = len(date)\n",
    "    x = np.arange(lenght)\n",
    "    if strategy == 1:\n",
    "    # Проверка 1 (везде стоп-лоссы)\n",
    "        y =  np.round((20*np.sin(0.5*x/9)+100) - abs(x-lenght/2)/8,2)\n",
    "    elif strategy == 2:\n",
    "    # Проверка 2\n",
    "        y =  np.round((20*np.sin(0.5*x/18)+100) - abs(x-lenght/2)/8,2)    \n",
    "    elif strategy == 3:\n",
    "    # Проверка 3\n",
    "        y =  np.round((20*np.sin(0.5*x/18)+100) + abs(x-lenght/2)/8,2)    \n",
    "    elif strategy == 4:\n",
    "    # Проверка 4\n",
    "        y =  np.round((20*np.sin(0.5*x/9)+100) + abs(x-lenght/2)/8,2)    \n",
    "    else: \n",
    "        print('Ошибка стратегии')\n",
    "    Open = y + np.round(np.random.normal(0,1,lenght),2)\n",
    "    Close = y + np.round(np.random.normal(0,1,lenght),2)\n",
    "    rnd_1 = y+np.round(np.random.normal(0,1,lenght),2)\n",
    "    rnd_2 = y+np.round(np.random.normal(0,1,lenght),2)\n",
    "    High = np.max([Open, Close,rnd_1,rnd_2],axis=0)\n",
    "    Low = np.min([Open, Close, rnd_1,rnd_2],axis=0)\n",
    "    df = pd.DataFrame({'Open':Open, 'High':High, 'Low':Low, 'Close':Close})\n",
    "    df.index = date\n",
    "    df.index.name = 'Date'\n",
    "    loss = '2018-10-12'\n",
    "    df.loc[loss] = 40, df.loc[loss].High, 10, df.loc[loss].Close   \n",
    "    return df        \n",
    "\n",
    "df = test_robot(strategy = 3)\n",
    "\n",
    "import mplfinance as mpf \n",
    "mpf.plot(df,type='candle', mav=(30,90), figscale=1.5)"
   ]
  }
 ],
 "metadata": {
  "kernelspec": {
   "display_name": "Python 3 (ipykernel)",
   "language": "python",
   "name": "python3"
  },
  "language_info": {
   "codemirror_mode": {
    "name": "ipython",
    "version": 3
   },
   "file_extension": ".py",
   "mimetype": "text/x-python",
   "name": "python",
   "nbconvert_exporter": "python",
   "pygments_lexer": "ipython3",
   "version": "3.8.13"
  }
 },
 "nbformat": 4,
 "nbformat_minor": 5
}
