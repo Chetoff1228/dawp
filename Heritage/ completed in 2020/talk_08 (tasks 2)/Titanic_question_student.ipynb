{
 "cells": [
  {
   "cell_type": "code",
   "execution_count": 1,
   "metadata": {},
   "outputs": [],
   "source": [
    "import numpy as np\n",
    "import pandas as pd\n",
    "import seaborn as sns\n",
    "import matplotlib.pyplot as plt\n",
    "from IPython.display import display"
   ]
  },
  {
   "cell_type": "code",
   "execution_count": 3,
   "metadata": {},
   "outputs": [],
   "source": [
    "# 1 балл\n",
    "# загрузить датасет\n",
    "# вывести первые три строки датасета\n",
    "# вывести информацию по датасету\n"
   ]
  },
  {
   "cell_type": "code",
   "execution_count": 4,
   "metadata": {},
   "outputs": [],
   "source": [
    "# 1 балл\n",
    "# найти количество выживших и погибших \n",
    "# ответ Series\n",
    "\n",
    "\n",
    "# прокоментировать какое значение выжившие, какое погибщие\n",
    "# 0 -\n",
    "# 1 -"
   ]
  },
  {
   "cell_type": "code",
   "execution_count": 5,
   "metadata": {},
   "outputs": [],
   "source": [
    "# 1 балл\n",
    "# найти количество выживших и погибших по классам размещения пассажиров\n",
    "# ответ DataFrame (строки выжившие/погибшие, стобцы - классы)\n"
   ]
  },
  {
   "cell_type": "code",
   "execution_count": 6,
   "metadata": {},
   "outputs": [],
   "source": [
    "# 2 баллa\n",
    "# вывести первые 5 строк таблицы, в которой отсутствует возраст пассажира, в столбце Age содержатся только NaN\n",
    "# посчитать количество таких строк и вывести результат\n"
   ]
  },
  {
   "cell_type": "code",
   "execution_count": 7,
   "metadata": {},
   "outputs": [],
   "source": [
    "# 2 балла (только через сводную таблицу) или 1 балл другим способом \n",
    "# найти найти вероятность выживаемости в зависимости от класса размещения пассажира \n"
   ]
  },
  {
   "cell_type": "code",
   "execution_count": 8,
   "metadata": {},
   "outputs": [],
   "source": [
    "# 3 балла (есть несколько вариантов построения, идеальный в примере)\n",
    "# построить графики вероятности выживаемости в зависимости от пола и класса размещения \n",
    "# подсказка   sns.lmplot \n"
   ]
  },
  {
   "cell_type": "markdown",
   "metadata": {},
   "source": [
    "Так должно быть в идеале\n",
    "![title](Surival.png)"
   ]
  },
  {
   "cell_type": "code",
   "execution_count": null,
   "metadata": {},
   "outputs": [],
   "source": [
    "# Выжившие по классам кают со столбчатой диаграммой\n",
    "# названия столбцов таблицы:\tSurvived\t0\t1\n",
    "# \t\t\t\t\t\t\t\tPclass\t\n"
   ]
  },
  {
   "cell_type": "code",
   "execution_count": 1,
   "metadata": {},
   "outputs": [],
   "source": [
    "# Выживание в процентах по классам кают со столбчатой диаграммой,\n",
    "# названия столбцов таблицы: Pclass\t0\t1\tПогибли,%\tВыжили,%\n"
   ]
  },
  {
   "cell_type": "code",
   "execution_count": null,
   "metadata": {},
   "outputs": [],
   "source": [
    "# Сколько выжило в зависисимости от \n",
    "# SibSp (это число братьев, сестер или супругов на борту у человека)\n",
    "# и отдельно для\n",
    "# Parch(количество родителей или детей, с которыми путешествовал каждый пассажир)\n",
    "#\n",
    "#\tSurvived\t0\t1\n",
    "#\tSibSp\t\n",
    "#\n",
    "#\tSurvived\t0\t1\n",
    "#\tParch\t\t\n",
    "#\n",
    "# и построить столбчатую диаграмму по каждой строке\n"
   ]
  },
  {
   "cell_type": "code",
   "execution_count": null,
   "metadata": {},
   "outputs": [],
   "source": [
    "# Процент выживаемости в зависисимости от \n",
    "# SibSp (это число братьев, сестер или супругов на борту у человека)\n",
    "# и отдельно для\n",
    "# Parch(количество родителей или детей, с которыми путешествовал каждый пассажир)\n",
    "#\n",
    "#\tSurvived\tПогибли,%\tВыжили,%\n",
    "#\tSibSp\t\n",
    "#\n",
    "#\tSurvived\tПогибли,%\tВыжили,%\n",
    "#\tParch\t\t\n",
    "#\n",
    "# и построить столбчатую диаграмму по каждой строке\n"
   ]
  },
  {
   "cell_type": "code",
   "execution_count": 2,
   "metadata": {},
   "outputs": [],
   "source": [
    "# Процент выживаемости в зависисимости от \n",
    "# SibSp (это число братьев, сестер или супругов на борту у человека) и \n",
    "# Parch(количество родителей или детей, с которыми путешествовал каждый пассажир)\n",
    "#\n",
    "#\t\t\tSurvived\tПогибли,%\tВыжили,%\n",
    "#\tSibSp\tParch\t\t\n",
    "#\n",
    "# и построить столбчатую диаграмму по каждой строке\n"
   ]
  },
  {
   "cell_type": "code",
   "execution_count": null,
   "metadata": {},
   "outputs": [],
   "source": []
  }
 ],
 "metadata": {
  "kernelspec": {
   "display_name": "Python 3",
   "language": "python",
   "name": "python3"
  },
  "language_info": {
   "codemirror_mode": {
    "name": "ipython",
    "version": 3
   },
   "file_extension": ".py",
   "mimetype": "text/x-python",
   "name": "python",
   "nbconvert_exporter": "python",
   "pygments_lexer": "ipython3",
   "version": "3.8.3"
  }
 },
 "nbformat": 4,
 "nbformat_minor": 2
}
