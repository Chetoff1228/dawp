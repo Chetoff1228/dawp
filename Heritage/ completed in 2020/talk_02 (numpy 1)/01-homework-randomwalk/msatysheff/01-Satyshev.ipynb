{
 "cells": [
  {
   "cell_type": "code",
   "execution_count": 8,
   "metadata": {
    "scrolled": false
   },
   "outputs": [
    {
     "name": "stdout",
     "output_type": "stream",
     "text": [
      "Максимальное значение по траектории: 19.0\n",
      "Минимальное значение по траектории: -561.0\n",
      "Не было такого периода времени, что было сделано более 10 шагов в одну сторону\n",
      "Максимальное количество шагов в одну сторону: 6\n"
     ]
    },
    {
     "data": {
      "image/png": "[encoded data removed]",
      "text/plain": [
       "<Figure size 432x288 with 1 Axes>"
      ]
     },
     "metadata": {
      "needs_background": "light"
     },
     "output_type": "display_data"
    }
   ],
   "source": [
    "#красные точки - минимум и максимум\n",
    "#желтая линия - траектория во время максимального количества шагов в 1 сторону\n",
    "\n",
    "import numpy as np\n",
    "import matplotlib.pyplot as plt\n",
    "\n",
    "np.random.seed(42)\n",
    "\n",
    "seq = np.random.randn(1000)\n",
    "for x in range(1000):\n",
    "    if seq[x] < 0:\n",
    "        seq[x] = -1\n",
    "    else:\n",
    "        seq[x] = 1\n",
    "        \n",
    "time = np.array(range(1,1001))\n",
    "trace = seq.cumsum()\n",
    "\n",
    "\n",
    "#### мой тест\n",
    "my_list = np.zeros(1000)\n",
    "my_list[1:20] = 1\n",
    "my_list[20:50] = -1\n",
    "my_list[50:100] = -1\n",
    "my_list[100:300] = -1\n",
    "my_list[300:500] = 1\n",
    "my_list[500:1000] = -1\n",
    "\n",
    "trace = np.cumsum(my_list)\n",
    "time = my_list\n",
    "\n",
    "\n",
    "\n",
    "\n",
    "\n",
    "\n",
    "print('Максимальное значение по траектории:',np.amax(trace))\n",
    "print('Минимальное значение по траектории:', np.amin(trace))\n",
    "\n",
    "\n",
    "curr_move = seq[0]\n",
    "quantity = 1\n",
    "max_same = 0\n",
    "ind_max_same = 0\n",
    "first_ten = False\n",
    "\n",
    "################ ??????? откуда 200 ????\n",
    "for x in range(1,200):\n",
    "    if seq[x] == curr_move:\n",
    "        if (quantity == 10) & (first_ten == False):\n",
    "            time_first_ten = x-1\n",
    "            first_ten = True\n",
    "        quantity += 1\n",
    "\n",
    "    else:\n",
    "        if quantity > max_same:\n",
    "            max_same = quantity\n",
    "            ind_max_same = x - quantity\n",
    "        curr_move = seq[x]\n",
    "        quantity = 1\n",
    "        \n",
    "        \n",
    "if first_ten == False:\n",
    "    print ('Не было такого периода времени, что было сделано более 10 шагов в одну сторону')\n",
    "else: \n",
    "    print('Первый момент времени, когда на прогулке было сделано более 10 шагов в одну сторону:', time_first_ten)\n",
    "    \n",
    "    \n",
    "print('Максимальное количество шагов в одну сторону:', max_same)\n",
    "\n",
    "minimum = list(trace).index(np.amin(trace))\n",
    "maximum = list(trace).index(np.amax(trace))\n",
    "fig = plt.figure()\n",
    "ax = fig.add_subplot(111)\n",
    "ax.plot(time, trace, color = 'darkgreen', linewidth = 1)\n",
    "ax.scatter([maximum, minimum],\n",
    "           [np.amax(trace), np.amin(trace)],\n",
    "          color = 'red',\n",
    "          marker = '.')\n",
    "ax.plot(time[ind_max_same:(ind_max_same+max_same+1)], trace[ind_max_same:(ind_max_same+max_same+1)],\n",
    "        color = 'gold', linewidth = 2)\n",
    "plt.show()"
   ]
  },
  {
   "cell_type": "code",
   "execution_count": null,
   "metadata": {},
   "outputs": [],
   "source": []
  },
  {
   "cell_type": "code",
   "execution_count": null,
   "metadata": {},
   "outputs": [],
   "source": []
  }
 ],
 "metadata": {
  "kernelspec": {
   "display_name": "Python 3",
   "language": "python",
   "name": "python3"
  },
  "language_info": {
   "codemirror_mode": {
    "name": "ipython",
    "version": 3
   },
   "file_extension": ".py",
   "mimetype": "text/x-python",
   "name": "python",
   "nbconvert_exporter": "python",
   "pygments_lexer": "ipython3",
   "version": "3.8.3"
  }
 },
 "nbformat": 4,
 "nbformat_minor": 4
}
