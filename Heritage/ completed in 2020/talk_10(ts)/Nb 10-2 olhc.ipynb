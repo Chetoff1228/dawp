{
 "cells": [
  {
   "cell_type": "code",
   "execution_count": 7,
   "metadata": {},
   "outputs": [],
   "source": [
    "import pandas as pd\n",
    "import pandas_datareader as web\n",
    "import seaborn as sns\n",
    "from datetime import datetime"
   ]
  },
  {
   "cell_type": "code",
   "execution_count": 5,
   "metadata": {},
   "outputs": [
    {
     "data": {
      "text/html": [
       "<div>\n",
       "<style scoped>\n",
       "    .dataframe tbody tr th:only-of-type {\n",
       "        vertical-align: middle;\n",
       "    }\n",
       "\n",
       "    .dataframe tbody tr th {\n",
       "        vertical-align: top;\n",
       "    }\n",
       "\n",
       "    .dataframe thead th {\n",
       "        text-align: right;\n",
       "    }\n",
       "</style>\n",
       "<table border=\"1\" class=\"dataframe\">\n",
       "  <thead>\n",
       "    <tr style=\"text-align: right;\">\n",
       "      <th></th>\n",
       "      <th>BOARDID</th>\n",
       "      <th>CLOSE</th>\n",
       "      <th>HIGH</th>\n",
       "      <th>LOW</th>\n",
       "      <th>NUMTRADES</th>\n",
       "      <th>OPEN</th>\n",
       "      <th>SECID</th>\n",
       "      <th>SHORTNAME</th>\n",
       "      <th>VOLRUR</th>\n",
       "      <th>WAPRICE</th>\n",
       "    </tr>\n",
       "    <tr>\n",
       "      <th>TRADEDATE</th>\n",
       "      <th></th>\n",
       "      <th></th>\n",
       "      <th></th>\n",
       "      <th></th>\n",
       "      <th></th>\n",
       "      <th></th>\n",
       "      <th></th>\n",
       "      <th></th>\n",
       "      <th></th>\n",
       "      <th></th>\n",
       "    </tr>\n",
       "  </thead>\n",
       "  <tbody>\n",
       "    <tr>\n",
       "      <th>2017-07-03</th>\n",
       "      <td>CETS</td>\n",
       "      <td>59.2650</td>\n",
       "      <td>59.4825</td>\n",
       "      <td>58.790</td>\n",
       "      <td>29108</td>\n",
       "      <td>58.95</td>\n",
       "      <td>USD000UTSTOM</td>\n",
       "      <td>USDRUB_TOM</td>\n",
       "      <td>1.472424e+11</td>\n",
       "      <td>59.1903</td>\n",
       "    </tr>\n",
       "    <tr>\n",
       "      <th>2017-07-03</th>\n",
       "      <td>CNGD</td>\n",
       "      <td>59.3600</td>\n",
       "      <td>59.4250</td>\n",
       "      <td>58.840</td>\n",
       "      <td>24</td>\n",
       "      <td>58.98</td>\n",
       "      <td>USD000UTSTOM</td>\n",
       "      <td>USDRUB_TOM</td>\n",
       "      <td>1.864785e+09</td>\n",
       "      <td>NaN</td>\n",
       "    </tr>\n",
       "    <tr>\n",
       "      <th>2017-07-04</th>\n",
       "      <td>CETS</td>\n",
       "      <td>59.4125</td>\n",
       "      <td>59.4575</td>\n",
       "      <td>59.135</td>\n",
       "      <td>21053</td>\n",
       "      <td>59.30</td>\n",
       "      <td>USD000UTSTOM</td>\n",
       "      <td>USDRUB_TOM</td>\n",
       "      <td>1.090265e+11</td>\n",
       "      <td>59.2700</td>\n",
       "    </tr>\n",
       "    <tr>\n",
       "      <th>2017-07-04</th>\n",
       "      <td>CNGD</td>\n",
       "      <td>59.3575</td>\n",
       "      <td>59.3600</td>\n",
       "      <td>58.930</td>\n",
       "      <td>37</td>\n",
       "      <td>59.36</td>\n",
       "      <td>USD000UTSTOM</td>\n",
       "      <td>USDRUB_TOM</td>\n",
       "      <td>1.046416e+09</td>\n",
       "      <td>NaN</td>\n",
       "    </tr>\n",
       "    <tr>\n",
       "      <th>2017-07-05</th>\n",
       "      <td>CETS</td>\n",
       "      <td>59.9825</td>\n",
       "      <td>60.2600</td>\n",
       "      <td>59.300</td>\n",
       "      <td>50108</td>\n",
       "      <td>59.30</td>\n",
       "      <td>USD000UTSTOM</td>\n",
       "      <td>USDRUB_TOM</td>\n",
       "      <td>2.874226e+11</td>\n",
       "      <td>59.9234</td>\n",
       "    </tr>\n",
       "  </tbody>\n",
       "</table>\n",
       "</div>"
      ],
      "text/plain": [
       "           BOARDID    CLOSE     HIGH     LOW NUMTRADES   OPEN         SECID  \\\n",
       "TRADEDATE                                                                     \n",
       "2017-07-03    CETS  59.2650  59.4825  58.790     29108  58.95  USD000UTSTOM   \n",
       "2017-07-03    CNGD  59.3600  59.4250  58.840        24  58.98  USD000UTSTOM   \n",
       "2017-07-04    CETS  59.4125  59.4575  59.135     21053  59.30  USD000UTSTOM   \n",
       "2017-07-04    CNGD  59.3575  59.3600  58.930        37  59.36  USD000UTSTOM   \n",
       "2017-07-05    CETS  59.9825  60.2600  59.300     50108  59.30  USD000UTSTOM   \n",
       "\n",
       "             SHORTNAME        VOLRUR  WAPRICE  \n",
       "TRADEDATE                                      \n",
       "2017-07-03  USDRUB_TOM  1.472424e+11  59.1903  \n",
       "2017-07-03  USDRUB_TOM  1.864785e+09      NaN  \n",
       "2017-07-04  USDRUB_TOM  1.090265e+11  59.2700  \n",
       "2017-07-04  USDRUB_TOM  1.046416e+09      NaN  \n",
       "2017-07-05  USDRUB_TOM  2.874226e+11  59.9234  "
      ]
     },
     "execution_count": 5,
     "metadata": {},
     "output_type": "execute_result"
    }
   ],
   "source": [
    "f = web.DataReader('USD000UTSTOM', 'moex', start='2017-07-01', end='2017-07-31')\n",
    "f.head()"
   ]
  },
  {
   "cell_type": "code",
   "execution_count": 12,
   "metadata": {},
   "outputs": [
    {
     "data": {
      "text/html": [
       "<div>\n",
       "<style scoped>\n",
       "    .dataframe tbody tr th:only-of-type {\n",
       "        vertical-align: middle;\n",
       "    }\n",
       "\n",
       "    .dataframe tbody tr th {\n",
       "        vertical-align: top;\n",
       "    }\n",
       "\n",
       "    .dataframe thead th {\n",
       "        text-align: right;\n",
       "    }\n",
       "</style>\n",
       "<table border=\"1\" class=\"dataframe\">\n",
       "  <thead>\n",
       "    <tr style=\"text-align: right;\">\n",
       "      <th></th>\n",
       "      <th>ADMITTEDQUOTE</th>\n",
       "      <th>ADMITTEDVALUE</th>\n",
       "      <th>BEICLOSE</th>\n",
       "      <th>BID</th>\n",
       "      <th>BOARDID</th>\n",
       "      <th>BOARDNAME</th>\n",
       "      <th>BUYBACKDATE</th>\n",
       "      <th>CBRCLOSE</th>\n",
       "      <th>CLOSE</th>\n",
       "      <th>CLOSEAUCTIONPRICE</th>\n",
       "      <th>...</th>\n",
       "      <th>TRENDCLSPR</th>\n",
       "      <th>TRENDWAP</th>\n",
       "      <th>TRENDWAPPR</th>\n",
       "      <th>TYPE</th>\n",
       "      <th>VALUE</th>\n",
       "      <th>VOLUME</th>\n",
       "      <th>WAPRICE</th>\n",
       "      <th>WAVAL</th>\n",
       "      <th>YIELDLASTCOUPON</th>\n",
       "      <th>YIELDTOOFFER</th>\n",
       "    </tr>\n",
       "    <tr>\n",
       "      <th>TRADEDATE</th>\n",
       "      <th></th>\n",
       "      <th></th>\n",
       "      <th></th>\n",
       "      <th></th>\n",
       "      <th></th>\n",
       "      <th></th>\n",
       "      <th></th>\n",
       "      <th></th>\n",
       "      <th></th>\n",
       "      <th></th>\n",
       "      <th></th>\n",
       "      <th></th>\n",
       "      <th></th>\n",
       "      <th></th>\n",
       "      <th></th>\n",
       "      <th></th>\n",
       "      <th></th>\n",
       "      <th></th>\n",
       "      <th></th>\n",
       "      <th></th>\n",
       "      <th></th>\n",
       "    </tr>\n",
       "  </thead>\n",
       "  <tbody>\n",
       "    <tr>\n",
       "      <th>2017-01-03</th>\n",
       "      <td>NaN</td>\n",
       "      <td>NaN</td>\n",
       "      <td>NaN</td>\n",
       "      <td>NaN</td>\n",
       "      <td>RPMA</td>\n",
       "      <td>NaN</td>\n",
       "      <td>NaN</td>\n",
       "      <td>NaN</td>\n",
       "      <td>169.74</td>\n",
       "      <td>NaN</td>\n",
       "      <td>...</td>\n",
       "      <td>NaN</td>\n",
       "      <td>NaN</td>\n",
       "      <td>NaN</td>\n",
       "      <td>NaN</td>\n",
       "      <td>7.982129e+08</td>\n",
       "      <td>NaN</td>\n",
       "      <td>NaN</td>\n",
       "      <td>NaN</td>\n",
       "      <td>NaN</td>\n",
       "      <td>NaN</td>\n",
       "    </tr>\n",
       "    <tr>\n",
       "      <th>2017-01-04</th>\n",
       "      <td>NaN</td>\n",
       "      <td>NaN</td>\n",
       "      <td>NaN</td>\n",
       "      <td>NaN</td>\n",
       "      <td>RPMA</td>\n",
       "      <td>NaN</td>\n",
       "      <td>NaN</td>\n",
       "      <td>NaN</td>\n",
       "      <td>169.74</td>\n",
       "      <td>NaN</td>\n",
       "      <td>...</td>\n",
       "      <td>NaN</td>\n",
       "      <td>NaN</td>\n",
       "      <td>NaN</td>\n",
       "      <td>NaN</td>\n",
       "      <td>8.429459e+08</td>\n",
       "      <td>NaN</td>\n",
       "      <td>NaN</td>\n",
       "      <td>NaN</td>\n",
       "      <td>NaN</td>\n",
       "      <td>NaN</td>\n",
       "    </tr>\n",
       "    <tr>\n",
       "      <th>2017-01-05</th>\n",
       "      <td>NaN</td>\n",
       "      <td>NaN</td>\n",
       "      <td>NaN</td>\n",
       "      <td>NaN</td>\n",
       "      <td>RPMA</td>\n",
       "      <td>NaN</td>\n",
       "      <td>NaN</td>\n",
       "      <td>NaN</td>\n",
       "      <td>169.74</td>\n",
       "      <td>NaN</td>\n",
       "      <td>...</td>\n",
       "      <td>NaN</td>\n",
       "      <td>NaN</td>\n",
       "      <td>NaN</td>\n",
       "      <td>NaN</td>\n",
       "      <td>8.436439e+08</td>\n",
       "      <td>NaN</td>\n",
       "      <td>NaN</td>\n",
       "      <td>NaN</td>\n",
       "      <td>NaN</td>\n",
       "      <td>NaN</td>\n",
       "    </tr>\n",
       "    <tr>\n",
       "      <th>2017-01-06</th>\n",
       "      <td>NaN</td>\n",
       "      <td>NaN</td>\n",
       "      <td>NaN</td>\n",
       "      <td>NaN</td>\n",
       "      <td>RPMA</td>\n",
       "      <td>NaN</td>\n",
       "      <td>NaN</td>\n",
       "      <td>NaN</td>\n",
       "      <td>169.74</td>\n",
       "      <td>NaN</td>\n",
       "      <td>...</td>\n",
       "      <td>NaN</td>\n",
       "      <td>NaN</td>\n",
       "      <td>NaN</td>\n",
       "      <td>NaN</td>\n",
       "      <td>8.423766e+08</td>\n",
       "      <td>NaN</td>\n",
       "      <td>NaN</td>\n",
       "      <td>NaN</td>\n",
       "      <td>NaN</td>\n",
       "      <td>NaN</td>\n",
       "    </tr>\n",
       "    <tr>\n",
       "      <th>2017-01-09</th>\n",
       "      <td>NaN</td>\n",
       "      <td>NaN</td>\n",
       "      <td>NaN</td>\n",
       "      <td>NaN</td>\n",
       "      <td>RPMA</td>\n",
       "      <td>NaN</td>\n",
       "      <td>NaN</td>\n",
       "      <td>NaN</td>\n",
       "      <td>171.85</td>\n",
       "      <td>NaN</td>\n",
       "      <td>...</td>\n",
       "      <td>NaN</td>\n",
       "      <td>NaN</td>\n",
       "      <td>NaN</td>\n",
       "      <td>NaN</td>\n",
       "      <td>8.618491e+08</td>\n",
       "      <td>NaN</td>\n",
       "      <td>NaN</td>\n",
       "      <td>NaN</td>\n",
       "      <td>NaN</td>\n",
       "      <td>NaN</td>\n",
       "    </tr>\n",
       "  </tbody>\n",
       "</table>\n",
       "<p>5 rows × 65 columns</p>\n",
       "</div>"
      ],
      "text/plain": [
       "            ADMITTEDQUOTE  ADMITTEDVALUE  BEICLOSE  BID BOARDID BOARDNAME  \\\n",
       "TRADEDATE                                                                   \n",
       "2017-01-03            NaN            NaN       NaN  NaN    RPMA       NaN   \n",
       "2017-01-04            NaN            NaN       NaN  NaN    RPMA       NaN   \n",
       "2017-01-05            NaN            NaN       NaN  NaN    RPMA       NaN   \n",
       "2017-01-06            NaN            NaN       NaN  NaN    RPMA       NaN   \n",
       "2017-01-09            NaN            NaN       NaN  NaN    RPMA       NaN   \n",
       "\n",
       "            BUYBACKDATE  CBRCLOSE   CLOSE CLOSEAUCTIONPRICE  ... TRENDCLSPR  \\\n",
       "TRADEDATE                                                    ...              \n",
       "2017-01-03          NaN       NaN  169.74               NaN  ...        NaN   \n",
       "2017-01-04          NaN       NaN  169.74               NaN  ...        NaN   \n",
       "2017-01-05          NaN       NaN  169.74               NaN  ...        NaN   \n",
       "2017-01-06          NaN       NaN  169.74               NaN  ...        NaN   \n",
       "2017-01-09          NaN       NaN  171.85               NaN  ...        NaN   \n",
       "\n",
       "           TRENDWAP  TRENDWAPPR  TYPE         VALUE VOLUME  WAPRICE WAVAL  \\\n",
       "TRADEDATE                                                                   \n",
       "2017-01-03      NaN         NaN   NaN  7.982129e+08    NaN      NaN   NaN   \n",
       "2017-01-04      NaN         NaN   NaN  8.429459e+08    NaN      NaN   NaN   \n",
       "2017-01-05      NaN         NaN   NaN  8.436439e+08    NaN      NaN   NaN   \n",
       "2017-01-06      NaN         NaN   NaN  8.423766e+08    NaN      NaN   NaN   \n",
       "2017-01-09      NaN         NaN   NaN  8.618491e+08    NaN      NaN   NaN   \n",
       "\n",
       "            YIELDLASTCOUPON  YIELDTOOFFER  \n",
       "TRADEDATE                                  \n",
       "2017-01-03              NaN           NaN  \n",
       "2017-01-04              NaN           NaN  \n",
       "2017-01-05              NaN           NaN  \n",
       "2017-01-06              NaN           NaN  \n",
       "2017-01-09              NaN           NaN  \n",
       "\n",
       "[5 rows x 65 columns]"
      ]
     },
     "execution_count": 12,
     "metadata": {},
     "output_type": "execute_result"
    }
   ],
   "source": [
    "sber=web.DataReader('SBER', 'moex', start='2017-01-01', end='2017-12-31')\n",
    "sber.head(5)"
   ]
  },
  {
   "cell_type": "code",
   "execution_count": 19,
   "metadata": {},
   "outputs": [
    {
     "data": {
      "text/plain": [
       "array(['RPMA', 'SOTC', 'EQRP', 'PSRP', 'EQWP', 'EQRD', 'PSRD', 'MXBD',\n",
       "       'PSEQ', 'PTEQ', 'EQDP', 'SMAL', 'TQBR'], dtype=object)"
      ]
     },
     "metadata": {},
     "output_type": "display_data"
    },
    {
     "data": {
      "text/html": [
       "<div>\n",
       "<style scoped>\n",
       "    .dataframe tbody tr th:only-of-type {\n",
       "        vertical-align: middle;\n",
       "    }\n",
       "\n",
       "    .dataframe tbody tr th {\n",
       "        vertical-align: top;\n",
       "    }\n",
       "\n",
       "    .dataframe thead th {\n",
       "        text-align: right;\n",
       "    }\n",
       "</style>\n",
       "<table border=\"1\" class=\"dataframe\">\n",
       "  <thead>\n",
       "    <tr style=\"text-align: right;\">\n",
       "      <th></th>\n",
       "      <th>ADMITTEDQUOTE</th>\n",
       "      <th>ADMITTEDVALUE</th>\n",
       "      <th>BID</th>\n",
       "      <th>BOARDID</th>\n",
       "      <th>CLOSE</th>\n",
       "      <th>CURRENCYID</th>\n",
       "      <th>DECIMALS</th>\n",
       "      <th>FACEUNIT</th>\n",
       "      <th>FACEVALUE</th>\n",
       "      <th>HIGH</th>\n",
       "      <th>...</th>\n",
       "      <th>OFFER</th>\n",
       "      <th>OPEN</th>\n",
       "      <th>REGNUMBER</th>\n",
       "      <th>SECID</th>\n",
       "      <th>SHORTNAME</th>\n",
       "      <th>TRADINGSESSION</th>\n",
       "      <th>TYPE</th>\n",
       "      <th>VALUE</th>\n",
       "      <th>VOLUME</th>\n",
       "      <th>WAPRICE</th>\n",
       "    </tr>\n",
       "    <tr>\n",
       "      <th>TRADEDATE</th>\n",
       "      <th></th>\n",
       "      <th></th>\n",
       "      <th></th>\n",
       "      <th></th>\n",
       "      <th></th>\n",
       "      <th></th>\n",
       "      <th></th>\n",
       "      <th></th>\n",
       "      <th></th>\n",
       "      <th></th>\n",
       "      <th></th>\n",
       "      <th></th>\n",
       "      <th></th>\n",
       "      <th></th>\n",
       "      <th></th>\n",
       "      <th></th>\n",
       "      <th></th>\n",
       "      <th></th>\n",
       "      <th></th>\n",
       "      <th></th>\n",
       "      <th></th>\n",
       "    </tr>\n",
       "  </thead>\n",
       "  <tbody>\n",
       "    <tr>\n",
       "      <th>2017-01-03</th>\n",
       "      <td>NaN</td>\n",
       "      <td>NaN</td>\n",
       "      <td>NaN</td>\n",
       "      <td>RPMA</td>\n",
       "      <td>169.74</td>\n",
       "      <td>NaN</td>\n",
       "      <td>NaN</td>\n",
       "      <td>NaN</td>\n",
       "      <td>NaN</td>\n",
       "      <td>186.714</td>\n",
       "      <td>...</td>\n",
       "      <td>NaN</td>\n",
       "      <td>173.25</td>\n",
       "      <td>NaN</td>\n",
       "      <td>SBER</td>\n",
       "      <td>Сбербанк</td>\n",
       "      <td>3.0</td>\n",
       "      <td>NaN</td>\n",
       "      <td>7.982129e+08</td>\n",
       "      <td>NaN</td>\n",
       "      <td>NaN</td>\n",
       "    </tr>\n",
       "    <tr>\n",
       "      <th>2017-01-04</th>\n",
       "      <td>NaN</td>\n",
       "      <td>NaN</td>\n",
       "      <td>NaN</td>\n",
       "      <td>RPMA</td>\n",
       "      <td>169.74</td>\n",
       "      <td>NaN</td>\n",
       "      <td>NaN</td>\n",
       "      <td>NaN</td>\n",
       "      <td>NaN</td>\n",
       "      <td>186.714</td>\n",
       "      <td>...</td>\n",
       "      <td>NaN</td>\n",
       "      <td>180.12</td>\n",
       "      <td>NaN</td>\n",
       "      <td>SBER</td>\n",
       "      <td>Сбербанк</td>\n",
       "      <td>3.0</td>\n",
       "      <td>NaN</td>\n",
       "      <td>8.429459e+08</td>\n",
       "      <td>NaN</td>\n",
       "      <td>NaN</td>\n",
       "    </tr>\n",
       "    <tr>\n",
       "      <th>2017-01-05</th>\n",
       "      <td>NaN</td>\n",
       "      <td>NaN</td>\n",
       "      <td>NaN</td>\n",
       "      <td>RPMA</td>\n",
       "      <td>169.74</td>\n",
       "      <td>NaN</td>\n",
       "      <td>NaN</td>\n",
       "      <td>NaN</td>\n",
       "      <td>NaN</td>\n",
       "      <td>186.714</td>\n",
       "      <td>...</td>\n",
       "      <td>NaN</td>\n",
       "      <td>175.95</td>\n",
       "      <td>NaN</td>\n",
       "      <td>SBER</td>\n",
       "      <td>Сбербанк</td>\n",
       "      <td>3.0</td>\n",
       "      <td>NaN</td>\n",
       "      <td>8.436439e+08</td>\n",
       "      <td>NaN</td>\n",
       "      <td>NaN</td>\n",
       "    </tr>\n",
       "    <tr>\n",
       "      <th>2017-01-06</th>\n",
       "      <td>NaN</td>\n",
       "      <td>NaN</td>\n",
       "      <td>NaN</td>\n",
       "      <td>RPMA</td>\n",
       "      <td>169.74</td>\n",
       "      <td>NaN</td>\n",
       "      <td>NaN</td>\n",
       "      <td>NaN</td>\n",
       "      <td>NaN</td>\n",
       "      <td>186.714</td>\n",
       "      <td>...</td>\n",
       "      <td>NaN</td>\n",
       "      <td>171.90</td>\n",
       "      <td>NaN</td>\n",
       "      <td>SBER</td>\n",
       "      <td>Сбербанк</td>\n",
       "      <td>3.0</td>\n",
       "      <td>NaN</td>\n",
       "      <td>8.423766e+08</td>\n",
       "      <td>NaN</td>\n",
       "      <td>NaN</td>\n",
       "    </tr>\n",
       "    <tr>\n",
       "      <th>2017-01-09</th>\n",
       "      <td>NaN</td>\n",
       "      <td>NaN</td>\n",
       "      <td>NaN</td>\n",
       "      <td>RPMA</td>\n",
       "      <td>171.85</td>\n",
       "      <td>NaN</td>\n",
       "      <td>NaN</td>\n",
       "      <td>NaN</td>\n",
       "      <td>NaN</td>\n",
       "      <td>189.035</td>\n",
       "      <td>...</td>\n",
       "      <td>NaN</td>\n",
       "      <td>170.69</td>\n",
       "      <td>NaN</td>\n",
       "      <td>SBER</td>\n",
       "      <td>Сбербанк</td>\n",
       "      <td>3.0</td>\n",
       "      <td>NaN</td>\n",
       "      <td>8.618491e+08</td>\n",
       "      <td>NaN</td>\n",
       "      <td>NaN</td>\n",
       "    </tr>\n",
       "    <tr>\n",
       "      <th>...</th>\n",
       "      <td>...</td>\n",
       "      <td>...</td>\n",
       "      <td>...</td>\n",
       "      <td>...</td>\n",
       "      <td>...</td>\n",
       "      <td>...</td>\n",
       "      <td>...</td>\n",
       "      <td>...</td>\n",
       "      <td>...</td>\n",
       "      <td>...</td>\n",
       "      <td>...</td>\n",
       "      <td>...</td>\n",
       "      <td>...</td>\n",
       "      <td>...</td>\n",
       "      <td>...</td>\n",
       "      <td>...</td>\n",
       "      <td>...</td>\n",
       "      <td>...</td>\n",
       "      <td>...</td>\n",
       "      <td>...</td>\n",
       "      <td>...</td>\n",
       "    </tr>\n",
       "    <tr>\n",
       "      <th>2017-12-28</th>\n",
       "      <td>NaN</td>\n",
       "      <td>0.000000e+00</td>\n",
       "      <td>NaN</td>\n",
       "      <td>SMAL</td>\n",
       "      <td>223.27</td>\n",
       "      <td>NaN</td>\n",
       "      <td>NaN</td>\n",
       "      <td>NaN</td>\n",
       "      <td>NaN</td>\n",
       "      <td>224.590</td>\n",
       "      <td>...</td>\n",
       "      <td>NaN</td>\n",
       "      <td>224.26</td>\n",
       "      <td>NaN</td>\n",
       "      <td>SBER</td>\n",
       "      <td>Сбербанк</td>\n",
       "      <td>3.0</td>\n",
       "      <td>NaN</td>\n",
       "      <td>1.722529e+04</td>\n",
       "      <td>77.0</td>\n",
       "      <td>224.77</td>\n",
       "    </tr>\n",
       "    <tr>\n",
       "      <th>2017-12-28</th>\n",
       "      <td>224.2</td>\n",
       "      <td>5.412390e+09</td>\n",
       "      <td>NaN</td>\n",
       "      <td>TQBR</td>\n",
       "      <td>224.20</td>\n",
       "      <td>NaN</td>\n",
       "      <td>NaN</td>\n",
       "      <td>NaN</td>\n",
       "      <td>NaN</td>\n",
       "      <td>227.170</td>\n",
       "      <td>...</td>\n",
       "      <td>NaN</td>\n",
       "      <td>226.90</td>\n",
       "      <td>NaN</td>\n",
       "      <td>SBER</td>\n",
       "      <td>Сбербанк</td>\n",
       "      <td>3.0</td>\n",
       "      <td>NaN</td>\n",
       "      <td>5.412390e+09</td>\n",
       "      <td>24078940.0</td>\n",
       "      <td>224.77</td>\n",
       "    </tr>\n",
       "    <tr>\n",
       "      <th>2017-12-29</th>\n",
       "      <td>NaN</td>\n",
       "      <td>0.000000e+00</td>\n",
       "      <td>NaN</td>\n",
       "      <td>EQDP</td>\n",
       "      <td>NaN</td>\n",
       "      <td>NaN</td>\n",
       "      <td>NaN</td>\n",
       "      <td>NaN</td>\n",
       "      <td>NaN</td>\n",
       "      <td>NaN</td>\n",
       "      <td>...</td>\n",
       "      <td>NaN</td>\n",
       "      <td>NaN</td>\n",
       "      <td>NaN</td>\n",
       "      <td>SBER</td>\n",
       "      <td>Сбербанк</td>\n",
       "      <td>3.0</td>\n",
       "      <td>NaN</td>\n",
       "      <td>0.000000e+00</td>\n",
       "      <td>0.0</td>\n",
       "      <td>NaN</td>\n",
       "    </tr>\n",
       "    <tr>\n",
       "      <th>2017-12-29</th>\n",
       "      <td>NaN</td>\n",
       "      <td>0.000000e+00</td>\n",
       "      <td>NaN</td>\n",
       "      <td>SMAL</td>\n",
       "      <td>225.61</td>\n",
       "      <td>NaN</td>\n",
       "      <td>NaN</td>\n",
       "      <td>NaN</td>\n",
       "      <td>NaN</td>\n",
       "      <td>225.960</td>\n",
       "      <td>...</td>\n",
       "      <td>NaN</td>\n",
       "      <td>225.01</td>\n",
       "      <td>NaN</td>\n",
       "      <td>SBER</td>\n",
       "      <td>Сбербанк</td>\n",
       "      <td>3.0</td>\n",
       "      <td>NaN</td>\n",
       "      <td>7.216460e+03</td>\n",
       "      <td>32.0</td>\n",
       "      <td>225.08</td>\n",
       "    </tr>\n",
       "    <tr>\n",
       "      <th>2017-12-29</th>\n",
       "      <td>225.2</td>\n",
       "      <td>4.258428e+09</td>\n",
       "      <td>NaN</td>\n",
       "      <td>TQBR</td>\n",
       "      <td>225.20</td>\n",
       "      <td>NaN</td>\n",
       "      <td>NaN</td>\n",
       "      <td>NaN</td>\n",
       "      <td>NaN</td>\n",
       "      <td>226.200</td>\n",
       "      <td>...</td>\n",
       "      <td>NaN</td>\n",
       "      <td>224.12</td>\n",
       "      <td>NaN</td>\n",
       "      <td>SBER</td>\n",
       "      <td>Сбербанк</td>\n",
       "      <td>3.0</td>\n",
       "      <td>NaN</td>\n",
       "      <td>4.258428e+09</td>\n",
       "      <td>18919860.0</td>\n",
       "      <td>225.08</td>\n",
       "    </tr>\n",
       "  </tbody>\n",
       "</table>\n",
       "<p>2489 rows × 30 columns</p>\n",
       "</div>"
      ],
      "text/plain": [
       "            ADMITTEDQUOTE  ADMITTEDVALUE  BID BOARDID   CLOSE CURRENCYID  \\\n",
       "TRADEDATE                                                                  \n",
       "2017-01-03            NaN            NaN  NaN    RPMA  169.74        NaN   \n",
       "2017-01-04            NaN            NaN  NaN    RPMA  169.74        NaN   \n",
       "2017-01-05            NaN            NaN  NaN    RPMA  169.74        NaN   \n",
       "2017-01-06            NaN            NaN  NaN    RPMA  169.74        NaN   \n",
       "2017-01-09            NaN            NaN  NaN    RPMA  171.85        NaN   \n",
       "...                   ...            ...  ...     ...     ...        ...   \n",
       "2017-12-28            NaN   0.000000e+00  NaN    SMAL  223.27        NaN   \n",
       "2017-12-28          224.2   5.412390e+09  NaN    TQBR  224.20        NaN   \n",
       "2017-12-29            NaN   0.000000e+00  NaN    EQDP     NaN        NaN   \n",
       "2017-12-29            NaN   0.000000e+00  NaN    SMAL  225.61        NaN   \n",
       "2017-12-29          225.2   4.258428e+09  NaN    TQBR  225.20        NaN   \n",
       "\n",
       "            DECIMALS FACEUNIT  FACEVALUE     HIGH  ... OFFER    OPEN  \\\n",
       "TRADEDATE                                          ...                 \n",
       "2017-01-03       NaN      NaN        NaN  186.714  ...   NaN  173.25   \n",
       "2017-01-04       NaN      NaN        NaN  186.714  ...   NaN  180.12   \n",
       "2017-01-05       NaN      NaN        NaN  186.714  ...   NaN  175.95   \n",
       "2017-01-06       NaN      NaN        NaN  186.714  ...   NaN  171.90   \n",
       "2017-01-09       NaN      NaN        NaN  189.035  ...   NaN  170.69   \n",
       "...              ...      ...        ...      ...  ...   ...     ...   \n",
       "2017-12-28       NaN      NaN        NaN  224.590  ...   NaN  224.26   \n",
       "2017-12-28       NaN      NaN        NaN  227.170  ...   NaN  226.90   \n",
       "2017-12-29       NaN      NaN        NaN      NaN  ...   NaN     NaN   \n",
       "2017-12-29       NaN      NaN        NaN  225.960  ...   NaN  225.01   \n",
       "2017-12-29       NaN      NaN        NaN  226.200  ...   NaN  224.12   \n",
       "\n",
       "            REGNUMBER  SECID  SHORTNAME  TRADINGSESSION  TYPE         VALUE  \\\n",
       "TRADEDATE                                                                     \n",
       "2017-01-03        NaN   SBER   Сбербанк             3.0   NaN  7.982129e+08   \n",
       "2017-01-04        NaN   SBER   Сбербанк             3.0   NaN  8.429459e+08   \n",
       "2017-01-05        NaN   SBER   Сбербанк             3.0   NaN  8.436439e+08   \n",
       "2017-01-06        NaN   SBER   Сбербанк             3.0   NaN  8.423766e+08   \n",
       "2017-01-09        NaN   SBER   Сбербанк             3.0   NaN  8.618491e+08   \n",
       "...               ...    ...        ...             ...   ...           ...   \n",
       "2017-12-28        NaN   SBER   Сбербанк             3.0   NaN  1.722529e+04   \n",
       "2017-12-28        NaN   SBER   Сбербанк             3.0   NaN  5.412390e+09   \n",
       "2017-12-29        NaN   SBER   Сбербанк             3.0   NaN  0.000000e+00   \n",
       "2017-12-29        NaN   SBER   Сбербанк             3.0   NaN  7.216460e+03   \n",
       "2017-12-29        NaN   SBER   Сбербанк             3.0   NaN  4.258428e+09   \n",
       "\n",
       "                VOLUME  WAPRICE  \n",
       "TRADEDATE                        \n",
       "2017-01-03         NaN      NaN  \n",
       "2017-01-04         NaN      NaN  \n",
       "2017-01-05         NaN      NaN  \n",
       "2017-01-06         NaN      NaN  \n",
       "2017-01-09         NaN      NaN  \n",
       "...                ...      ...  \n",
       "2017-12-28        77.0   224.77  \n",
       "2017-12-28  24078940.0   224.77  \n",
       "2017-12-29         0.0      NaN  \n",
       "2017-12-29        32.0   225.08  \n",
       "2017-12-29  18919860.0   225.08  \n",
       "\n",
       "[2489 rows x 30 columns]"
      ]
     },
     "execution_count": 19,
     "metadata": {},
     "output_type": "execute_result"
    }
   ],
   "source": [
    "sber_drop = sber.dropna(axis='columns', how = 'all')\n",
    "display(sber_drop.BOARDID.unique()) \n",
    "sber_drop"
   ]
  },
  {
   "cell_type": "code",
   "execution_count": 2,
   "metadata": {},
   "outputs": [],
   "source": [
    "from finam import (Exporter,\n",
    "                   Timeframe,\n",
    "                   Market,\n",
    "                   FinamExportError,\n",
    "                   FinamObjectNotFoundError)\n",
    "exporter = Exporter()"
   ]
  },
  {
   "cell_type": "code",
   "execution_count": 3,
   "metadata": {},
   "outputs": [
    {
     "data": {
      "text/html": [
       "<div>\n",
       "<style scoped>\n",
       "    .dataframe tbody tr th:only-of-type {\n",
       "        vertical-align: middle;\n",
       "    }\n",
       "\n",
       "    .dataframe tbody tr th {\n",
       "        vertical-align: top;\n",
       "    }\n",
       "\n",
       "    .dataframe thead th {\n",
       "        text-align: right;\n",
       "    }\n",
       "</style>\n",
       "<table border=\"1\" class=\"dataframe\">\n",
       "  <thead>\n",
       "    <tr style=\"text-align: right;\">\n",
       "      <th></th>\n",
       "      <th>name</th>\n",
       "      <th>code</th>\n",
       "      <th>market</th>\n",
       "    </tr>\n",
       "    <tr>\n",
       "      <th>id</th>\n",
       "      <th></th>\n",
       "      <th></th>\n",
       "      <th></th>\n",
       "    </tr>\n",
       "  </thead>\n",
       "  <tbody>\n",
       "    <tr>\n",
       "      <th>8</th>\n",
       "      <td>ЛУКОЙЛ</td>\n",
       "      <td>LKOH</td>\n",
       "      <td>1</td>\n",
       "    </tr>\n",
       "    <tr>\n",
       "      <th>332</th>\n",
       "      <td>LKOH</td>\n",
       "      <td>LKOH</td>\n",
       "      <td>3</td>\n",
       "    </tr>\n",
       "    <tr>\n",
       "      <th>918</th>\n",
       "      <td>Лукойл</td>\n",
       "      <td>LKOH</td>\n",
       "      <td>8</td>\n",
       "    </tr>\n",
       "    <tr>\n",
       "      <th>17453</th>\n",
       "      <td>LKOH</td>\n",
       "      <td>LKOH</td>\n",
       "      <td>14</td>\n",
       "    </tr>\n",
       "    <tr>\n",
       "      <th>22427</th>\n",
       "      <td>LKOH(RTS-Standard)</td>\n",
       "      <td>LKOH</td>\n",
       "      <td>38</td>\n",
       "    </tr>\n",
       "    <tr>\n",
       "      <th>8</th>\n",
       "      <td>ЛУКОЙЛ</td>\n",
       "      <td>LKOH</td>\n",
       "      <td>200</td>\n",
       "    </tr>\n",
       "    <tr>\n",
       "      <th>419710</th>\n",
       "      <td>ПАО \\'ЛУКОЙЛ\\', ао</td>\n",
       "      <td>LKOH</td>\n",
       "      <td>517</td>\n",
       "    </tr>\n",
       "  </tbody>\n",
       "</table>\n",
       "</div>"
      ],
      "text/plain": [
       "                      name  code  market\n",
       "id                                      \n",
       "8                   ЛУКОЙЛ  LKOH       1\n",
       "332                   LKOH  LKOH       3\n",
       "918                 Лукойл  LKOH       8\n",
       "17453                 LKOH  LKOH      14\n",
       "22427   LKOH(RTS-Standard)  LKOH      38\n",
       "8                   ЛУКОЙЛ  LKOH     200\n",
       "419710  ПАО \\'ЛУКОЙЛ\\', ао  LKOH     517"
      ]
     },
     "execution_count": 3,
     "metadata": {},
     "output_type": "execute_result"
    }
   ],
   "source": [
    "exporter.lookup(code='LKOH')"
   ]
  },
  {
   "cell_type": "markdown",
   "metadata": {},
   "source": [
    "Коды рынков на экспорт (не все, остальные смотрите на finam.ru, но они не качаютcя)    \n",
    "    BONDS = 2<br>\n",
    "    COMMODITIES = 24<br>\n",
    "    CURRENCIES = 45<br>\n",
    "    ETF = 28<br>\n",
    "    ETF_MOEX = 515<br>\n",
    "    FUTURES = 14  # non-expired futures<br>\n",
    "    FUTURES_ARCHIVE = 17  # expired futures<br>\n",
    "    FUTURES_USA = 7<br>\n",
    "    INDEXES = 6<br>\n",
    "    SHARES = 1<br>\n",
    "    SPB = 517<br>\n",
    "    USA = 25<br>"
   ]
  },
  {
   "cell_type": "code",
   "execution_count": 4,
   "metadata": {},
   "outputs": [
    {
     "data": {
      "text/html": [
       "<div>\n",
       "<style scoped>\n",
       "    .dataframe tbody tr th:only-of-type {\n",
       "        vertical-align: middle;\n",
       "    }\n",
       "\n",
       "    .dataframe tbody tr th {\n",
       "        vertical-align: top;\n",
       "    }\n",
       "\n",
       "    .dataframe thead th {\n",
       "        text-align: right;\n",
       "    }\n",
       "</style>\n",
       "<table border=\"1\" class=\"dataframe\">\n",
       "  <thead>\n",
       "    <tr style=\"text-align: right;\">\n",
       "      <th></th>\n",
       "      <th>name</th>\n",
       "      <th>code</th>\n",
       "      <th>market</th>\n",
       "    </tr>\n",
       "    <tr>\n",
       "      <th>id</th>\n",
       "      <th></th>\n",
       "      <th></th>\n",
       "      <th></th>\n",
       "    </tr>\n",
       "  </thead>\n",
       "  <tbody>\n",
       "    <tr>\n",
       "      <th>388313</th>\n",
       "      <td>Роллман-п</td>\n",
       "      <td>RLMNP</td>\n",
       "      <td>1</td>\n",
       "    </tr>\n",
       "    <tr>\n",
       "      <th>22843</th>\n",
       "      <td>iАвиастКао</td>\n",
       "      <td>UNAC</td>\n",
       "      <td>1</td>\n",
       "    </tr>\n",
       "    <tr>\n",
       "      <th>473000</th>\n",
       "      <td>Сахэнер ао</td>\n",
       "      <td>SLEN</td>\n",
       "      <td>1</td>\n",
       "    </tr>\n",
       "    <tr>\n",
       "      <th>13</th>\n",
       "      <td>Сургнфгз-п</td>\n",
       "      <td>SNGSP</td>\n",
       "      <td>1</td>\n",
       "    </tr>\n",
       "    <tr>\n",
       "      <th>24</th>\n",
       "      <td>СаратЭн-ап</td>\n",
       "      <td>SAREP</td>\n",
       "      <td>1</td>\n",
       "    </tr>\n",
       "  </tbody>\n",
       "</table>\n",
       "</div>"
      ],
      "text/plain": [
       "              name   code  market\n",
       "id                               \n",
       "388313   Роллман-п  RLMNP       1\n",
       "22843   iАвиастКао   UNAC       1\n",
       "473000  Сахэнер ао   SLEN       1\n",
       "13      Сургнфгз-п  SNGSP       1\n",
       "24      СаратЭн-ап  SAREP       1"
      ]
     },
     "metadata": {},
     "output_type": "display_data"
    },
    {
     "name": "stdout",
     "output_type": "stream",
     "text": [
      "RLMNP,UNAC,SLEN,SNGSP,SAREP,VLHZ,SARE,SNGS,VTBR,KRKNP,KRKN,DIOD,ODVA,MFGSP,PLZL,MFGS,URKZ,STSBP,STSB,USBN,SMLT,MFON,ISKJ,GEMA,NAUK,PMSB,TRNFP,MOEX,MORI,VJGZP,VJGZ,MRSB,PIKK,EELT,T-RM,MTLRP,URKA,LIFE,AAPL-RM,SBUX-RM,ZVEZ,PRTK,PAZA,ZILL,TGKA,TANLP,TANL,PMSBP,MTLR,TGKN,GOOG-RM,AMD-RM,PHOR,BIDU-RM,AFKS,INGR,MRKC,MRKP,SFIN,FIVE,IRKT,HIMC,HIMCP,MRKU,WTCM,WTCMP,MRKZ,IGSTP,RZSB,RNFT,RUSP,IGST,ROLO,MGNZ,JNOSP,BA-RM,JNOS,SAGO,IBM-RM,FLOT,PRMB,BMY-RM,MGNT,MAGEP,MAGE,XOM-RM,FEES,SAGOP,MTSS,BIIB-RM,TUZA,RBCM,RGSS,RDRB,RAVN,KHC-RM,NPOF,SVAV,RUSI,QIWI,RUGR,VZRZ,MOBB,YRSB,YRSBP,TNSE,AAL-RM,CSCO-RM,AMZN-RM,TORS,TORSP,V-RM,TASB,TASBP,TWTR-RM,TSLA-RM,TGT-RM,NVTK,TATN,TATNP,NKSH,TTLK,JNJ-RM,NFAZ,RTSBP,RTSB,NNSBP,NNSB,OBUV,OMZZP,KRKO,UBER-RM,KRKOP,UCSS,SIBN,HALS,TUCH,CVX-RM,VTRS-RM,OGKB,UWGN,TRMK,FESH,RTGZ,GTRK,KBSB,MISBP,VRSBP,VRSB,MISB,HPQ-RM,VZRZP,CNTL,ADBE-RM,GM-RM,GRNT,TRFM,GTSS,GLTR,GAZP,GAZC,GAZS,GAZT,GAZAP,GAZA,MSST,GTLC,MSTT,VSYDP,VSYD,TGKBP,TGKB,GE-RM,VGSBP,VGSB,GMKN,TRCN,DZRDP,DZRD,KO-RM,WMT-RM,KZOS,KZOSP,NSVZ,ATVI-RM,DVEC,DASB,LSRG,ETLN,CNTLP,YNDX,NMTP,ABBV-RM,NLMK,DERZP,NKHP,INTC-RM,NKNCP,NKNC,TCSG,DSKY,ABT-RM,IDVP,HHRU,TGKD,KMEZ,MSNG,LSNGP,ENPG,UTAR,CHKZ,AFLT,KZMS,UNKL,PRFN,ELTZ,KRSB,ROSN,UKUZ,CHMK,MSRS,ROST,AKRN,OZON,PG-RM,BABA-RM,AMEZ,SBER,CHGZ,NKE-RM,UPRO,RSTIP,CBOM,KUBE,CHMF,MVID,KBTK,LSNG,LNTA,NVDA-RM,DIS-RM,KROT,RSTI,AVAN,RKKE,MRKK,NFLX-RM,KROTP,GCHE,RTKM,RTKMP,NEM-RM,AVGO-RM,KOGK,NEE-RM,BISVP,KUNF,ABRD,BANE,ACKO,SBERP,BSPB,BANEP,F-RM,KTSBP,KTSB,CHEP,MRKY,KMTZ,BISV,ASSB,KRSBP,BLNG,BRZL,FDX-RM,MERF,LVHK,MGTS,QCOM-RM,MA-RM,MDMG,KCHEP,KSGR,MGTSP,POLY,YKEN,KCHE,KLSB,LPSB,SELGP,FB-RM,RLMNP,TGKDP,CAT-RM,CRM-RM,ROSB,IRAO,RLMN,IRGZ,VSMO,HYDR,KMAZ,MAIL,SIBG,RLMN,LKOH,AQUA,AGRO,PFE-RM,MCD-RM,MRKV,APTK,ALBK,MU-RM,RUAL,KGKCP,KGKC,KAZTP,MRKS,ALRS,KAZT,YAKG,KUZB,MAGN,ARSA,MSFT-RM,BELU,ALNU,EA-RM,ENRU,LNZL,RASP,LNZLP,SELG,YKENP,POGR,PYPL-RM\n"
     ]
    }
   ],
   "source": [
    "# посмотрим что есть на рынках ММВБ\n",
    "market = exporter.lookup(market=Market.SHARES)\n",
    "display(market.head())\n",
    "print(','.join(market['code']))"
   ]
  },
  {
   "cell_type": "code",
   "execution_count": 63,
   "metadata": {},
   "outputs": [
    {
     "data": {
      "text/html": [
       "<div>\n",
       "<style scoped>\n",
       "    .dataframe tbody tr th:only-of-type {\n",
       "        vertical-align: middle;\n",
       "    }\n",
       "\n",
       "    .dataframe tbody tr th {\n",
       "        vertical-align: top;\n",
       "    }\n",
       "\n",
       "    .dataframe thead th {\n",
       "        text-align: right;\n",
       "    }\n",
       "</style>\n",
       "<table border=\"1\" class=\"dataframe\">\n",
       "  <thead>\n",
       "    <tr style=\"text-align: right;\">\n",
       "      <th></th>\n",
       "      <th>name</th>\n",
       "      <th>code</th>\n",
       "      <th>market</th>\n",
       "    </tr>\n",
       "    <tr>\n",
       "      <th>id</th>\n",
       "      <th></th>\n",
       "      <th></th>\n",
       "      <th></th>\n",
       "    </tr>\n",
       "  </thead>\n",
       "  <tbody>\n",
       "    <tr>\n",
       "      <th>2131518</th>\n",
       "      <td>Brent(Sep25)</td>\n",
       "      <td>Brent.25.Sep</td>\n",
       "      <td>24</td>\n",
       "    </tr>\n",
       "    <tr>\n",
       "      <th>912183</th>\n",
       "      <td>Brent(Sep24)</td>\n",
       "      <td>Brent.24.Sep</td>\n",
       "      <td>24</td>\n",
       "    </tr>\n",
       "    <tr>\n",
       "      <th>2017857</th>\n",
       "      <td>Light(Jul25)</td>\n",
       "      <td>Light.25.Jul</td>\n",
       "      <td>24</td>\n",
       "    </tr>\n",
       "    <tr>\n",
       "      <th>485788</th>\n",
       "      <td>Brent(May22)</td>\n",
       "      <td>Brent.22.May</td>\n",
       "      <td>24</td>\n",
       "    </tr>\n",
       "    <tr>\n",
       "      <th>74454</th>\n",
       "      <td>Сахар</td>\n",
       "      <td>YO</td>\n",
       "      <td>24</td>\n",
       "    </tr>\n",
       "  </tbody>\n",
       "</table>\n",
       "</div>"
      ],
      "text/plain": [
       "                 name          code  market\n",
       "id                                         \n",
       "2131518  Brent(Sep25)  Brent.25.Sep      24\n",
       "912183   Brent(Sep24)  Brent.24.Sep      24\n",
       "2017857  Light(Jul25)  Light.25.Jul      24\n",
       "485788   Brent(May22)  Brent.22.May      24\n",
       "74454           Сахар            YO      24"
      ]
     },
     "metadata": {},
     "output_type": "display_data"
    },
    {
     "name": "stdout",
     "output_type": "stream",
     "text": [
      "Brent.25.Sep,Brent.24.Sep,Light.25.Jul,Brent.22.May,YO,CL,Brent.23.May,Light.24.Dec,RB,Brent.23.Sep,Light.20.Dec,Light.24.Feb,Light.21.Dec,Light.22.Dec,Light.25.Feb,Brent.25.May,Brent.22.Sep,Brent.21.Mar,Light.23.Dec,Brent.21.Sep,Brent.24.Nov,Brent.24.May,Light.23.Jan,Brent.23.Nov,Brent.20.Nov,Brent.25.Oct,Light.23.Jul,Brent.24.Oct,Brent.23.Oct,PB,Brent.21.Oct,Brent.21.Aug,Brent.25.Apr,Light.21.Jul,Light.23.Feb,Brent.23.Apr,Brent.22.Apr,Brent.21.Apr,Light.22.Jul,PA,Brent.24.Apr,SN,PL,Brent.23.Aug,Light.25.May,Brent.22.Nov,AH,Light.24.Jan,Light.24.May,BZ,Light.22.Jan,Brent.22.Aug,Light.23.May,Light.22.May,Light.24.Jul,Light.21.May,Brent.21.Nov,SI,Brent.25.Aug,Brent.24.Aug,Light.21.Jan,Brent.22.Oct,Light.22.Apr,Brent.21.May,HO,Brent.21.Jul,Brent.24.Dec,Light.22.Sep,Brent.23.Dec,Brent.22.Dec,Brent.21.Dec,Brent.20.Dec,Light.21.Sep,CA,Brent.22.Jul,GC,Light.23.Sep,Light.25.Oct,Light.24.Sep,Light.25.Sep,Light.24.Nov,Light.24.Oct,Light.21.Feb,Brent.22.Mar,Light.24.Apr,Light.23.Mar,Brent.24.Mar,Light.22.Mar,ZW,Brent.22.Jan,Light.21.Mar,Brent.23.Jan,Light.21.Apr,Brent.24.Jan,Brent.25.Jan,ZS,NG,NI,Light.25.Aug,Brent.25.Feb,Brent.24.Feb,Brent.23.Feb,Brent.22.Feb,Brent.21.Feb,Brent.23.Mar,Light.23.Oct,Brent.25.Mar,Brent.21.Jan,Light.25.Jan,Brent.25.Jul,Light.20.Nov,Light.22.Jun,Brent.21.Jun,Light.23.Aug,Brent.23.Jul,Brent.22.Jun,Light.24.Aug,Light.25.Mar,Brent.24.Jul,Light.25.Jun,Light.21.Jun,Light.24.Mar,Light.21.Nov,Light.22.Aug,Brent.24.Jun,Light.22.Feb,Light.23.Apr,Light.21.Aug,Brent.23.Jun,Brent.25.Jun,Light.22.Oct,Light.21.Oct,Light.25.Apr,Light.24.Jun,Light.23.Nov,Light.22.Nov,Light.23.Jun\n"
     ]
    }
   ],
   "source": [
    "# посмотрим что есть на товарных рынках\n",
    "market = exporter.lookup(market=Market.COMMODITIES)\n",
    "display(market.head())\n",
    "print(','.join(market['code']))"
   ]
  },
  {
   "cell_type": "code",
   "execution_count": 8,
   "metadata": {},
   "outputs": [
    {
     "data": {
      "text/html": [
       "<div>\n",
       "<style scoped>\n",
       "    .dataframe tbody tr th:only-of-type {\n",
       "        vertical-align: middle;\n",
       "    }\n",
       "\n",
       "    .dataframe tbody tr th {\n",
       "        vertical-align: top;\n",
       "    }\n",
       "\n",
       "    .dataframe thead th {\n",
       "        text-align: right;\n",
       "    }\n",
       "</style>\n",
       "<table border=\"1\" class=\"dataframe\">\n",
       "  <thead>\n",
       "    <tr style=\"text-align: right;\">\n",
       "      <th></th>\n",
       "      <th>name</th>\n",
       "      <th>code</th>\n",
       "      <th>market</th>\n",
       "    </tr>\n",
       "    <tr>\n",
       "      <th>id</th>\n",
       "      <th></th>\n",
       "      <th></th>\n",
       "      <th></th>\n",
       "    </tr>\n",
       "  </thead>\n",
       "  <tbody>\n",
       "    <tr>\n",
       "      <th>19473</th>\n",
       "      <td>Brent</td>\n",
       "      <td>BZ</td>\n",
       "      <td>24</td>\n",
       "    </tr>\n",
       "  </tbody>\n",
       "</table>\n",
       "</div>"
      ],
      "text/plain": [
       "        name code  market\n",
       "id                       \n",
       "19473  Brent   BZ      24"
      ]
     },
     "metadata": {},
     "output_type": "display_data"
    }
   ],
   "source": [
    "# тикер BRENT\n",
    "market = exporter.lookup(code = \"BZ\", market=Market.COMMODITIES)\n",
    "display(market.head())"
   ]
  },
  {
   "cell_type": "code",
   "execution_count": 9,
   "metadata": {},
   "outputs": [
    {
     "data": {
      "text/html": [
       "<div>\n",
       "<style scoped>\n",
       "    .dataframe tbody tr th:only-of-type {\n",
       "        vertical-align: middle;\n",
       "    }\n",
       "\n",
       "    .dataframe tbody tr th {\n",
       "        vertical-align: top;\n",
       "    }\n",
       "\n",
       "    .dataframe thead th {\n",
       "        text-align: right;\n",
       "    }\n",
       "</style>\n",
       "<table border=\"1\" class=\"dataframe\">\n",
       "  <thead>\n",
       "    <tr style=\"text-align: right;\">\n",
       "      <th></th>\n",
       "      <th>name</th>\n",
       "      <th>code</th>\n",
       "      <th>market</th>\n",
       "    </tr>\n",
       "    <tr>\n",
       "      <th>id</th>\n",
       "      <th></th>\n",
       "      <th></th>\n",
       "      <th></th>\n",
       "    </tr>\n",
       "  </thead>\n",
       "  <tbody>\n",
       "    <tr>\n",
       "      <th>3</th>\n",
       "      <td>Сбербанк</td>\n",
       "      <td>SBER</td>\n",
       "      <td>1</td>\n",
       "    </tr>\n",
       "  </tbody>\n",
       "</table>\n",
       "</div>"
      ],
      "text/plain": [
       "        name  code  market\n",
       "id                        \n",
       "3   Сбербанк  SBER       1"
      ]
     },
     "metadata": {},
     "output_type": "display_data"
    },
    {
     "data": {
      "text/html": [
       "<div>\n",
       "<style scoped>\n",
       "    .dataframe tbody tr th:only-of-type {\n",
       "        vertical-align: middle;\n",
       "    }\n",
       "\n",
       "    .dataframe tbody tr th {\n",
       "        vertical-align: top;\n",
       "    }\n",
       "\n",
       "    .dataframe thead th {\n",
       "        text-align: right;\n",
       "    }\n",
       "</style>\n",
       "<table border=\"1\" class=\"dataframe\">\n",
       "  <thead>\n",
       "    <tr style=\"text-align: right;\">\n",
       "      <th></th>\n",
       "      <th>&lt;DATE&gt;</th>\n",
       "      <th>&lt;TIME&gt;</th>\n",
       "      <th>&lt;OPEN&gt;</th>\n",
       "      <th>&lt;HIGH&gt;</th>\n",
       "      <th>&lt;LOW&gt;</th>\n",
       "      <th>&lt;CLOSE&gt;</th>\n",
       "      <th>&lt;VOL&gt;</th>\n",
       "    </tr>\n",
       "  </thead>\n",
       "  <tbody>\n",
       "    <tr>\n",
       "      <th>0</th>\n",
       "      <td>20170103</td>\n",
       "      <td>00:00:00</td>\n",
       "      <td>173.41</td>\n",
       "      <td>181.68</td>\n",
       "      <td>173.00</td>\n",
       "      <td>180.12</td>\n",
       "      <td>53842180</td>\n",
       "    </tr>\n",
       "    <tr>\n",
       "      <th>1</th>\n",
       "      <td>20170104</td>\n",
       "      <td>00:00:00</td>\n",
       "      <td>178.91</td>\n",
       "      <td>179.41</td>\n",
       "      <td>174.23</td>\n",
       "      <td>175.95</td>\n",
       "      <td>41327620</td>\n",
       "    </tr>\n",
       "    <tr>\n",
       "      <th>2</th>\n",
       "      <td>20170105</td>\n",
       "      <td>00:00:00</td>\n",
       "      <td>176.32</td>\n",
       "      <td>177.28</td>\n",
       "      <td>171.54</td>\n",
       "      <td>171.90</td>\n",
       "      <td>35076900</td>\n",
       "    </tr>\n",
       "    <tr>\n",
       "      <th>3</th>\n",
       "      <td>20170106</td>\n",
       "      <td>00:00:00</td>\n",
       "      <td>172.41</td>\n",
       "      <td>173.75</td>\n",
       "      <td>169.50</td>\n",
       "      <td>170.69</td>\n",
       "      <td>35395940</td>\n",
       "    </tr>\n",
       "    <tr>\n",
       "      <th>4</th>\n",
       "      <td>20170109</td>\n",
       "      <td>00:00:00</td>\n",
       "      <td>171.37</td>\n",
       "      <td>172.39</td>\n",
       "      <td>168.05</td>\n",
       "      <td>168.35</td>\n",
       "      <td>35166440</td>\n",
       "    </tr>\n",
       "  </tbody>\n",
       "</table>\n",
       "</div>"
      ],
      "text/plain": [
       "     <DATE>    <TIME>  <OPEN>  <HIGH>   <LOW>  <CLOSE>     <VOL>\n",
       "0  20170103  00:00:00  173.41  181.68  173.00   180.12  53842180\n",
       "1  20170104  00:00:00  178.91  179.41  174.23   175.95  41327620\n",
       "2  20170105  00:00:00  176.32  177.28  171.54   171.90  35076900\n",
       "3  20170106  00:00:00  172.41  173.75  169.50   170.69  35395940\n",
       "4  20170109  00:00:00  171.37  172.39  168.05   168.35  35166440"
      ]
     },
     "execution_count": 9,
     "metadata": {},
     "output_type": "execute_result"
    }
   ],
   "source": [
    "start_date = datetime(2017, 1, 1)\n",
    "end_date = datetime(2017, 12, 31)\n",
    "sber = exporter.lookup(code='SBER',market=Market.SHARES)\n",
    "\n",
    "display(sber)\n",
    "\n",
    "data_daily = exporter.download(\n",
    "    sber.index[0], \n",
    "    market=Market.SHARES,\n",
    "    start_date=start_date,\n",
    "    end_date=end_date\n",
    ")\n",
    "data_daily.head()\n"
   ]
  },
  {
   "cell_type": "code",
   "execution_count": 13,
   "metadata": {},
   "outputs": [
    {
     "data": {
      "text/html": [
       "<div>\n",
       "<style scoped>\n",
       "    .dataframe tbody tr th:only-of-type {\n",
       "        vertical-align: middle;\n",
       "    }\n",
       "\n",
       "    .dataframe tbody tr th {\n",
       "        vertical-align: top;\n",
       "    }\n",
       "\n",
       "    .dataframe thead th {\n",
       "        text-align: right;\n",
       "    }\n",
       "</style>\n",
       "<table border=\"1\" class=\"dataframe\">\n",
       "  <thead>\n",
       "    <tr style=\"text-align: right;\">\n",
       "      <th></th>\n",
       "      <th>&lt;DATE&gt;</th>\n",
       "      <th>&lt;TIME&gt;</th>\n",
       "      <th>&lt;OPEN&gt;</th>\n",
       "      <th>&lt;HIGH&gt;</th>\n",
       "      <th>&lt;LOW&gt;</th>\n",
       "      <th>&lt;CLOSE&gt;</th>\n",
       "      <th>&lt;VOL&gt;</th>\n",
       "    </tr>\n",
       "  </thead>\n",
       "  <tbody>\n",
       "    <tr>\n",
       "      <th>0</th>\n",
       "      <td>20200103</td>\n",
       "      <td>10:00:00</td>\n",
       "      <td>255.97</td>\n",
       "      <td>256.97</td>\n",
       "      <td>255.85</td>\n",
       "      <td>256.77</td>\n",
       "      <td>1161410</td>\n",
       "    </tr>\n",
       "    <tr>\n",
       "      <th>1</th>\n",
       "      <td>20200103</td>\n",
       "      <td>10:05:00</td>\n",
       "      <td>256.77</td>\n",
       "      <td>256.90</td>\n",
       "      <td>256.30</td>\n",
       "      <td>256.70</td>\n",
       "      <td>910890</td>\n",
       "    </tr>\n",
       "    <tr>\n",
       "      <th>2</th>\n",
       "      <td>20200103</td>\n",
       "      <td>10:10:00</td>\n",
       "      <td>256.68</td>\n",
       "      <td>256.75</td>\n",
       "      <td>256.03</td>\n",
       "      <td>256.12</td>\n",
       "      <td>440290</td>\n",
       "    </tr>\n",
       "    <tr>\n",
       "      <th>3</th>\n",
       "      <td>20200103</td>\n",
       "      <td>10:15:00</td>\n",
       "      <td>256.19</td>\n",
       "      <td>256.42</td>\n",
       "      <td>255.83</td>\n",
       "      <td>255.89</td>\n",
       "      <td>472330</td>\n",
       "    </tr>\n",
       "    <tr>\n",
       "      <th>4</th>\n",
       "      <td>20200103</td>\n",
       "      <td>10:20:00</td>\n",
       "      <td>255.89</td>\n",
       "      <td>256.31</td>\n",
       "      <td>255.88</td>\n",
       "      <td>256.13</td>\n",
       "      <td>219100</td>\n",
       "    </tr>\n",
       "    <tr>\n",
       "      <th>5</th>\n",
       "      <td>20200103</td>\n",
       "      <td>10:25:00</td>\n",
       "      <td>256.19</td>\n",
       "      <td>256.31</td>\n",
       "      <td>256.08</td>\n",
       "      <td>256.29</td>\n",
       "      <td>159720</td>\n",
       "    </tr>\n",
       "    <tr>\n",
       "      <th>6</th>\n",
       "      <td>20200103</td>\n",
       "      <td>10:30:00</td>\n",
       "      <td>256.20</td>\n",
       "      <td>256.32</td>\n",
       "      <td>256.09</td>\n",
       "      <td>256.22</td>\n",
       "      <td>132250</td>\n",
       "    </tr>\n",
       "    <tr>\n",
       "      <th>7</th>\n",
       "      <td>20200103</td>\n",
       "      <td>10:35:00</td>\n",
       "      <td>256.21</td>\n",
       "      <td>256.21</td>\n",
       "      <td>256.01</td>\n",
       "      <td>256.15</td>\n",
       "      <td>109490</td>\n",
       "    </tr>\n",
       "    <tr>\n",
       "      <th>8</th>\n",
       "      <td>20200103</td>\n",
       "      <td>10:40:00</td>\n",
       "      <td>256.15</td>\n",
       "      <td>256.46</td>\n",
       "      <td>256.08</td>\n",
       "      <td>256.43</td>\n",
       "      <td>99440</td>\n",
       "    </tr>\n",
       "    <tr>\n",
       "      <th>9</th>\n",
       "      <td>20200103</td>\n",
       "      <td>10:45:00</td>\n",
       "      <td>256.41</td>\n",
       "      <td>256.47</td>\n",
       "      <td>256.32</td>\n",
       "      <td>256.38</td>\n",
       "      <td>84220</td>\n",
       "    </tr>\n",
       "  </tbody>\n",
       "</table>\n",
       "</div>"
      ],
      "text/plain": [
       "     <DATE>    <TIME>  <OPEN>  <HIGH>   <LOW>  <CLOSE>    <VOL>\n",
       "0  20200103  10:00:00  255.97  256.97  255.85   256.77  1161410\n",
       "1  20200103  10:05:00  256.77  256.90  256.30   256.70   910890\n",
       "2  20200103  10:10:00  256.68  256.75  256.03   256.12   440290\n",
       "3  20200103  10:15:00  256.19  256.42  255.83   255.89   472330\n",
       "4  20200103  10:20:00  255.89  256.31  255.88   256.13   219100\n",
       "5  20200103  10:25:00  256.19  256.31  256.08   256.29   159720\n",
       "6  20200103  10:30:00  256.20  256.32  256.09   256.22   132250\n",
       "7  20200103  10:35:00  256.21  256.21  256.01   256.15   109490\n",
       "8  20200103  10:40:00  256.15  256.46  256.08   256.43    99440\n",
       "9  20200103  10:45:00  256.41  256.47  256.32   256.38    84220"
      ]
     },
     "execution_count": 13,
     "metadata": {},
     "output_type": "execute_result"
    }
   ],
   "source": [
    "#Timeframe:\n",
    "# TICKS\n",
    "# MINUTES1\n",
    "# MINUTES5\n",
    "# MINUTES10\n",
    "# MINUTES15\n",
    "# MINUTES30\n",
    "# HOURLY\n",
    "# DAILY\n",
    "# WEEKLY\n",
    "# MONTHLY\n",
    "\n",
    "data_5min = exporter.download(\n",
    "    #id_ = sber.index[0],\n",
    "    id_ = 3,\n",
    "    market = Market.SHARES,\n",
    "    start_date = datetime(2020, 1, 1),\n",
    "    end_date = datetime(2020, 1, 5),\n",
    "    timeframe=Timeframe.MINUTES5 \n",
    ")\n",
    "data_5min.head(10)"
   ]
  },
  {
   "cell_type": "markdown",
   "metadata": {},
   "source": [
    "Поработаем с дневными данными"
   ]
  },
  {
   "cell_type": "code",
   "execution_count": 87,
   "metadata": {},
   "outputs": [
    {
     "data": {
      "text/html": [
       "<div>\n",
       "<style scoped>\n",
       "    .dataframe tbody tr th:only-of-type {\n",
       "        vertical-align: middle;\n",
       "    }\n",
       "\n",
       "    .dataframe tbody tr th {\n",
       "        vertical-align: top;\n",
       "    }\n",
       "\n",
       "    .dataframe thead th {\n",
       "        text-align: right;\n",
       "    }\n",
       "</style>\n",
       "<table border=\"1\" class=\"dataframe\">\n",
       "  <thead>\n",
       "    <tr style=\"text-align: right;\">\n",
       "      <th></th>\n",
       "      <th>&lt;DATE&gt;</th>\n",
       "      <th>&lt;TIME&gt;</th>\n",
       "      <th>&lt;OPEN&gt;</th>\n",
       "      <th>&lt;HIGH&gt;</th>\n",
       "      <th>&lt;LOW&gt;</th>\n",
       "      <th>&lt;CLOSE&gt;</th>\n",
       "      <th>&lt;VOL&gt;</th>\n",
       "    </tr>\n",
       "  </thead>\n",
       "  <tbody>\n",
       "    <tr>\n",
       "      <th>0</th>\n",
       "      <td>20170103</td>\n",
       "      <td>00:00:00</td>\n",
       "      <td>173.41</td>\n",
       "      <td>181.68</td>\n",
       "      <td>173.00</td>\n",
       "      <td>180.12</td>\n",
       "      <td>53842180</td>\n",
       "    </tr>\n",
       "    <tr>\n",
       "      <th>1</th>\n",
       "      <td>20170104</td>\n",
       "      <td>00:00:00</td>\n",
       "      <td>178.91</td>\n",
       "      <td>179.41</td>\n",
       "      <td>174.23</td>\n",
       "      <td>175.95</td>\n",
       "      <td>41327620</td>\n",
       "    </tr>\n",
       "    <tr>\n",
       "      <th>2</th>\n",
       "      <td>20170105</td>\n",
       "      <td>00:00:00</td>\n",
       "      <td>176.32</td>\n",
       "      <td>177.28</td>\n",
       "      <td>171.54</td>\n",
       "      <td>171.90</td>\n",
       "      <td>35076900</td>\n",
       "    </tr>\n",
       "    <tr>\n",
       "      <th>3</th>\n",
       "      <td>20170106</td>\n",
       "      <td>00:00:00</td>\n",
       "      <td>172.41</td>\n",
       "      <td>173.75</td>\n",
       "      <td>169.50</td>\n",
       "      <td>170.69</td>\n",
       "      <td>35395940</td>\n",
       "    </tr>\n",
       "    <tr>\n",
       "      <th>4</th>\n",
       "      <td>20170109</td>\n",
       "      <td>00:00:00</td>\n",
       "      <td>171.37</td>\n",
       "      <td>172.39</td>\n",
       "      <td>168.05</td>\n",
       "      <td>168.35</td>\n",
       "      <td>35166440</td>\n",
       "    </tr>\n",
       "  </tbody>\n",
       "</table>\n",
       "</div>"
      ],
      "text/plain": [
       "     <DATE>    <TIME>  <OPEN>  <HIGH>   <LOW>  <CLOSE>     <VOL>\n",
       "0  20170103  00:00:00  173.41  181.68  173.00   180.12  53842180\n",
       "1  20170104  00:00:00  178.91  179.41  174.23   175.95  41327620\n",
       "2  20170105  00:00:00  176.32  177.28  171.54   171.90  35076900\n",
       "3  20170106  00:00:00  172.41  173.75  169.50   170.69  35395940\n",
       "4  20170109  00:00:00  171.37  172.39  168.05   168.35  35166440"
      ]
     },
     "execution_count": 87,
     "metadata": {},
     "output_type": "execute_result"
    }
   ],
   "source": [
    "data_daily.head(5)"
   ]
  },
  {
   "cell_type": "code",
   "execution_count": 94,
   "metadata": {},
   "outputs": [
    {
     "data": {
      "text/html": [
       "<div>\n",
       "<style scoped>\n",
       "    .dataframe tbody tr th:only-of-type {\n",
       "        vertical-align: middle;\n",
       "    }\n",
       "\n",
       "    .dataframe tbody tr th {\n",
       "        vertical-align: top;\n",
       "    }\n",
       "\n",
       "    .dataframe thead th {\n",
       "        text-align: right;\n",
       "    }\n",
       "</style>\n",
       "<table border=\"1\" class=\"dataframe\">\n",
       "  <thead>\n",
       "    <tr style=\"text-align: right;\">\n",
       "      <th></th>\n",
       "      <th>Open</th>\n",
       "      <th>High</th>\n",
       "      <th>Low</th>\n",
       "      <th>Close</th>\n",
       "      <th>Volume</th>\n",
       "    </tr>\n",
       "    <tr>\n",
       "      <th>Date</th>\n",
       "      <th></th>\n",
       "      <th></th>\n",
       "      <th></th>\n",
       "      <th></th>\n",
       "      <th></th>\n",
       "    </tr>\n",
       "  </thead>\n",
       "  <tbody>\n",
       "    <tr>\n",
       "      <th>2017-01-03</th>\n",
       "      <td>173.41</td>\n",
       "      <td>181.68</td>\n",
       "      <td>173.00</td>\n",
       "      <td>180.12</td>\n",
       "      <td>53842180</td>\n",
       "    </tr>\n",
       "    <tr>\n",
       "      <th>2017-01-04</th>\n",
       "      <td>178.91</td>\n",
       "      <td>179.41</td>\n",
       "      <td>174.23</td>\n",
       "      <td>175.95</td>\n",
       "      <td>41327620</td>\n",
       "    </tr>\n",
       "    <tr>\n",
       "      <th>2017-01-05</th>\n",
       "      <td>176.32</td>\n",
       "      <td>177.28</td>\n",
       "      <td>171.54</td>\n",
       "      <td>171.90</td>\n",
       "      <td>35076900</td>\n",
       "    </tr>\n",
       "    <tr>\n",
       "      <th>2017-01-06</th>\n",
       "      <td>172.41</td>\n",
       "      <td>173.75</td>\n",
       "      <td>169.50</td>\n",
       "      <td>170.69</td>\n",
       "      <td>35395940</td>\n",
       "    </tr>\n",
       "    <tr>\n",
       "      <th>2017-01-09</th>\n",
       "      <td>171.37</td>\n",
       "      <td>172.39</td>\n",
       "      <td>168.05</td>\n",
       "      <td>168.35</td>\n",
       "      <td>35166440</td>\n",
       "    </tr>\n",
       "  </tbody>\n",
       "</table>\n",
       "</div>"
      ],
      "text/plain": [
       "              Open    High     Low   Close    Volume\n",
       "Date                                                \n",
       "2017-01-03  173.41  181.68  173.00  180.12  53842180\n",
       "2017-01-04  178.91  179.41  174.23  175.95  41327620\n",
       "2017-01-05  176.32  177.28  171.54  171.90  35076900\n",
       "2017-01-06  172.41  173.75  169.50  170.69  35395940\n",
       "2017-01-09  171.37  172.39  168.05  168.35  35166440"
      ]
     },
     "execution_count": 94,
     "metadata": {},
     "output_type": "execute_result"
    }
   ],
   "source": [
    "data_daily.columns = ['Date','Time','Open', 'High','Low','Close','Volume']\n",
    "data_daily.index = pd.to_datetime(data_daily.Date,format='%Y%m%d')\n",
    "data_daily.drop(columns=['Date','Time'],inplace =True)\n",
    "data_daily.head(5)\n"
   ]
  },
  {
   "cell_type": "code",
   "execution_count": 96,
   "metadata": {},
   "outputs": [
    {
     "data": {
      "text/plain": [
       "Date\n",
       "2017-01-31     988723570\n",
       "2017-02-28     816284690\n",
       "2017-03-31     978856860\n",
       "2017-04-30     963970030\n",
       "2017-05-31     824194850\n",
       "2017-06-30    1247585930\n",
       "2017-07-31    1055435570\n",
       "2017-08-31    1063813850\n",
       "2017-09-30     942566460\n",
       "2017-10-31     744449580\n",
       "2017-11-30    1252529590\n",
       "2017-12-31     682568440\n",
       "Freq: M, Name: Volume, dtype: int64"
      ]
     },
     "execution_count": 96,
     "metadata": {},
     "output_type": "execute_result"
    }
   ],
   "source": [
    "data_volume_month=data_daily.Volume.resample('m').sum()\n",
    "data_volume_month"
   ]
  },
  {
   "cell_type": "code",
   "execution_count": 97,
   "metadata": {},
   "outputs": [
    {
     "data": {
      "text/plain": [
       "array([173.41, 172.51, 155.99, 160.5 , 166.  , 156.4 , 146.69, 165.53,\n",
       "       183.85, 192.71, 194.5 , 224.53])"
      ]
     },
     "execution_count": 97,
     "metadata": {},
     "output_type": "execute_result"
    }
   ],
   "source": [
    "open_m=data_daily.Open.resample('M').first().values\n",
    "open_m"
   ]
  },
  {
   "cell_type": "code",
   "execution_count": 98,
   "metadata": {},
   "outputs": [],
   "source": [
    "close_m=data_daily.Close.resample('M').last().values\n",
    "low_m=data_daily.Low.resample('M').min().values\n",
    "high_m=data_daily.High.resample('M').max().values"
   ]
  },
  {
   "cell_type": "code",
   "execution_count": 99,
   "metadata": {},
   "outputs": [
    {
     "data": {
      "text/plain": [
       "Index(['Jan', 'Feb', 'Mar', 'Apr', 'May', 'Jun', 'Jul', 'Aug', 'Sep', 'Oct',\n",
       "       'Nov', 'Dec'],\n",
       "      dtype='object', name='Date')"
      ]
     },
     "execution_count": 99,
     "metadata": {},
     "output_type": "execute_result"
    }
   ],
   "source": [
    "month=data_daily.index.strftime('%b').unique()\n",
    "month"
   ]
  },
  {
   "cell_type": "code",
   "execution_count": 100,
   "metadata": {},
   "outputs": [
    {
     "data": {
      "text/plain": [
       "PeriodIndex(['2017-01', '2017-02', '2017-03', '2017-04', '2017-05', '2017-06',\n",
       "             '2017-07', '2017-08', '2017-09', '2017-10', '2017-11', '2017-12'],\n",
       "            dtype='period[M]', name='Date', freq='M')"
      ]
     },
     "execution_count": 100,
     "metadata": {},
     "output_type": "execute_result"
    }
   ],
   "source": [
    "data_daily.to_period('M').index.unique()"
   ]
  },
  {
   "cell_type": "code",
   "execution_count": 101,
   "metadata": {},
   "outputs": [
    {
     "data": {
      "text/html": [
       "<div>\n",
       "<style scoped>\n",
       "    .dataframe tbody tr th:only-of-type {\n",
       "        vertical-align: middle;\n",
       "    }\n",
       "\n",
       "    .dataframe tbody tr th {\n",
       "        vertical-align: top;\n",
       "    }\n",
       "\n",
       "    .dataframe thead th {\n",
       "        text-align: right;\n",
       "    }\n",
       "</style>\n",
       "<table border=\"1\" class=\"dataframe\">\n",
       "  <thead>\n",
       "    <tr style=\"text-align: right;\">\n",
       "      <th></th>\n",
       "      <th>month</th>\n",
       "      <th>open</th>\n",
       "      <th>close</th>\n",
       "      <th>low</th>\n",
       "      <th>high</th>\n",
       "    </tr>\n",
       "    <tr>\n",
       "      <th>Date</th>\n",
       "      <th></th>\n",
       "      <th></th>\n",
       "      <th></th>\n",
       "      <th></th>\n",
       "      <th></th>\n",
       "    </tr>\n",
       "  </thead>\n",
       "  <tbody>\n",
       "    <tr>\n",
       "      <th>2017-01</th>\n",
       "      <td>Jan</td>\n",
       "      <td>173.41</td>\n",
       "      <td>172.2</td>\n",
       "      <td>163.34</td>\n",
       "      <td>181.68</td>\n",
       "    </tr>\n",
       "    <tr>\n",
       "      <th>2017-02</th>\n",
       "      <td>Feb</td>\n",
       "      <td>172.51</td>\n",
       "      <td>156.0</td>\n",
       "      <td>155.70</td>\n",
       "      <td>174.98</td>\n",
       "    </tr>\n",
       "    <tr>\n",
       "      <th>2017-03</th>\n",
       "      <td>Mar</td>\n",
       "      <td>155.99</td>\n",
       "      <td>159.8</td>\n",
       "      <td>155.23</td>\n",
       "      <td>165.99</td>\n",
       "    </tr>\n",
       "  </tbody>\n",
       "</table>\n",
       "</div>"
      ],
      "text/plain": [
       "        month    open  close     low    high\n",
       "Date                                        \n",
       "2017-01   Jan  173.41  172.2  163.34  181.68\n",
       "2017-02   Feb  172.51  156.0  155.70  174.98\n",
       "2017-03   Mar  155.99  159.8  155.23  165.99"
      ]
     },
     "execution_count": 101,
     "metadata": {},
     "output_type": "execute_result"
    }
   ],
   "source": [
    "moth_a = pd.DataFrame(\n",
    "    {'month':month,'open':open_m,'close':close_m,'low':low_m,'high':high_m},\n",
    "    index=data_daily.to_period('M').index.unique())\n",
    "moth_a.head(3)"
   ]
  },
  {
   "cell_type": "code",
   "execution_count": 103,
   "metadata": {},
   "outputs": [
    {
     "data": {
      "text/html": [
       "<div>\n",
       "<style scoped>\n",
       "    .dataframe tbody tr th:only-of-type {\n",
       "        vertical-align: middle;\n",
       "    }\n",
       "\n",
       "    .dataframe tbody tr th {\n",
       "        vertical-align: top;\n",
       "    }\n",
       "\n",
       "    .dataframe thead th {\n",
       "        text-align: right;\n",
       "    }\n",
       "</style>\n",
       "<table border=\"1\" class=\"dataframe\">\n",
       "  <thead>\n",
       "    <tr style=\"text-align: right;\">\n",
       "      <th></th>\n",
       "      <th>Open</th>\n",
       "      <th>Low</th>\n",
       "      <th>High</th>\n",
       "      <th>Close</th>\n",
       "    </tr>\n",
       "    <tr>\n",
       "      <th>Date</th>\n",
       "      <th></th>\n",
       "      <th></th>\n",
       "      <th></th>\n",
       "      <th></th>\n",
       "    </tr>\n",
       "  </thead>\n",
       "  <tbody>\n",
       "    <tr>\n",
       "      <th>2017-01-31</th>\n",
       "      <td>173.41</td>\n",
       "      <td>163.34</td>\n",
       "      <td>181.68</td>\n",
       "      <td>172.20</td>\n",
       "    </tr>\n",
       "    <tr>\n",
       "      <th>2017-02-28</th>\n",
       "      <td>172.51</td>\n",
       "      <td>155.70</td>\n",
       "      <td>174.98</td>\n",
       "      <td>156.00</td>\n",
       "    </tr>\n",
       "    <tr>\n",
       "      <th>2017-03-31</th>\n",
       "      <td>155.99</td>\n",
       "      <td>155.23</td>\n",
       "      <td>165.99</td>\n",
       "      <td>159.80</td>\n",
       "    </tr>\n",
       "    <tr>\n",
       "      <th>2017-04-30</th>\n",
       "      <td>160.50</td>\n",
       "      <td>147.62</td>\n",
       "      <td>168.45</td>\n",
       "      <td>165.20</td>\n",
       "    </tr>\n",
       "    <tr>\n",
       "      <th>2017-05-31</th>\n",
       "      <td>166.00</td>\n",
       "      <td>155.03</td>\n",
       "      <td>172.39</td>\n",
       "      <td>155.93</td>\n",
       "    </tr>\n",
       "    <tr>\n",
       "      <th>2017-06-30</th>\n",
       "      <td>156.40</td>\n",
       "      <td>136.20</td>\n",
       "      <td>158.89</td>\n",
       "      <td>145.59</td>\n",
       "    </tr>\n",
       "    <tr>\n",
       "      <th>2017-07-31</th>\n",
       "      <td>146.69</td>\n",
       "      <td>146.22</td>\n",
       "      <td>167.35</td>\n",
       "      <td>164.53</td>\n",
       "    </tr>\n",
       "    <tr>\n",
       "      <th>2017-08-31</th>\n",
       "      <td>165.53</td>\n",
       "      <td>165.30</td>\n",
       "      <td>186.33</td>\n",
       "      <td>183.51</td>\n",
       "    </tr>\n",
       "    <tr>\n",
       "      <th>2017-09-30</th>\n",
       "      <td>183.85</td>\n",
       "      <td>180.93</td>\n",
       "      <td>195.00</td>\n",
       "      <td>192.33</td>\n",
       "    </tr>\n",
       "    <tr>\n",
       "      <th>2017-10-31</th>\n",
       "      <td>192.71</td>\n",
       "      <td>189.06</td>\n",
       "      <td>198.52</td>\n",
       "      <td>193.80</td>\n",
       "    </tr>\n",
       "    <tr>\n",
       "      <th>2017-11-30</th>\n",
       "      <td>194.50</td>\n",
       "      <td>192.38</td>\n",
       "      <td>233.95</td>\n",
       "      <td>224.35</td>\n",
       "    </tr>\n",
       "    <tr>\n",
       "      <th>2017-12-31</th>\n",
       "      <td>224.53</td>\n",
       "      <td>219.23</td>\n",
       "      <td>230.50</td>\n",
       "      <td>225.20</td>\n",
       "    </tr>\n",
       "  </tbody>\n",
       "</table>\n",
       "</div>"
      ],
      "text/plain": [
       "              Open     Low    High   Close\n",
       "Date                                      \n",
       "2017-01-31  173.41  163.34  181.68  172.20\n",
       "2017-02-28  172.51  155.70  174.98  156.00\n",
       "2017-03-31  155.99  155.23  165.99  159.80\n",
       "2017-04-30  160.50  147.62  168.45  165.20\n",
       "2017-05-31  166.00  155.03  172.39  155.93\n",
       "2017-06-30  156.40  136.20  158.89  145.59\n",
       "2017-07-31  146.69  146.22  167.35  164.53\n",
       "2017-08-31  165.53  165.30  186.33  183.51\n",
       "2017-09-30  183.85  180.93  195.00  192.33\n",
       "2017-10-31  192.71  189.06  198.52  193.80\n",
       "2017-11-30  194.50  192.38  233.95  224.35\n",
       "2017-12-31  224.53  219.23  230.50  225.20"
      ]
     },
     "execution_count": 103,
     "metadata": {},
     "output_type": "execute_result"
    }
   ],
   "source": [
    "sb_m = data_daily.resample('m').agg({'Open':'first','Low':'min','High':'max','Close':'last'})\n",
    "sb_m"
   ]
  },
  {
   "cell_type": "code",
   "execution_count": 105,
   "metadata": {},
   "outputs": [
    {
     "data": {
      "text/html": [
       "        <script type=\"text/javascript\">\n",
       "        window.PlotlyConfig = {MathJaxConfig: 'local'};\n",
       "        if (window.MathJax) {MathJax.Hub.Config({SVG: {font: \"STIX-Web\"}});}\n",
       "        if (typeof require !== 'undefined') {\n",
       "        require.undef(\"plotly\");\n",
       "        requirejs.config({\n",
       "            paths: {\n",
       "                'plotly': ['https://cdn.plot.ly/plotly-latest.min']\n",
       "            }\n",
       "        });\n",
       "        require(['plotly'], function(Plotly) {\n",
       "            window._Plotly = Plotly;\n",
       "        });\n",
       "        }\n",
       "        </script>\n",
       "        "
      ]
     },
     "metadata": {},
     "output_type": "display_data"
    }
   ],
   "source": [
    "from plotly.offline import download_plotlyjs, init_notebook_mode, plot, iplot\n",
    "import plotly.graph_objs as go\n",
    "init_notebook_mode(connected=True)"
   ]
  },
  {
   "cell_type": "code",
   "execution_count": 106,
   "metadata": {},
   "outputs": [
    {
     "data": {
      "application/vnd.plotly.v1+json": {
       "config": {
        "linkText": "Export to plot.ly",
        "plotlyServerURL": "https://plot.ly",
        "showLink": false
       },
       "data": [
        {
         "close": [
          180.12,
          175.95,
          171.9,
          170.69,
          168.35,
          171.6,
          169.05,
          168.27,
          164.9,
          164.66,
          165.98,
          165.24,
          166.3,
          167.49,
          166.75,
          170.25,
          170.26,
          173.79,
          178.92,
          174.6,
          172.2,
          173.9,
          172.83,
          173.8,
          172.87,
          173.47,
          171.2,
          168.8,
          165.5,
          164.7,
          162.7,
          163.5,
          166.49,
          165.49,
          165.44,
          167,
          165.9,
          165.51,
          160.95,
          156,
          160,
          163.4,
          164.4,
          162,
          160.98,
          156.2,
          157.5,
          158.92,
          157.42,
          156.2,
          158.35,
          161.15,
          163.8,
          162.98,
          162.92,
          164.15,
          164.52,
          162.69,
          163.66,
          163.22,
          163.5,
          159.8,
          161.8,
          163.5,
          168.1,
          167.49,
          161.49,
          155.2,
          156,
          150.28,
          152,
          149.24,
          153.99,
          153.4,
          153.6,
          158.21,
          159.59,
          162.5,
          162.55,
          165.05,
          164.69,
          165.2,
          166.64,
          164.71,
          165.5,
          165.8,
          170.8,
          169.97,
          167.7,
          171.35,
          170.66,
          169.24,
          166.5,
          168.87,
          168.03,
          166.31,
          165.7,
          164.05,
          160.7,
          163.9,
          161.64,
          155.93,
          153,
          157.14,
          154.7,
          152.8,
          152.82,
          151.93,
          150.13,
          146,
          143,
          139,
          141.63,
          145,
          144.9,
          143.49,
          144.25,
          144.1,
          144.49,
          147.1,
          145.5,
          143.8,
          145.59,
          147.5,
          149.39,
          148.96,
          150.35,
          152.16,
          155,
          156.91,
          160.85,
          159.94,
          161.4,
          161.98,
          161.7,
          164.34,
          163.93,
          162.1,
          161.33,
          160.22,
          161.55,
          166,
          165.4,
          164.53,
          166.31,
          169.9,
          170,
          169.73,
          172.79,
          175.75,
          173.4,
          172.2,
          172.05,
          172.51,
          172.33,
          173.05,
          172.72,
          169.5,
          169.9,
          171,
          175.3,
          179.8,
          180.51,
          181.85,
          181.89,
          183.5,
          183.51,
          183.66,
          184.1,
          184.14,
          183.12,
          184,
          185.89,
          190.5,
          189.32,
          189.1,
          188.64,
          188.75,
          188.04,
          184.85,
          186.47,
          187.38,
          187.55,
          191.2,
          192.54,
          193.7,
          191.96,
          192.33,
          193,
          192.5,
          192.03,
          193.74,
          194.16,
          194,
          193.21,
          195.83,
          195.51,
          196.48,
          197.7,
          197.2,
          195.31,
          192.2,
          192.97,
          192.34,
          192.5,
          192.04,
          192.75,
          196.05,
          195,
          193.8,
          194.05,
          193.85,
          193.8,
          205.96,
          209.09,
          220.05,
          217.7,
          216.61,
          221.4,
          225.95,
          227.5,
          225.65,
          224.6,
          231,
          230.25,
          225.56,
          228,
          226.76,
          230,
          228.2,
          224.35,
          221.5,
          224.6,
          223.91,
          223.75,
          219.81,
          220.89,
          227.69,
          227.9,
          221.8,
          229.9,
          226.53,
          227.4,
          224.1,
          226,
          223.6,
          221.44,
          223.3,
          223.57,
          226.98,
          224.2,
          225.2
         ],
         "high": [
          181.68,
          179.41,
          177.28,
          173.75,
          172.39,
          172.3,
          173.05,
          170.65,
          172.39,
          166.8,
          166.47,
          167.8,
          166.99,
          168.19,
          167.31,
          170.7,
          171.3,
          174.39,
          178.92,
          178,
          175.27,
          174.27,
          174.69,
          174.19,
          174.98,
          174.18,
          173.15,
          172.67,
          170.45,
          167.05,
          165.14,
          165.57,
          166.5,
          167.12,
          166.69,
          168.38,
          168.3,
          168.02,
          166.34,
          161.19,
          160.92,
          164.3,
          164.89,
          165.99,
          162.38,
          160.84,
          159.4,
          159.87,
          160.75,
          159.67,
          159.85,
          162.85,
          164.05,
          165.49,
          162.92,
          164.84,
          165.9,
          163.37,
          164.1,
          164.9,
          164.1,
          163.7,
          162.94,
          163.95,
          168.45,
          168.19,
          166.84,
          161.39,
          158.59,
          157.44,
          153.35,
          152.25,
          154.2,
          155.59,
          155.38,
          158.4,
          160.3,
          163.43,
          163.53,
          165.8,
          165.79,
          166,
          168.34,
          166.5,
          167.4,
          166.6,
          170.8,
          172.39,
          170.43,
          171.68,
          172,
          170.63,
          169.17,
          170.08,
          170.48,
          168.3,
          168.48,
          166.95,
          163.8,
          164.22,
          163.45,
          161.6,
          156.76,
          157.14,
          158.89,
          156,
          155.11,
          153.43,
          153.75,
          147.3,
          145.65,
          142.21,
          142.8,
          145.15,
          147.1,
          144.99,
          145.69,
          146,
          146.49,
          147.2,
          146.45,
          146.83,
          146.73,
          148.3,
          149.8,
          149.79,
          151.03,
          152.5,
          155.34,
          157,
          160.99,
          162.62,
          162.26,
          163.1,
          162.99,
          164.34,
          164.91,
          163.99,
          162.33,
          162.3,
          162.31,
          166,
          165.75,
          167.35,
          168,
          169.94,
          170.98,
          170,
          172.95,
          175.88,
          175.2,
          174.16,
          172.49,
          173.77,
          172.72,
          175.3,
          173.99,
          171.71,
          170.69,
          171.7,
          175.3,
          179.94,
          182.25,
          181.85,
          182,
          184.48,
          186.33,
          185.33,
          185.27,
          185.59,
          183.73,
          185.25,
          187.43,
          191.3,
          192.31,
          190.95,
          189.39,
          189.3,
          190.37,
          187.72,
          186.47,
          188.37,
          188.77,
          191.38,
          195,
          194.29,
          194.3,
          192.94,
          194.1,
          193.87,
          192.59,
          193.93,
          196.42,
          194.9,
          194.45,
          196.75,
          196.75,
          197.29,
          198.52,
          198,
          197.89,
          195.69,
          194.14,
          193.64,
          192.92,
          194.37,
          193.5,
          196.18,
          197.7,
          196.36,
          197.05,
          195.12,
          195.75,
          206.7,
          211.77,
          221.5,
          229.4,
          223.99,
          222.2,
          227.75,
          228.58,
          228,
          225.97,
          232.99,
          233.95,
          230.99,
          228,
          229.04,
          230,
          231.5,
          228.92,
          225.76,
          226,
          224.55,
          224.9,
          224.79,
          223,
          227.69,
          230.5,
          228.33,
          229.9,
          229.79,
          228.9,
          228.5,
          226.68,
          227.39,
          224.64,
          223.9,
          223.98,
          227.2,
          227.17,
          226.2
         ],
         "low": [
          173,
          174.23,
          171.54,
          169.5,
          168.05,
          167.54,
          168.54,
          168.02,
          163.88,
          164.06,
          163.34,
          164.31,
          164.69,
          165.42,
          164.53,
          167.24,
          169.5,
          169.06,
          173,
          174.24,
          172.07,
          171.75,
          171.95,
          172.27,
          172.22,
          171.51,
          170.77,
          167.84,
          165.4,
          163.5,
          162.01,
          160,
          162.21,
          164.42,
          163.93,
          164.8,
          164.35,
          165.03,
          160.62,
          155.7,
          155.99,
          160.33,
          161.61,
          162,
          158.9,
          155.23,
          155.55,
          155.86,
          157.02,
          156.06,
          157.82,
          158.17,
          160.61,
          162.25,
          159.75,
          162.1,
          163.07,
          161.1,
          162.05,
          162.37,
          161.9,
          159.51,
          159.84,
          160.7,
          163.82,
          166.41,
          160.71,
          154.51,
          154.61,
          150.28,
          149.7,
          148.6,
          147.62,
          152.15,
          152.36,
          152.26,
          157.8,
          161,
          161.31,
          161.7,
          163.27,
          163.91,
          165.01,
          163.63,
          163.78,
          164,
          166.41,
          168.84,
          166.85,
          167.89,
          169.98,
          168.17,
          164.7,
          165.71,
          167.14,
          165.4,
          162.51,
          163.53,
          160.62,
          160.69,
          161.17,
          155.03,
          152.72,
          151.62,
          154.43,
          152.11,
          151.75,
          148.25,
          150.12,
          145,
          142.81,
          136.2,
          139.02,
          141.8,
          143.5,
          142.77,
          141.78,
          143.62,
          143.81,
          143.4,
          144.71,
          143.2,
          142.88,
          146.22,
          147.11,
          147.89,
          148.9,
          149.06,
          152.36,
          154.95,
          157.5,
          158.34,
          159.43,
          159.82,
          160.88,
          160.53,
          163.47,
          161.72,
          158.6,
          159.92,
          160.12,
          162.4,
          163.15,
          163.88,
          165.3,
          166.54,
          169.17,
          168.6,
          170.38,
          172.66,
          172.8,
          172.01,
          168.64,
          171.37,
          170.46,
          172.83,
          172.27,
          168.13,
          168.5,
          169.7,
          170.98,
          175.3,
          179.6,
          179.2,
          179.51,
          180.85,
          181.71,
          182.02,
          180.93,
          183.33,
          181.47,
          183.32,
          183.77,
          186.51,
          188.14,
          188.4,
          186,
          186.72,
          187.31,
          184.55,
          182.65,
          183.8,
          186.77,
          186.37,
          191.54,
          191.2,
          191.53,
          190.8,
          191.1,
          192.13,
          191.22,
          189.06,
          193.67,
          192.58,
          192.95,
          193.56,
          194.95,
          195.2,
          196.7,
          196.07,
          194.01,
          191.81,
          192.23,
          190.82,
          190.13,
          192.04,
          190.72,
          192.87,
          195,
          193.8,
          193.33,
          192.38,
          193.2,
          195.56,
          204.06,
          209.12,
          216.61,
          215.78,
          215.96,
          221.54,
          219.09,
          224.1,
          223.16,
          224.07,
          228.38,
          225.06,
          222.15,
          225,
          221,
          226.7,
          222.35,
          220.76,
          219.55,
          222,
          221.57,
          219.23,
          219.61,
          221.1,
          226.11,
          220.54,
          221.1,
          225.57,
          225.7,
          223.5,
          222.7,
          222.35,
          221.12,
          221.65,
          221,
          223.1,
          223,
          223.27
         ],
         "open": [
          173.41,
          178.91,
          176.32,
          172.41,
          171.37,
          168.37,
          171.5,
          170,
          168.8,
          165.21,
          164.71,
          165.81,
          165.5,
          166.5,
          167.31,
          167.38,
          170.36,
          170.82,
          173.81,
          177.5,
          174.37,
          172.51,
          173.9,
          173.07,
          174.3,
          173,
          173.15,
          171.94,
          169.07,
          166.06,
          164.99,
          162.25,
          164.03,
          166.4,
          166.37,
          165.18,
          167.44,
          166.53,
          166,
          161.05,
          155.99,
          161.2,
          162.93,
          164.51,
          162.33,
          159.3,
          157.36,
          157.47,
          159.3,
          158.06,
          157.83,
          158.5,
          161.53,
          164.5,
          162.01,
          163.39,
          163.99,
          163.03,
          163.48,
          164.01,
          163.38,
          163.45,
          160.5,
          161.4,
          164.32,
          167.53,
          166.13,
          161.14,
          155.18,
          156.94,
          151.57,
          150.6,
          149.4,
          154.44,
          153.19,
          152.99,
          158.75,
          161.13,
          163.08,
          163.1,
          164.98,
          165.5,
          166,
          166.3,
          164.6,
          164.22,
          167.01,
          171.01,
          169.74,
          168.51,
          170.91,
          169.8,
          168.45,
          167.4,
          170.48,
          167.85,
          166.55,
          166.5,
          163.8,
          160.99,
          163.15,
          161.52,
          156.4,
          153.01,
          157.11,
          154.49,
          153.3,
          153.11,
          151.42,
          145.4,
          145.65,
          141.94,
          139.61,
          142.5,
          145.2,
          144.2,
          142.5,
          144.37,
          144.85,
          144.36,
          146.2,
          146.5,
          143.21,
          146.69,
          147.49,
          149.39,
          149.2,
          149.69,
          152.37,
          155.57,
          157.55,
          161.5,
          159.76,
          161.8,
          162,
          161.39,
          164.09,
          163.96,
          161.29,
          161.69,
          160.7,
          162.44,
          165.37,
          165.52,
          165.53,
          166.6,
          170,
          169.48,
          170.47,
          173.03,
          174.8,
          173.74,
          171.3,
          172.77,
          172.31,
          172.95,
          172.52,
          171.7,
          169.78,
          171.2,
          171.01,
          175.5,
          180.88,
          180.75,
          181.9,
          182.5,
          182.95,
          183.85,
          181.82,
          184.39,
          183.25,
          183.47,
          184.1,
          186.7,
          191.03,
          189.3,
          189,
          188.68,
          189.58,
          187.65,
          184.53,
          186.35,
          187.36,
          187.33,
          191.58,
          192.94,
          193.63,
          191.96,
          192.71,
          193.25,
          192.49,
          192.18,
          194.3,
          194.22,
          194.3,
          193.94,
          195.83,
          195.63,
          197.53,
          197.39,
          197.5,
          195.26,
          193.54,
          193.43,
          191.69,
          193.01,
          192.65,
          193.53,
          196.32,
          194.96,
          194.5,
          193.77,
          194.77,
          196.5,
          205.92,
          209.55,
          221.01,
          217.8,
          216.51,
          222.53,
          227.73,
          227.9,
          225.7,
          225.49,
          231.88,
          230.28,
          225.4,
          228.39,
          221,
          230.13,
          228,
          224.53,
          222,
          224,
          222.65,
          223.83,
          219.9,
          221.4,
          228.92,
          227.27,
          222.16,
          228.91,
          227.5,
          227.9,
          224.45,
          226.46,
          223.68,
          222.22,
          223.52,
          224.03,
          226.9,
          224.05
         ],
         "type": "ohlc",
         "x": [
          "2017-01-03T00:00:00",
          "2017-01-04T00:00:00",
          "2017-01-05T00:00:00",
          "2017-01-06T00:00:00",
          "2017-01-09T00:00:00",
          "2017-01-10T00:00:00",
          "2017-01-11T00:00:00",
          "2017-01-12T00:00:00",
          "2017-01-13T00:00:00",
          "2017-01-16T00:00:00",
          "2017-01-17T00:00:00",
          "2017-01-18T00:00:00",
          "2017-01-19T00:00:00",
          "2017-01-20T00:00:00",
          "2017-01-23T00:00:00",
          "2017-01-24T00:00:00",
          "2017-01-25T00:00:00",
          "2017-01-26T00:00:00",
          "2017-01-27T00:00:00",
          "2017-01-30T00:00:00",
          "2017-01-31T00:00:00",
          "2017-02-01T00:00:00",
          "2017-02-02T00:00:00",
          "2017-02-03T00:00:00",
          "2017-02-06T00:00:00",
          "2017-02-07T00:00:00",
          "2017-02-08T00:00:00",
          "2017-02-09T00:00:00",
          "2017-02-10T00:00:00",
          "2017-02-13T00:00:00",
          "2017-02-14T00:00:00",
          "2017-02-15T00:00:00",
          "2017-02-16T00:00:00",
          "2017-02-17T00:00:00",
          "2017-02-20T00:00:00",
          "2017-02-21T00:00:00",
          "2017-02-22T00:00:00",
          "2017-02-24T00:00:00",
          "2017-02-27T00:00:00",
          "2017-02-28T00:00:00",
          "2017-03-01T00:00:00",
          "2017-03-02T00:00:00",
          "2017-03-03T00:00:00",
          "2017-03-06T00:00:00",
          "2017-03-07T00:00:00",
          "2017-03-09T00:00:00",
          "2017-03-10T00:00:00",
          "2017-03-13T00:00:00",
          "2017-03-14T00:00:00",
          "2017-03-15T00:00:00",
          "2017-03-16T00:00:00",
          "2017-03-17T00:00:00",
          "2017-03-20T00:00:00",
          "2017-03-21T00:00:00",
          "2017-03-22T00:00:00",
          "2017-03-23T00:00:00",
          "2017-03-24T00:00:00",
          "2017-03-27T00:00:00",
          "2017-03-28T00:00:00",
          "2017-03-29T00:00:00",
          "2017-03-30T00:00:00",
          "2017-03-31T00:00:00",
          "2017-04-03T00:00:00",
          "2017-04-04T00:00:00",
          "2017-04-05T00:00:00",
          "2017-04-06T00:00:00",
          "2017-04-07T00:00:00",
          "2017-04-10T00:00:00",
          "2017-04-11T00:00:00",
          "2017-04-12T00:00:00",
          "2017-04-13T00:00:00",
          "2017-04-14T00:00:00",
          "2017-04-17T00:00:00",
          "2017-04-18T00:00:00",
          "2017-04-19T00:00:00",
          "2017-04-20T00:00:00",
          "2017-04-21T00:00:00",
          "2017-04-24T00:00:00",
          "2017-04-25T00:00:00",
          "2017-04-26T00:00:00",
          "2017-04-27T00:00:00",
          "2017-04-28T00:00:00",
          "2017-05-02T00:00:00",
          "2017-05-03T00:00:00",
          "2017-05-04T00:00:00",
          "2017-05-05T00:00:00",
          "2017-05-10T00:00:00",
          "2017-05-11T00:00:00",
          "2017-05-12T00:00:00",
          "2017-05-15T00:00:00",
          "2017-05-16T00:00:00",
          "2017-05-17T00:00:00",
          "2017-05-18T00:00:00",
          "2017-05-19T00:00:00",
          "2017-05-22T00:00:00",
          "2017-05-23T00:00:00",
          "2017-05-24T00:00:00",
          "2017-05-25T00:00:00",
          "2017-05-26T00:00:00",
          "2017-05-29T00:00:00",
          "2017-05-30T00:00:00",
          "2017-05-31T00:00:00",
          "2017-06-01T00:00:00",
          "2017-06-02T00:00:00",
          "2017-06-05T00:00:00",
          "2017-06-06T00:00:00",
          "2017-06-07T00:00:00",
          "2017-06-08T00:00:00",
          "2017-06-09T00:00:00",
          "2017-06-13T00:00:00",
          "2017-06-14T00:00:00",
          "2017-06-15T00:00:00",
          "2017-06-16T00:00:00",
          "2017-06-19T00:00:00",
          "2017-06-20T00:00:00",
          "2017-06-21T00:00:00",
          "2017-06-22T00:00:00",
          "2017-06-23T00:00:00",
          "2017-06-26T00:00:00",
          "2017-06-27T00:00:00",
          "2017-06-28T00:00:00",
          "2017-06-29T00:00:00",
          "2017-06-30T00:00:00",
          "2017-07-03T00:00:00",
          "2017-07-04T00:00:00",
          "2017-07-05T00:00:00",
          "2017-07-06T00:00:00",
          "2017-07-07T00:00:00",
          "2017-07-10T00:00:00",
          "2017-07-11T00:00:00",
          "2017-07-12T00:00:00",
          "2017-07-13T00:00:00",
          "2017-07-14T00:00:00",
          "2017-07-17T00:00:00",
          "2017-07-18T00:00:00",
          "2017-07-19T00:00:00",
          "2017-07-20T00:00:00",
          "2017-07-21T00:00:00",
          "2017-07-24T00:00:00",
          "2017-07-25T00:00:00",
          "2017-07-26T00:00:00",
          "2017-07-27T00:00:00",
          "2017-07-28T00:00:00",
          "2017-07-31T00:00:00",
          "2017-08-01T00:00:00",
          "2017-08-02T00:00:00",
          "2017-08-03T00:00:00",
          "2017-08-04T00:00:00",
          "2017-08-07T00:00:00",
          "2017-08-08T00:00:00",
          "2017-08-09T00:00:00",
          "2017-08-10T00:00:00",
          "2017-08-11T00:00:00",
          "2017-08-14T00:00:00",
          "2017-08-15T00:00:00",
          "2017-08-16T00:00:00",
          "2017-08-17T00:00:00",
          "2017-08-18T00:00:00",
          "2017-08-21T00:00:00",
          "2017-08-22T00:00:00",
          "2017-08-23T00:00:00",
          "2017-08-24T00:00:00",
          "2017-08-25T00:00:00",
          "2017-08-28T00:00:00",
          "2017-08-29T00:00:00",
          "2017-08-30T00:00:00",
          "2017-08-31T00:00:00",
          "2017-09-01T00:00:00",
          "2017-09-04T00:00:00",
          "2017-09-05T00:00:00",
          "2017-09-06T00:00:00",
          "2017-09-07T00:00:00",
          "2017-09-08T00:00:00",
          "2017-09-11T00:00:00",
          "2017-09-12T00:00:00",
          "2017-09-13T00:00:00",
          "2017-09-14T00:00:00",
          "2017-09-15T00:00:00",
          "2017-09-18T00:00:00",
          "2017-09-19T00:00:00",
          "2017-09-20T00:00:00",
          "2017-09-21T00:00:00",
          "2017-09-22T00:00:00",
          "2017-09-25T00:00:00",
          "2017-09-26T00:00:00",
          "2017-09-27T00:00:00",
          "2017-09-28T00:00:00",
          "2017-09-29T00:00:00",
          "2017-10-02T00:00:00",
          "2017-10-03T00:00:00",
          "2017-10-04T00:00:00",
          "2017-10-05T00:00:00",
          "2017-10-06T00:00:00",
          "2017-10-09T00:00:00",
          "2017-10-10T00:00:00",
          "2017-10-11T00:00:00",
          "2017-10-12T00:00:00",
          "2017-10-13T00:00:00",
          "2017-10-16T00:00:00",
          "2017-10-17T00:00:00",
          "2017-10-18T00:00:00",
          "2017-10-19T00:00:00",
          "2017-10-20T00:00:00",
          "2017-10-23T00:00:00",
          "2017-10-24T00:00:00",
          "2017-10-25T00:00:00",
          "2017-10-26T00:00:00",
          "2017-10-27T00:00:00",
          "2017-10-30T00:00:00",
          "2017-10-31T00:00:00",
          "2017-11-01T00:00:00",
          "2017-11-02T00:00:00",
          "2017-11-03T00:00:00",
          "2017-11-07T00:00:00",
          "2017-11-08T00:00:00",
          "2017-11-09T00:00:00",
          "2017-11-10T00:00:00",
          "2017-11-13T00:00:00",
          "2017-11-14T00:00:00",
          "2017-11-15T00:00:00",
          "2017-11-16T00:00:00",
          "2017-11-17T00:00:00",
          "2017-11-20T00:00:00",
          "2017-11-21T00:00:00",
          "2017-11-22T00:00:00",
          "2017-11-23T00:00:00",
          "2017-11-24T00:00:00",
          "2017-11-27T00:00:00",
          "2017-11-28T00:00:00",
          "2017-11-29T00:00:00",
          "2017-11-30T00:00:00",
          "2017-12-01T00:00:00",
          "2017-12-04T00:00:00",
          "2017-12-05T00:00:00",
          "2017-12-06T00:00:00",
          "2017-12-07T00:00:00",
          "2017-12-08T00:00:00",
          "2017-12-11T00:00:00",
          "2017-12-12T00:00:00",
          "2017-12-13T00:00:00",
          "2017-12-14T00:00:00",
          "2017-12-15T00:00:00",
          "2017-12-18T00:00:00",
          "2017-12-19T00:00:00",
          "2017-12-20T00:00:00",
          "2017-12-21T00:00:00",
          "2017-12-22T00:00:00",
          "2017-12-25T00:00:00",
          "2017-12-26T00:00:00",
          "2017-12-27T00:00:00",
          "2017-12-28T00:00:00",
          "2017-12-29T00:00:00"
         ]
        }
       ],
       "layout": {
        "template": {
         "data": {
          "bar": [
           {
            "error_x": {
             "color": "#2a3f5f"
            },
            "error_y": {
             "color": "#2a3f5f"
            },
            "marker": {
             "line": {
              "color": "#E5ECF6",
              "width": 0.5
             }
            },
            "type": "bar"
           }
          ],
          "barpolar": [
           {
            "marker": {
             "line": {
              "color": "#E5ECF6",
              "width": 0.5
             }
            },
            "type": "barpolar"
           }
          ],
          "carpet": [
           {
            "aaxis": {
             "endlinecolor": "#2a3f5f",
             "gridcolor": "white",
             "linecolor": "white",
             "minorgridcolor": "white",
             "startlinecolor": "#2a3f5f"
            },
            "baxis": {
             "endlinecolor": "#2a3f5f",
             "gridcolor": "white",
             "linecolor": "white",
             "minorgridcolor": "white",
             "startlinecolor": "#2a3f5f"
            },
            "type": "carpet"
           }
          ],
          "choropleth": [
           {
            "colorbar": {
             "outlinewidth": 0,
             "ticks": ""
            },
            "type": "choropleth"
           }
          ],
          "contour": [
           {
            "colorbar": {
             "outlinewidth": 0,
             "ticks": ""
            },
            "colorscale": [
             [
              0,
              "#0d0887"
             ],
             [
              0.1111111111111111,
              "#46039f"
             ],
             [
              0.2222222222222222,
              "#7201a8"
             ],
             [
              0.3333333333333333,
              "#9c179e"
             ],
             [
              0.4444444444444444,
              "#bd3786"
             ],
             [
              0.5555555555555556,
              "#d8576b"
             ],
             [
              0.6666666666666666,
              "#ed7953"
             ],
             [
              0.7777777777777778,
              "#fb9f3a"
             ],
             [
              0.8888888888888888,
              "#fdca26"
             ],
             [
              1,
              "#f0f921"
             ]
            ],
            "type": "contour"
           }
          ],
          "contourcarpet": [
           {
            "colorbar": {
             "outlinewidth": 0,
             "ticks": ""
            },
            "type": "contourcarpet"
           }
          ],
          "heatmap": [
           {
            "colorbar": {
             "outlinewidth": 0,
             "ticks": ""
            },
            "colorscale": [
             [
              0,
              "#0d0887"
             ],
             [
              0.1111111111111111,
              "#46039f"
             ],
             [
              0.2222222222222222,
              "#7201a8"
             ],
             [
              0.3333333333333333,
              "#9c179e"
             ],
             [
              0.4444444444444444,
              "#bd3786"
             ],
             [
              0.5555555555555556,
              "#d8576b"
             ],
             [
              0.6666666666666666,
              "#ed7953"
             ],
             [
              0.7777777777777778,
              "#fb9f3a"
             ],
             [
              0.8888888888888888,
              "#fdca26"
             ],
             [
              1,
              "#f0f921"
             ]
            ],
            "type": "heatmap"
           }
          ],
          "heatmapgl": [
           {
            "colorbar": {
             "outlinewidth": 0,
             "ticks": ""
            },
            "colorscale": [
             [
              0,
              "#0d0887"
             ],
             [
              0.1111111111111111,
              "#46039f"
             ],
             [
              0.2222222222222222,
              "#7201a8"
             ],
             [
              0.3333333333333333,
              "#9c179e"
             ],
             [
              0.4444444444444444,
              "#bd3786"
             ],
             [
              0.5555555555555556,
              "#d8576b"
             ],
             [
              0.6666666666666666,
              "#ed7953"
             ],
             [
              0.7777777777777778,
              "#fb9f3a"
             ],
             [
              0.8888888888888888,
              "#fdca26"
             ],
             [
              1,
              "#f0f921"
             ]
            ],
            "type": "heatmapgl"
           }
          ],
          "histogram": [
           {
            "marker": {
             "colorbar": {
              "outlinewidth": 0,
              "ticks": ""
             }
            },
            "type": "histogram"
           }
          ],
          "histogram2d": [
           {
            "colorbar": {
             "outlinewidth": 0,
             "ticks": ""
            },
            "colorscale": [
             [
              0,
              "#0d0887"
             ],
             [
              0.1111111111111111,
              "#46039f"
             ],
             [
              0.2222222222222222,
              "#7201a8"
             ],
             [
              0.3333333333333333,
              "#9c179e"
             ],
             [
              0.4444444444444444,
              "#bd3786"
             ],
             [
              0.5555555555555556,
              "#d8576b"
             ],
             [
              0.6666666666666666,
              "#ed7953"
             ],
             [
              0.7777777777777778,
              "#fb9f3a"
             ],
             [
              0.8888888888888888,
              "#fdca26"
             ],
             [
              1,
              "#f0f921"
             ]
            ],
            "type": "histogram2d"
           }
          ],
          "histogram2dcontour": [
           {
            "colorbar": {
             "outlinewidth": 0,
             "ticks": ""
            },
            "colorscale": [
             [
              0,
              "#0d0887"
             ],
             [
              0.1111111111111111,
              "#46039f"
             ],
             [
              0.2222222222222222,
              "#7201a8"
             ],
             [
              0.3333333333333333,
              "#9c179e"
             ],
             [
              0.4444444444444444,
              "#bd3786"
             ],
             [
              0.5555555555555556,
              "#d8576b"
             ],
             [
              0.6666666666666666,
              "#ed7953"
             ],
             [
              0.7777777777777778,
              "#fb9f3a"
             ],
             [
              0.8888888888888888,
              "#fdca26"
             ],
             [
              1,
              "#f0f921"
             ]
            ],
            "type": "histogram2dcontour"
           }
          ],
          "mesh3d": [
           {
            "colorbar": {
             "outlinewidth": 0,
             "ticks": ""
            },
            "type": "mesh3d"
           }
          ],
          "parcoords": [
           {
            "line": {
             "colorbar": {
              "outlinewidth": 0,
              "ticks": ""
             }
            },
            "type": "parcoords"
           }
          ],
          "pie": [
           {
            "automargin": true,
            "type": "pie"
           }
          ],
          "scatter": [
           {
            "marker": {
             "colorbar": {
              "outlinewidth": 0,
              "ticks": ""
             }
            },
            "type": "scatter"
           }
          ],
          "scatter3d": [
           {
            "line": {
             "colorbar": {
              "outlinewidth": 0,
              "ticks": ""
             }
            },
            "marker": {
             "colorbar": {
              "outlinewidth": 0,
              "ticks": ""
             }
            },
            "type": "scatter3d"
           }
          ],
          "scattercarpet": [
           {
            "marker": {
             "colorbar": {
              "outlinewidth": 0,
              "ticks": ""
             }
            },
            "type": "scattercarpet"
           }
          ],
          "scattergeo": [
           {
            "marker": {
             "colorbar": {
              "outlinewidth": 0,
              "ticks": ""
             }
            },
            "type": "scattergeo"
           }
          ],
          "scattergl": [
           {
            "marker": {
             "colorbar": {
              "outlinewidth": 0,
              "ticks": ""
             }
            },
            "type": "scattergl"
           }
          ],
          "scattermapbox": [
           {
            "marker": {
             "colorbar": {
              "outlinewidth": 0,
              "ticks": ""
             }
            },
            "type": "scattermapbox"
           }
          ],
          "scatterpolar": [
           {
            "marker": {
             "colorbar": {
              "outlinewidth": 0,
              "ticks": ""
             }
            },
            "type": "scatterpolar"
           }
          ],
          "scatterpolargl": [
           {
            "marker": {
             "colorbar": {
              "outlinewidth": 0,
              "ticks": ""
             }
            },
            "type": "scatterpolargl"
           }
          ],
          "scatterternary": [
           {
            "marker": {
             "colorbar": {
              "outlinewidth": 0,
              "ticks": ""
             }
            },
            "type": "scatterternary"
           }
          ],
          "surface": [
           {
            "colorbar": {
             "outlinewidth": 0,
             "ticks": ""
            },
            "colorscale": [
             [
              0,
              "#0d0887"
             ],
             [
              0.1111111111111111,
              "#46039f"
             ],
             [
              0.2222222222222222,
              "#7201a8"
             ],
             [
              0.3333333333333333,
              "#9c179e"
             ],
             [
              0.4444444444444444,
              "#bd3786"
             ],
             [
              0.5555555555555556,
              "#d8576b"
             ],
             [
              0.6666666666666666,
              "#ed7953"
             ],
             [
              0.7777777777777778,
              "#fb9f3a"
             ],
             [
              0.8888888888888888,
              "#fdca26"
             ],
             [
              1,
              "#f0f921"
             ]
            ],
            "type": "surface"
           }
          ],
          "table": [
           {
            "cells": {
             "fill": {
              "color": "#EBF0F8"
             },
             "line": {
              "color": "white"
             }
            },
            "header": {
             "fill": {
              "color": "#C8D4E3"
             },
             "line": {
              "color": "white"
             }
            },
            "type": "table"
           }
          ]
         },
         "layout": {
          "annotationdefaults": {
           "arrowcolor": "#2a3f5f",
           "arrowhead": 0,
           "arrowwidth": 1
          },
          "autotypenumbers": "strict",
          "coloraxis": {
           "colorbar": {
            "outlinewidth": 0,
            "ticks": ""
           }
          },
          "colorscale": {
           "diverging": [
            [
             0,
             "#8e0152"
            ],
            [
             0.1,
             "#c51b7d"
            ],
            [
             0.2,
             "#de77ae"
            ],
            [
             0.3,
             "#f1b6da"
            ],
            [
             0.4,
             "#fde0ef"
            ],
            [
             0.5,
             "#f7f7f7"
            ],
            [
             0.6,
             "#e6f5d0"
            ],
            [
             0.7,
             "#b8e186"
            ],
            [
             0.8,
             "#7fbc41"
            ],
            [
             0.9,
             "#4d9221"
            ],
            [
             1,
             "#276419"
            ]
           ],
           "sequential": [
            [
             0,
             "#0d0887"
            ],
            [
             0.1111111111111111,
             "#46039f"
            ],
            [
             0.2222222222222222,
             "#7201a8"
            ],
            [
             0.3333333333333333,
             "#9c179e"
            ],
            [
             0.4444444444444444,
             "#bd3786"
            ],
            [
             0.5555555555555556,
             "#d8576b"
            ],
            [
             0.6666666666666666,
             "#ed7953"
            ],
            [
             0.7777777777777778,
             "#fb9f3a"
            ],
            [
             0.8888888888888888,
             "#fdca26"
            ],
            [
             1,
             "#f0f921"
            ]
           ],
           "sequentialminus": [
            [
             0,
             "#0d0887"
            ],
            [
             0.1111111111111111,
             "#46039f"
            ],
            [
             0.2222222222222222,
             "#7201a8"
            ],
            [
             0.3333333333333333,
             "#9c179e"
            ],
            [
             0.4444444444444444,
             "#bd3786"
            ],
            [
             0.5555555555555556,
             "#d8576b"
            ],
            [
             0.6666666666666666,
             "#ed7953"
            ],
            [
             0.7777777777777778,
             "#fb9f3a"
            ],
            [
             0.8888888888888888,
             "#fdca26"
            ],
            [
             1,
             "#f0f921"
            ]
           ]
          },
          "colorway": [
           "#636efa",
           "#EF553B",
           "#00cc96",
           "#ab63fa",
           "#FFA15A",
           "#19d3f3",
           "#FF6692",
           "#B6E880",
           "#FF97FF",
           "#FECB52"
          ],
          "font": {
           "color": "#2a3f5f"
          },
          "geo": {
           "bgcolor": "white",
           "lakecolor": "white",
           "landcolor": "#E5ECF6",
           "showlakes": true,
           "showland": true,
           "subunitcolor": "white"
          },
          "hoverlabel": {
           "align": "left"
          },
          "hovermode": "closest",
          "mapbox": {
           "style": "light"
          },
          "paper_bgcolor": "white",
          "plot_bgcolor": "#E5ECF6",
          "polar": {
           "angularaxis": {
            "gridcolor": "white",
            "linecolor": "white",
            "ticks": ""
           },
           "bgcolor": "#E5ECF6",
           "radialaxis": {
            "gridcolor": "white",
            "linecolor": "white",
            "ticks": ""
           }
          },
          "scene": {
           "xaxis": {
            "backgroundcolor": "#E5ECF6",
            "gridcolor": "white",
            "gridwidth": 2,
            "linecolor": "white",
            "showbackground": true,
            "ticks": "",
            "zerolinecolor": "white"
           },
           "yaxis": {
            "backgroundcolor": "#E5ECF6",
            "gridcolor": "white",
            "gridwidth": 2,
            "linecolor": "white",
            "showbackground": true,
            "ticks": "",
            "zerolinecolor": "white"
           },
           "zaxis": {
            "backgroundcolor": "#E5ECF6",
            "gridcolor": "white",
            "gridwidth": 2,
            "linecolor": "white",
            "showbackground": true,
            "ticks": "",
            "zerolinecolor": "white"
           }
          },
          "shapedefaults": {
           "line": {
            "color": "#2a3f5f"
           }
          },
          "ternary": {
           "aaxis": {
            "gridcolor": "white",
            "linecolor": "white",
            "ticks": ""
           },
           "baxis": {
            "gridcolor": "white",
            "linecolor": "white",
            "ticks": ""
           },
           "bgcolor": "#E5ECF6",
           "caxis": {
            "gridcolor": "white",
            "linecolor": "white",
            "ticks": ""
           }
          },
          "title": {
           "x": 0.05
          },
          "xaxis": {
           "automargin": true,
           "gridcolor": "white",
           "linecolor": "white",
           "ticks": "",
           "title": {
            "standoff": 15
           },
           "zerolinecolor": "white",
           "zerolinewidth": 2
          },
          "yaxis": {
           "automargin": true,
           "gridcolor": "white",
           "linecolor": "white",
           "ticks": "",
           "title": {
            "standoff": 15
           },
           "zerolinecolor": "white",
           "zerolinewidth": 2
          }
         }
        }
       }
      },
      "text/html": [
       "<div>                            <div id=\"704e0341-43d3-45a2-9185-8d4a757c9753\" class=\"plotly-graph-div\" style=\"height:525px; width:100%;\"></div>            <script type=\"text/javascript\">                require([\"plotly\"], function(Plotly) {                    window.PLOTLYENV=window.PLOTLYENV || {};                                    if (document.getElementById(\"704e0341-43d3-45a2-9185-8d4a757c9753\")) {                    Plotly.newPlot(                        \"704e0341-43d3-45a2-9185-8d4a757c9753\",                        [{\"close\": [180.12, 175.95, 171.9, 170.69, 168.35, 171.6, 169.05, 168.27, 164.9, 164.66, 165.98, 165.24, 166.3, 167.49, 166.75, 170.25, 170.26, 173.79, 178.92, 174.6, 172.2, 173.9, 172.83, 173.8, 172.87, 173.47, 171.2, 168.8, 165.5, 164.7, 162.7, 163.5, 166.49, 165.49, 165.44, 167.0, 165.9, 165.51, 160.95, 156.0, 160.0, 163.4, 164.4, 162.0, 160.98, 156.2, 157.5, 158.92, 157.42, 156.2, 158.35, 161.15, 163.8, 162.98, 162.92, 164.15, 164.52, 162.69, 163.66, 163.22, 163.5, 159.8, 161.8, 163.5, 168.1, 167.49, 161.49, 155.2, 156.0, 150.28, 152.0, 149.24, 153.99, 153.4, 153.6, 158.21, 159.59, 162.5, 162.55, 165.05, 164.69, 165.2, 166.64, 164.71, 165.5, 165.8, 170.8, 169.97, 167.7, 171.35, 170.66, 169.24, 166.5, 168.87, 168.03, 166.31, 165.7, 164.05, 160.7, 163.9, 161.64, 155.93, 153.0, 157.14, 154.7, 152.8, 152.82, 151.93, 150.13, 146.0, 143.0, 139.0, 141.63, 145.0, 144.9, 143.49, 144.25, 144.1, 144.49, 147.1, 145.5, 143.8, 145.59, 147.5, 149.39, 148.96, 150.35, 152.16, 155.0, 156.91, 160.85, 159.94, 161.4, 161.98, 161.7, 164.34, 163.93, 162.1, 161.33, 160.22, 161.55, 166.0, 165.4, 164.53, 166.31, 169.9, 170.0, 169.73, 172.79, 175.75, 173.4, 172.2, 172.05, 172.51, 172.33, 173.05, 172.72, 169.5, 169.9, 171.0, 175.3, 179.8, 180.51, 181.85, 181.89, 183.5, 183.51, 183.66, 184.1, 184.14, 183.12, 184.0, 185.89, 190.5, 189.32, 189.1, 188.64, 188.75, 188.04, 184.85, 186.47, 187.38, 187.55, 191.2, 192.54, 193.7, 191.96, 192.33, 193.0, 192.5, 192.03, 193.74, 194.16, 194.0, 193.21, 195.83, 195.51, 196.48, 197.7, 197.2, 195.31, 192.2, 192.97, 192.34, 192.5, 192.04, 192.75, 196.05, 195.0, 193.8, 194.05, 193.85, 193.8, 205.96, 209.09, 220.05, 217.7, 216.61, 221.4, 225.95, 227.5, 225.65, 224.6, 231.0, 230.25, 225.56, 228.0, 226.76, 230.0, 228.2, 224.35, 221.5, 224.6, 223.91, 223.75, 219.81, 220.89, 227.69, 227.9, 221.8, 229.9, 226.53, 227.4, 224.1, 226.0, 223.6, 221.44, 223.3, 223.57, 226.98, 224.2, 225.2], \"high\": [181.68, 179.41, 177.28, 173.75, 172.39, 172.3, 173.05, 170.65, 172.39, 166.8, 166.47, 167.8, 166.99, 168.19, 167.31, 170.7, 171.3, 174.39, 178.92, 178.0, 175.27, 174.27, 174.69, 174.19, 174.98, 174.18, 173.15, 172.67, 170.45, 167.05, 165.14, 165.57, 166.5, 167.12, 166.69, 168.38, 168.3, 168.02, 166.34, 161.19, 160.92, 164.3, 164.89, 165.99, 162.38, 160.84, 159.4, 159.87, 160.75, 159.67, 159.85, 162.85, 164.05, 165.49, 162.92, 164.84, 165.9, 163.37, 164.1, 164.9, 164.1, 163.7, 162.94, 163.95, 168.45, 168.19, 166.84, 161.39, 158.59, 157.44, 153.35, 152.25, 154.2, 155.59, 155.38, 158.4, 160.3, 163.43, 163.53, 165.8, 165.79, 166.0, 168.34, 166.5, 167.4, 166.6, 170.8, 172.39, 170.43, 171.68, 172.0, 170.63, 169.17, 170.08, 170.48, 168.3, 168.48, 166.95, 163.8, 164.22, 163.45, 161.6, 156.76, 157.14, 158.89, 156.0, 155.11, 153.43, 153.75, 147.3, 145.65, 142.21, 142.8, 145.15, 147.1, 144.99, 145.69, 146.0, 146.49, 147.2, 146.45, 146.83, 146.73, 148.3, 149.8, 149.79, 151.03, 152.5, 155.34, 157.0, 160.99, 162.62, 162.26, 163.1, 162.99, 164.34, 164.91, 163.99, 162.33, 162.3, 162.31, 166.0, 165.75, 167.35, 168.0, 169.94, 170.98, 170.0, 172.95, 175.88, 175.2, 174.16, 172.49, 173.77, 172.72, 175.3, 173.99, 171.71, 170.69, 171.7, 175.3, 179.94, 182.25, 181.85, 182.0, 184.48, 186.33, 185.33, 185.27, 185.59, 183.73, 185.25, 187.43, 191.3, 192.31, 190.95, 189.39, 189.3, 190.37, 187.72, 186.47, 188.37, 188.77, 191.38, 195.0, 194.29, 194.3, 192.94, 194.1, 193.87, 192.59, 193.93, 196.42, 194.9, 194.45, 196.75, 196.75, 197.29, 198.52, 198.0, 197.89, 195.69, 194.14, 193.64, 192.92, 194.37, 193.5, 196.18, 197.7, 196.36, 197.05, 195.12, 195.75, 206.7, 211.77, 221.5, 229.4, 223.99, 222.2, 227.75, 228.58, 228.0, 225.97, 232.99, 233.95, 230.99, 228.0, 229.04, 230.0, 231.5, 228.92, 225.76, 226.0, 224.55, 224.9, 224.79, 223.0, 227.69, 230.5, 228.33, 229.9, 229.79, 228.9, 228.5, 226.68, 227.39, 224.64, 223.9, 223.98, 227.2, 227.17, 226.2], \"low\": [173.0, 174.23, 171.54, 169.5, 168.05, 167.54, 168.54, 168.02, 163.88, 164.06, 163.34, 164.31, 164.69, 165.42, 164.53, 167.24, 169.5, 169.06, 173.0, 174.24, 172.07, 171.75, 171.95, 172.27, 172.22, 171.51, 170.77, 167.84, 165.4, 163.5, 162.01, 160.0, 162.21, 164.42, 163.93, 164.8, 164.35, 165.03, 160.62, 155.7, 155.99, 160.33, 161.61, 162.0, 158.9, 155.23, 155.55, 155.86, 157.02, 156.06, 157.82, 158.17, 160.61, 162.25, 159.75, 162.1, 163.07, 161.1, 162.05, 162.37, 161.9, 159.51, 159.84, 160.7, 163.82, 166.41, 160.71, 154.51, 154.61, 150.28, 149.7, 148.6, 147.62, 152.15, 152.36, 152.26, 157.8, 161.0, 161.31, 161.7, 163.27, 163.91, 165.01, 163.63, 163.78, 164.0, 166.41, 168.84, 166.85, 167.89, 169.98, 168.17, 164.7, 165.71, 167.14, 165.4, 162.51, 163.53, 160.62, 160.69, 161.17, 155.03, 152.72, 151.62, 154.43, 152.11, 151.75, 148.25, 150.12, 145.0, 142.81, 136.2, 139.02, 141.8, 143.5, 142.77, 141.78, 143.62, 143.81, 143.4, 144.71, 143.2, 142.88, 146.22, 147.11, 147.89, 148.9, 149.06, 152.36, 154.95, 157.5, 158.34, 159.43, 159.82, 160.88, 160.53, 163.47, 161.72, 158.6, 159.92, 160.12, 162.4, 163.15, 163.88, 165.3, 166.54, 169.17, 168.6, 170.38, 172.66, 172.8, 172.01, 168.64, 171.37, 170.46, 172.83, 172.27, 168.13, 168.5, 169.7, 170.98, 175.3, 179.6, 179.2, 179.51, 180.85, 181.71, 182.02, 180.93, 183.33, 181.47, 183.32, 183.77, 186.51, 188.14, 188.4, 186.0, 186.72, 187.31, 184.55, 182.65, 183.8, 186.77, 186.37, 191.54, 191.2, 191.53, 190.8, 191.1, 192.13, 191.22, 189.06, 193.67, 192.58, 192.95, 193.56, 194.95, 195.2, 196.7, 196.07, 194.01, 191.81, 192.23, 190.82, 190.13, 192.04, 190.72, 192.87, 195.0, 193.8, 193.33, 192.38, 193.2, 195.56, 204.06, 209.12, 216.61, 215.78, 215.96, 221.54, 219.09, 224.1, 223.16, 224.07, 228.38, 225.06, 222.15, 225.0, 221.0, 226.7, 222.35, 220.76, 219.55, 222.0, 221.57, 219.23, 219.61, 221.1, 226.11, 220.54, 221.1, 225.57, 225.7, 223.5, 222.7, 222.35, 221.12, 221.65, 221.0, 223.1, 223.0, 223.27], \"open\": [173.41, 178.91, 176.32, 172.41, 171.37, 168.37, 171.5, 170.0, 168.8, 165.21, 164.71, 165.81, 165.5, 166.5, 167.31, 167.38, 170.36, 170.82, 173.81, 177.5, 174.37, 172.51, 173.9, 173.07, 174.3, 173.0, 173.15, 171.94, 169.07, 166.06, 164.99, 162.25, 164.03, 166.4, 166.37, 165.18, 167.44, 166.53, 166.0, 161.05, 155.99, 161.2, 162.93, 164.51, 162.33, 159.3, 157.36, 157.47, 159.3, 158.06, 157.83, 158.5, 161.53, 164.5, 162.01, 163.39, 163.99, 163.03, 163.48, 164.01, 163.38, 163.45, 160.5, 161.4, 164.32, 167.53, 166.13, 161.14, 155.18, 156.94, 151.57, 150.6, 149.4, 154.44, 153.19, 152.99, 158.75, 161.13, 163.08, 163.1, 164.98, 165.5, 166.0, 166.3, 164.6, 164.22, 167.01, 171.01, 169.74, 168.51, 170.91, 169.8, 168.45, 167.4, 170.48, 167.85, 166.55, 166.5, 163.8, 160.99, 163.15, 161.52, 156.4, 153.01, 157.11, 154.49, 153.3, 153.11, 151.42, 145.4, 145.65, 141.94, 139.61, 142.5, 145.2, 144.2, 142.5, 144.37, 144.85, 144.36, 146.2, 146.5, 143.21, 146.69, 147.49, 149.39, 149.2, 149.69, 152.37, 155.57, 157.55, 161.5, 159.76, 161.8, 162.0, 161.39, 164.09, 163.96, 161.29, 161.69, 160.7, 162.44, 165.37, 165.52, 165.53, 166.6, 170.0, 169.48, 170.47, 173.03, 174.8, 173.74, 171.3, 172.77, 172.31, 172.95, 172.52, 171.7, 169.78, 171.2, 171.01, 175.5, 180.88, 180.75, 181.9, 182.5, 182.95, 183.85, 181.82, 184.39, 183.25, 183.47, 184.1, 186.7, 191.03, 189.3, 189.0, 188.68, 189.58, 187.65, 184.53, 186.35, 187.36, 187.33, 191.58, 192.94, 193.63, 191.96, 192.71, 193.25, 192.49, 192.18, 194.3, 194.22, 194.3, 193.94, 195.83, 195.63, 197.53, 197.39, 197.5, 195.26, 193.54, 193.43, 191.69, 193.01, 192.65, 193.53, 196.32, 194.96, 194.5, 193.77, 194.77, 196.5, 205.92, 209.55, 221.01, 217.8, 216.51, 222.53, 227.73, 227.9, 225.7, 225.49, 231.88, 230.28, 225.4, 228.39, 221.0, 230.13, 228.0, 224.53, 222.0, 224.0, 222.65, 223.83, 219.9, 221.4, 228.92, 227.27, 222.16, 228.91, 227.5, 227.9, 224.45, 226.46, 223.68, 222.22, 223.52, 224.03, 226.9, 224.05], \"type\": \"ohlc\", \"x\": [\"2017-01-03T00:00:00\", \"2017-01-04T00:00:00\", \"2017-01-05T00:00:00\", \"2017-01-06T00:00:00\", \"2017-01-09T00:00:00\", \"2017-01-10T00:00:00\", \"2017-01-11T00:00:00\", \"2017-01-12T00:00:00\", \"2017-01-13T00:00:00\", \"2017-01-16T00:00:00\", \"2017-01-17T00:00:00\", \"2017-01-18T00:00:00\", \"2017-01-19T00:00:00\", \"2017-01-20T00:00:00\", \"2017-01-23T00:00:00\", \"2017-01-24T00:00:00\", \"2017-01-25T00:00:00\", \"2017-01-26T00:00:00\", \"2017-01-27T00:00:00\", \"2017-01-30T00:00:00\", \"2017-01-31T00:00:00\", \"2017-02-01T00:00:00\", \"2017-02-02T00:00:00\", \"2017-02-03T00:00:00\", \"2017-02-06T00:00:00\", \"2017-02-07T00:00:00\", \"2017-02-08T00:00:00\", \"2017-02-09T00:00:00\", \"2017-02-10T00:00:00\", \"2017-02-13T00:00:00\", \"2017-02-14T00:00:00\", \"2017-02-15T00:00:00\", \"2017-02-16T00:00:00\", \"2017-02-17T00:00:00\", \"2017-02-20T00:00:00\", \"2017-02-21T00:00:00\", \"2017-02-22T00:00:00\", \"2017-02-24T00:00:00\", \"2017-02-27T00:00:00\", \"2017-02-28T00:00:00\", \"2017-03-01T00:00:00\", \"2017-03-02T00:00:00\", \"2017-03-03T00:00:00\", \"2017-03-06T00:00:00\", \"2017-03-07T00:00:00\", \"2017-03-09T00:00:00\", \"2017-03-10T00:00:00\", \"2017-03-13T00:00:00\", \"2017-03-14T00:00:00\", \"2017-03-15T00:00:00\", \"2017-03-16T00:00:00\", \"2017-03-17T00:00:00\", \"2017-03-20T00:00:00\", \"2017-03-21T00:00:00\", \"2017-03-22T00:00:00\", \"2017-03-23T00:00:00\", \"2017-03-24T00:00:00\", \"2017-03-27T00:00:00\", \"2017-03-28T00:00:00\", \"2017-03-29T00:00:00\", \"2017-03-30T00:00:00\", \"2017-03-31T00:00:00\", \"2017-04-03T00:00:00\", \"2017-04-04T00:00:00\", \"2017-04-05T00:00:00\", \"2017-04-06T00:00:00\", \"2017-04-07T00:00:00\", \"2017-04-10T00:00:00\", \"2017-04-11T00:00:00\", \"2017-04-12T00:00:00\", \"2017-04-13T00:00:00\", \"2017-04-14T00:00:00\", \"2017-04-17T00:00:00\", \"2017-04-18T00:00:00\", \"2017-04-19T00:00:00\", \"2017-04-20T00:00:00\", \"2017-04-21T00:00:00\", \"2017-04-24T00:00:00\", \"2017-04-25T00:00:00\", \"2017-04-26T00:00:00\", \"2017-04-27T00:00:00\", \"2017-04-28T00:00:00\", \"2017-05-02T00:00:00\", \"2017-05-03T00:00:00\", \"2017-05-04T00:00:00\", \"2017-05-05T00:00:00\", \"2017-05-10T00:00:00\", \"2017-05-11T00:00:00\", \"2017-05-12T00:00:00\", \"2017-05-15T00:00:00\", \"2017-05-16T00:00:00\", \"2017-05-17T00:00:00\", \"2017-05-18T00:00:00\", \"2017-05-19T00:00:00\", \"2017-05-22T00:00:00\", \"2017-05-23T00:00:00\", \"2017-05-24T00:00:00\", \"2017-05-25T00:00:00\", \"2017-05-26T00:00:00\", \"2017-05-29T00:00:00\", \"2017-05-30T00:00:00\", \"2017-05-31T00:00:00\", \"2017-06-01T00:00:00\", \"2017-06-02T00:00:00\", \"2017-06-05T00:00:00\", \"2017-06-06T00:00:00\", \"2017-06-07T00:00:00\", \"2017-06-08T00:00:00\", \"2017-06-09T00:00:00\", \"2017-06-13T00:00:00\", \"2017-06-14T00:00:00\", \"2017-06-15T00:00:00\", \"2017-06-16T00:00:00\", \"2017-06-19T00:00:00\", \"2017-06-20T00:00:00\", \"2017-06-21T00:00:00\", \"2017-06-22T00:00:00\", \"2017-06-23T00:00:00\", \"2017-06-26T00:00:00\", \"2017-06-27T00:00:00\", \"2017-06-28T00:00:00\", \"2017-06-29T00:00:00\", \"2017-06-30T00:00:00\", \"2017-07-03T00:00:00\", \"2017-07-04T00:00:00\", \"2017-07-05T00:00:00\", \"2017-07-06T00:00:00\", \"2017-07-07T00:00:00\", \"2017-07-10T00:00:00\", \"2017-07-11T00:00:00\", \"2017-07-12T00:00:00\", \"2017-07-13T00:00:00\", \"2017-07-14T00:00:00\", \"2017-07-17T00:00:00\", \"2017-07-18T00:00:00\", \"2017-07-19T00:00:00\", \"2017-07-20T00:00:00\", \"2017-07-21T00:00:00\", \"2017-07-24T00:00:00\", \"2017-07-25T00:00:00\", \"2017-07-26T00:00:00\", \"2017-07-27T00:00:00\", \"2017-07-28T00:00:00\", \"2017-07-31T00:00:00\", \"2017-08-01T00:00:00\", \"2017-08-02T00:00:00\", \"2017-08-03T00:00:00\", \"2017-08-04T00:00:00\", \"2017-08-07T00:00:00\", \"2017-08-08T00:00:00\", \"2017-08-09T00:00:00\", \"2017-08-10T00:00:00\", \"2017-08-11T00:00:00\", \"2017-08-14T00:00:00\", \"2017-08-15T00:00:00\", \"2017-08-16T00:00:00\", \"2017-08-17T00:00:00\", \"2017-08-18T00:00:00\", \"2017-08-21T00:00:00\", \"2017-08-22T00:00:00\", \"2017-08-23T00:00:00\", \"2017-08-24T00:00:00\", \"2017-08-25T00:00:00\", \"2017-08-28T00:00:00\", \"2017-08-29T00:00:00\", \"2017-08-30T00:00:00\", \"2017-08-31T00:00:00\", \"2017-09-01T00:00:00\", \"2017-09-04T00:00:00\", \"2017-09-05T00:00:00\", \"2017-09-06T00:00:00\", \"2017-09-07T00:00:00\", \"2017-09-08T00:00:00\", \"2017-09-11T00:00:00\", \"2017-09-12T00:00:00\", \"2017-09-13T00:00:00\", \"2017-09-14T00:00:00\", \"2017-09-15T00:00:00\", \"2017-09-18T00:00:00\", \"2017-09-19T00:00:00\", \"2017-09-20T00:00:00\", \"2017-09-21T00:00:00\", \"2017-09-22T00:00:00\", \"2017-09-25T00:00:00\", \"2017-09-26T00:00:00\", \"2017-09-27T00:00:00\", \"2017-09-28T00:00:00\", \"2017-09-29T00:00:00\", \"2017-10-02T00:00:00\", \"2017-10-03T00:00:00\", \"2017-10-04T00:00:00\", \"2017-10-05T00:00:00\", \"2017-10-06T00:00:00\", \"2017-10-09T00:00:00\", \"2017-10-10T00:00:00\", \"2017-10-11T00:00:00\", \"2017-10-12T00:00:00\", \"2017-10-13T00:00:00\", \"2017-10-16T00:00:00\", \"2017-10-17T00:00:00\", \"2017-10-18T00:00:00\", \"2017-10-19T00:00:00\", \"2017-10-20T00:00:00\", \"2017-10-23T00:00:00\", \"2017-10-24T00:00:00\", \"2017-10-25T00:00:00\", \"2017-10-26T00:00:00\", \"2017-10-27T00:00:00\", \"2017-10-30T00:00:00\", \"2017-10-31T00:00:00\", \"2017-11-01T00:00:00\", \"2017-11-02T00:00:00\", \"2017-11-03T00:00:00\", \"2017-11-07T00:00:00\", \"2017-11-08T00:00:00\", \"2017-11-09T00:00:00\", \"2017-11-10T00:00:00\", \"2017-11-13T00:00:00\", \"2017-11-14T00:00:00\", \"2017-11-15T00:00:00\", \"2017-11-16T00:00:00\", \"2017-11-17T00:00:00\", \"2017-11-20T00:00:00\", \"2017-11-21T00:00:00\", \"2017-11-22T00:00:00\", \"2017-11-23T00:00:00\", \"2017-11-24T00:00:00\", \"2017-11-27T00:00:00\", \"2017-11-28T00:00:00\", \"2017-11-29T00:00:00\", \"2017-11-30T00:00:00\", \"2017-12-01T00:00:00\", \"2017-12-04T00:00:00\", \"2017-12-05T00:00:00\", \"2017-12-06T00:00:00\", \"2017-12-07T00:00:00\", \"2017-12-08T00:00:00\", \"2017-12-11T00:00:00\", \"2017-12-12T00:00:00\", \"2017-12-13T00:00:00\", \"2017-12-14T00:00:00\", \"2017-12-15T00:00:00\", \"2017-12-18T00:00:00\", \"2017-12-19T00:00:00\", \"2017-12-20T00:00:00\", \"2017-12-21T00:00:00\", \"2017-12-22T00:00:00\", \"2017-12-25T00:00:00\", \"2017-12-26T00:00:00\", \"2017-12-27T00:00:00\", \"2017-12-28T00:00:00\", \"2017-12-29T00:00:00\"]}],                        {\"template\": {\"data\": {\"bar\": [{\"error_x\": {\"color\": \"#2a3f5f\"}, \"error_y\": {\"color\": \"#2a3f5f\"}, \"marker\": {\"line\": {\"color\": \"#E5ECF6\", \"width\": 0.5}}, \"type\": \"bar\"}], \"barpolar\": [{\"marker\": {\"line\": {\"color\": \"#E5ECF6\", \"width\": 0.5}}, \"type\": \"barpolar\"}], \"carpet\": [{\"aaxis\": {\"endlinecolor\": \"#2a3f5f\", \"gridcolor\": \"white\", \"linecolor\": \"white\", \"minorgridcolor\": \"white\", \"startlinecolor\": \"#2a3f5f\"}, \"baxis\": {\"endlinecolor\": \"#2a3f5f\", \"gridcolor\": \"white\", \"linecolor\": \"white\", \"minorgridcolor\": \"white\", \"startlinecolor\": \"#2a3f5f\"}, \"type\": \"carpet\"}], \"choropleth\": [{\"colorbar\": {\"outlinewidth\": 0, \"ticks\": \"\"}, \"type\": \"choropleth\"}], \"contour\": [{\"colorbar\": {\"outlinewidth\": 0, \"ticks\": \"\"}, \"colorscale\": [[0.0, \"#0d0887\"], [0.1111111111111111, \"#46039f\"], [0.2222222222222222, \"#7201a8\"], [0.3333333333333333, \"#9c179e\"], [0.4444444444444444, \"#bd3786\"], [0.5555555555555556, \"#d8576b\"], [0.6666666666666666, \"#ed7953\"], [0.7777777777777778, \"#fb9f3a\"], [0.8888888888888888, \"#fdca26\"], [1.0, \"#f0f921\"]], \"type\": \"contour\"}], \"contourcarpet\": [{\"colorbar\": {\"outlinewidth\": 0, \"ticks\": \"\"}, \"type\": \"contourcarpet\"}], \"heatmap\": [{\"colorbar\": {\"outlinewidth\": 0, \"ticks\": \"\"}, \"colorscale\": [[0.0, \"#0d0887\"], [0.1111111111111111, \"#46039f\"], [0.2222222222222222, \"#7201a8\"], [0.3333333333333333, \"#9c179e\"], [0.4444444444444444, \"#bd3786\"], [0.5555555555555556, \"#d8576b\"], [0.6666666666666666, \"#ed7953\"], [0.7777777777777778, \"#fb9f3a\"], [0.8888888888888888, \"#fdca26\"], [1.0, \"#f0f921\"]], \"type\": \"heatmap\"}], \"heatmapgl\": [{\"colorbar\": {\"outlinewidth\": 0, \"ticks\": \"\"}, \"colorscale\": [[0.0, \"#0d0887\"], [0.1111111111111111, \"#46039f\"], [0.2222222222222222, \"#7201a8\"], [0.3333333333333333, \"#9c179e\"], [0.4444444444444444, \"#bd3786\"], [0.5555555555555556, \"#d8576b\"], [0.6666666666666666, \"#ed7953\"], [0.7777777777777778, \"#fb9f3a\"], [0.8888888888888888, \"#fdca26\"], [1.0, \"#f0f921\"]], \"type\": \"heatmapgl\"}], \"histogram\": [{\"marker\": {\"colorbar\": {\"outlinewidth\": 0, \"ticks\": \"\"}}, \"type\": \"histogram\"}], \"histogram2d\": [{\"colorbar\": {\"outlinewidth\": 0, \"ticks\": \"\"}, \"colorscale\": [[0.0, \"#0d0887\"], [0.1111111111111111, \"#46039f\"], [0.2222222222222222, \"#7201a8\"], [0.3333333333333333, \"#9c179e\"], [0.4444444444444444, \"#bd3786\"], [0.5555555555555556, \"#d8576b\"], [0.6666666666666666, \"#ed7953\"], [0.7777777777777778, \"#fb9f3a\"], [0.8888888888888888, \"#fdca26\"], [1.0, \"#f0f921\"]], \"type\": \"histogram2d\"}], \"histogram2dcontour\": [{\"colorbar\": {\"outlinewidth\": 0, \"ticks\": \"\"}, \"colorscale\": [[0.0, \"#0d0887\"], [0.1111111111111111, \"#46039f\"], [0.2222222222222222, \"#7201a8\"], [0.3333333333333333, \"#9c179e\"], [0.4444444444444444, \"#bd3786\"], [0.5555555555555556, \"#d8576b\"], [0.6666666666666666, \"#ed7953\"], [0.7777777777777778, \"#fb9f3a\"], [0.8888888888888888, \"#fdca26\"], [1.0, \"#f0f921\"]], \"type\": \"histogram2dcontour\"}], \"mesh3d\": [{\"colorbar\": {\"outlinewidth\": 0, \"ticks\": \"\"}, \"type\": \"mesh3d\"}], \"parcoords\": [{\"line\": {\"colorbar\": {\"outlinewidth\": 0, \"ticks\": \"\"}}, \"type\": \"parcoords\"}], \"pie\": [{\"automargin\": true, \"type\": \"pie\"}], \"scatter\": [{\"marker\": {\"colorbar\": {\"outlinewidth\": 0, \"ticks\": \"\"}}, \"type\": \"scatter\"}], \"scatter3d\": [{\"line\": {\"colorbar\": {\"outlinewidth\": 0, \"ticks\": \"\"}}, \"marker\": {\"colorbar\": {\"outlinewidth\": 0, \"ticks\": \"\"}}, \"type\": \"scatter3d\"}], \"scattercarpet\": [{\"marker\": {\"colorbar\": {\"outlinewidth\": 0, \"ticks\": \"\"}}, \"type\": \"scattercarpet\"}], \"scattergeo\": [{\"marker\": {\"colorbar\": {\"outlinewidth\": 0, \"ticks\": \"\"}}, \"type\": \"scattergeo\"}], \"scattergl\": [{\"marker\": {\"colorbar\": {\"outlinewidth\": 0, \"ticks\": \"\"}}, \"type\": \"scattergl\"}], \"scattermapbox\": [{\"marker\": {\"colorbar\": {\"outlinewidth\": 0, \"ticks\": \"\"}}, \"type\": \"scattermapbox\"}], \"scatterpolar\": [{\"marker\": {\"colorbar\": {\"outlinewidth\": 0, \"ticks\": \"\"}}, \"type\": \"scatterpolar\"}], \"scatterpolargl\": [{\"marker\": {\"colorbar\": {\"outlinewidth\": 0, \"ticks\": \"\"}}, \"type\": \"scatterpolargl\"}], \"scatterternary\": [{\"marker\": {\"colorbar\": {\"outlinewidth\": 0, \"ticks\": \"\"}}, \"type\": \"scatterternary\"}], \"surface\": [{\"colorbar\": {\"outlinewidth\": 0, \"ticks\": \"\"}, \"colorscale\": [[0.0, \"#0d0887\"], [0.1111111111111111, \"#46039f\"], [0.2222222222222222, \"#7201a8\"], [0.3333333333333333, \"#9c179e\"], [0.4444444444444444, \"#bd3786\"], [0.5555555555555556, \"#d8576b\"], [0.6666666666666666, \"#ed7953\"], [0.7777777777777778, \"#fb9f3a\"], [0.8888888888888888, \"#fdca26\"], [1.0, \"#f0f921\"]], \"type\": \"surface\"}], \"table\": [{\"cells\": {\"fill\": {\"color\": \"#EBF0F8\"}, \"line\": {\"color\": \"white\"}}, \"header\": {\"fill\": {\"color\": \"#C8D4E3\"}, \"line\": {\"color\": \"white\"}}, \"type\": \"table\"}]}, \"layout\": {\"annotationdefaults\": {\"arrowcolor\": \"#2a3f5f\", \"arrowhead\": 0, \"arrowwidth\": 1}, \"autotypenumbers\": \"strict\", \"coloraxis\": {\"colorbar\": {\"outlinewidth\": 0, \"ticks\": \"\"}}, \"colorscale\": {\"diverging\": [[0, \"#8e0152\"], [0.1, \"#c51b7d\"], [0.2, \"#de77ae\"], [0.3, \"#f1b6da\"], [0.4, \"#fde0ef\"], [0.5, \"#f7f7f7\"], [0.6, \"#e6f5d0\"], [0.7, \"#b8e186\"], [0.8, \"#7fbc41\"], [0.9, \"#4d9221\"], [1, \"#276419\"]], \"sequential\": [[0.0, \"#0d0887\"], [0.1111111111111111, \"#46039f\"], [0.2222222222222222, \"#7201a8\"], [0.3333333333333333, \"#9c179e\"], [0.4444444444444444, \"#bd3786\"], [0.5555555555555556, \"#d8576b\"], [0.6666666666666666, \"#ed7953\"], [0.7777777777777778, \"#fb9f3a\"], [0.8888888888888888, \"#fdca26\"], [1.0, \"#f0f921\"]], \"sequentialminus\": [[0.0, \"#0d0887\"], [0.1111111111111111, \"#46039f\"], [0.2222222222222222, \"#7201a8\"], [0.3333333333333333, \"#9c179e\"], [0.4444444444444444, \"#bd3786\"], [0.5555555555555556, \"#d8576b\"], [0.6666666666666666, \"#ed7953\"], [0.7777777777777778, \"#fb9f3a\"], [0.8888888888888888, \"#fdca26\"], [1.0, \"#f0f921\"]]}, \"colorway\": [\"#636efa\", \"#EF553B\", \"#00cc96\", \"#ab63fa\", \"#FFA15A\", \"#19d3f3\", \"#FF6692\", \"#B6E880\", \"#FF97FF\", \"#FECB52\"], \"font\": {\"color\": \"#2a3f5f\"}, \"geo\": {\"bgcolor\": \"white\", \"lakecolor\": \"white\", \"landcolor\": \"#E5ECF6\", \"showlakes\": true, \"showland\": true, \"subunitcolor\": \"white\"}, \"hoverlabel\": {\"align\": \"left\"}, \"hovermode\": \"closest\", \"mapbox\": {\"style\": \"light\"}, \"paper_bgcolor\": \"white\", \"plot_bgcolor\": \"#E5ECF6\", \"polar\": {\"angularaxis\": {\"gridcolor\": \"white\", \"linecolor\": \"white\", \"ticks\": \"\"}, \"bgcolor\": \"#E5ECF6\", \"radialaxis\": {\"gridcolor\": \"white\", \"linecolor\": \"white\", \"ticks\": \"\"}}, \"scene\": {\"xaxis\": {\"backgroundcolor\": \"#E5ECF6\", \"gridcolor\": \"white\", \"gridwidth\": 2, \"linecolor\": \"white\", \"showbackground\": true, \"ticks\": \"\", \"zerolinecolor\": \"white\"}, \"yaxis\": {\"backgroundcolor\": \"#E5ECF6\", \"gridcolor\": \"white\", \"gridwidth\": 2, \"linecolor\": \"white\", \"showbackground\": true, \"ticks\": \"\", \"zerolinecolor\": \"white\"}, \"zaxis\": {\"backgroundcolor\": \"#E5ECF6\", \"gridcolor\": \"white\", \"gridwidth\": 2, \"linecolor\": \"white\", \"showbackground\": true, \"ticks\": \"\", \"zerolinecolor\": \"white\"}}, \"shapedefaults\": {\"line\": {\"color\": \"#2a3f5f\"}}, \"ternary\": {\"aaxis\": {\"gridcolor\": \"white\", \"linecolor\": \"white\", \"ticks\": \"\"}, \"baxis\": {\"gridcolor\": \"white\", \"linecolor\": \"white\", \"ticks\": \"\"}, \"bgcolor\": \"#E5ECF6\", \"caxis\": {\"gridcolor\": \"white\", \"linecolor\": \"white\", \"ticks\": \"\"}}, \"title\": {\"x\": 0.05}, \"xaxis\": {\"automargin\": true, \"gridcolor\": \"white\", \"linecolor\": \"white\", \"ticks\": \"\", \"title\": {\"standoff\": 15}, \"zerolinecolor\": \"white\", \"zerolinewidth\": 2}, \"yaxis\": {\"automargin\": true, \"gridcolor\": \"white\", \"linecolor\": \"white\", \"ticks\": \"\", \"title\": {\"standoff\": 15}, \"zerolinecolor\": \"white\", \"zerolinewidth\": 2}}}},                        {\"responsive\": true}                    ).then(function(){\n",
       "                            \n",
       "var gd = document.getElementById('704e0341-43d3-45a2-9185-8d4a757c9753');\n",
       "var x = new MutationObserver(function (mutations, observer) {{\n",
       "        var display = window.getComputedStyle(gd).display;\n",
       "        if (!display || display === 'none') {{\n",
       "            console.log([gd, 'removed!']);\n",
       "            Plotly.purge(gd);\n",
       "            observer.disconnect();\n",
       "        }}\n",
       "}});\n",
       "\n",
       "// Listen for the removal of the full notebook cells\n",
       "var notebookContainer = gd.closest('#notebook-container');\n",
       "if (notebookContainer) {{\n",
       "    x.observe(notebookContainer, {childList: true});\n",
       "}}\n",
       "\n",
       "// Listen for the clearing of the current output cell\n",
       "var outputEl = gd.closest('.output');\n",
       "if (outputEl) {{\n",
       "    x.observe(outputEl, {childList: true});\n",
       "}}\n",
       "\n",
       "                        })                };                });            </script>        </div>"
      ]
     },
     "metadata": {},
     "output_type": "display_data"
    }
   ],
   "source": [
    "trace = go.Ohlc(x=data_daily.index,\n",
    "                open=data_daily['Open'],\n",
    "                high=data_daily['High'],\n",
    "                low=data_daily['Low'],\n",
    "                close=data_daily['Close'])\n",
    "\n",
    "data = [trace]\n",
    "iplot(data)"
   ]
  },
  {
   "cell_type": "code",
   "execution_count": 116,
   "metadata": {},
   "outputs": [
    {
     "data": {
      "application/vnd.plotly.v1+json": {
       "config": {
        "linkText": "Export to plot.ly",
        "plotlyServerURL": "https://plot.ly",
        "showLink": false
       },
       "data": [
        {
         "close": [
          172.2,
          156,
          159.8,
          165.2,
          155.93,
          145.59,
          164.53,
          183.51,
          192.33,
          193.8,
          224.35,
          225.2
         ],
         "high": [
          181.68,
          174.98,
          165.99,
          168.45,
          172.39,
          158.89,
          167.35,
          186.33,
          195,
          198.52,
          233.95,
          230.5
         ],
         "low": [
          163.34,
          155.7,
          155.23,
          147.62,
          155.03,
          136.2,
          146.22,
          165.3,
          180.93,
          189.06,
          192.38,
          219.23
         ],
         "open": [
          173.41,
          172.51,
          155.99,
          160.5,
          166,
          156.4,
          146.69,
          165.53,
          183.85,
          192.71,
          194.5,
          224.53
         ],
         "type": "candlestick",
         "x": [
          "2017-01-31T00:00:00",
          "2017-02-28T00:00:00",
          "2017-03-31T00:00:00",
          "2017-04-30T00:00:00",
          "2017-05-31T00:00:00",
          "2017-06-30T00:00:00",
          "2017-07-31T00:00:00",
          "2017-08-31T00:00:00",
          "2017-09-30T00:00:00",
          "2017-10-31T00:00:00",
          "2017-11-30T00:00:00",
          "2017-12-31T00:00:00"
         ]
        }
       ],
       "layout": {
        "template": {
         "data": {
          "bar": [
           {
            "error_x": {
             "color": "#2a3f5f"
            },
            "error_y": {
             "color": "#2a3f5f"
            },
            "marker": {
             "line": {
              "color": "#E5ECF6",
              "width": 0.5
             }
            },
            "type": "bar"
           }
          ],
          "barpolar": [
           {
            "marker": {
             "line": {
              "color": "#E5ECF6",
              "width": 0.5
             }
            },
            "type": "barpolar"
           }
          ],
          "carpet": [
           {
            "aaxis": {
             "endlinecolor": "#2a3f5f",
             "gridcolor": "white",
             "linecolor": "white",
             "minorgridcolor": "white",
             "startlinecolor": "#2a3f5f"
            },
            "baxis": {
             "endlinecolor": "#2a3f5f",
             "gridcolor": "white",
             "linecolor": "white",
             "minorgridcolor": "white",
             "startlinecolor": "#2a3f5f"
            },
            "type": "carpet"
           }
          ],
          "choropleth": [
           {
            "colorbar": {
             "outlinewidth": 0,
             "ticks": ""
            },
            "type": "choropleth"
           }
          ],
          "contour": [
           {
            "colorbar": {
             "outlinewidth": 0,
             "ticks": ""
            },
            "colorscale": [
             [
              0,
              "#0d0887"
             ],
             [
              0.1111111111111111,
              "#46039f"
             ],
             [
              0.2222222222222222,
              "#7201a8"
             ],
             [
              0.3333333333333333,
              "#9c179e"
             ],
             [
              0.4444444444444444,
              "#bd3786"
             ],
             [
              0.5555555555555556,
              "#d8576b"
             ],
             [
              0.6666666666666666,
              "#ed7953"
             ],
             [
              0.7777777777777778,
              "#fb9f3a"
             ],
             [
              0.8888888888888888,
              "#fdca26"
             ],
             [
              1,
              "#f0f921"
             ]
            ],
            "type": "contour"
           }
          ],
          "contourcarpet": [
           {
            "colorbar": {
             "outlinewidth": 0,
             "ticks": ""
            },
            "type": "contourcarpet"
           }
          ],
          "heatmap": [
           {
            "colorbar": {
             "outlinewidth": 0,
             "ticks": ""
            },
            "colorscale": [
             [
              0,
              "#0d0887"
             ],
             [
              0.1111111111111111,
              "#46039f"
             ],
             [
              0.2222222222222222,
              "#7201a8"
             ],
             [
              0.3333333333333333,
              "#9c179e"
             ],
             [
              0.4444444444444444,
              "#bd3786"
             ],
             [
              0.5555555555555556,
              "#d8576b"
             ],
             [
              0.6666666666666666,
              "#ed7953"
             ],
             [
              0.7777777777777778,
              "#fb9f3a"
             ],
             [
              0.8888888888888888,
              "#fdca26"
             ],
             [
              1,
              "#f0f921"
             ]
            ],
            "type": "heatmap"
           }
          ],
          "heatmapgl": [
           {
            "colorbar": {
             "outlinewidth": 0,
             "ticks": ""
            },
            "colorscale": [
             [
              0,
              "#0d0887"
             ],
             [
              0.1111111111111111,
              "#46039f"
             ],
             [
              0.2222222222222222,
              "#7201a8"
             ],
             [
              0.3333333333333333,
              "#9c179e"
             ],
             [
              0.4444444444444444,
              "#bd3786"
             ],
             [
              0.5555555555555556,
              "#d8576b"
             ],
             [
              0.6666666666666666,
              "#ed7953"
             ],
             [
              0.7777777777777778,
              "#fb9f3a"
             ],
             [
              0.8888888888888888,
              "#fdca26"
             ],
             [
              1,
              "#f0f921"
             ]
            ],
            "type": "heatmapgl"
           }
          ],
          "histogram": [
           {
            "marker": {
             "colorbar": {
              "outlinewidth": 0,
              "ticks": ""
             }
            },
            "type": "histogram"
           }
          ],
          "histogram2d": [
           {
            "colorbar": {
             "outlinewidth": 0,
             "ticks": ""
            },
            "colorscale": [
             [
              0,
              "#0d0887"
             ],
             [
              0.1111111111111111,
              "#46039f"
             ],
             [
              0.2222222222222222,
              "#7201a8"
             ],
             [
              0.3333333333333333,
              "#9c179e"
             ],
             [
              0.4444444444444444,
              "#bd3786"
             ],
             [
              0.5555555555555556,
              "#d8576b"
             ],
             [
              0.6666666666666666,
              "#ed7953"
             ],
             [
              0.7777777777777778,
              "#fb9f3a"
             ],
             [
              0.8888888888888888,
              "#fdca26"
             ],
             [
              1,
              "#f0f921"
             ]
            ],
            "type": "histogram2d"
           }
          ],
          "histogram2dcontour": [
           {
            "colorbar": {
             "outlinewidth": 0,
             "ticks": ""
            },
            "colorscale": [
             [
              0,
              "#0d0887"
             ],
             [
              0.1111111111111111,
              "#46039f"
             ],
             [
              0.2222222222222222,
              "#7201a8"
             ],
             [
              0.3333333333333333,
              "#9c179e"
             ],
             [
              0.4444444444444444,
              "#bd3786"
             ],
             [
              0.5555555555555556,
              "#d8576b"
             ],
             [
              0.6666666666666666,
              "#ed7953"
             ],
             [
              0.7777777777777778,
              "#fb9f3a"
             ],
             [
              0.8888888888888888,
              "#fdca26"
             ],
             [
              1,
              "#f0f921"
             ]
            ],
            "type": "histogram2dcontour"
           }
          ],
          "mesh3d": [
           {
            "colorbar": {
             "outlinewidth": 0,
             "ticks": ""
            },
            "type": "mesh3d"
           }
          ],
          "parcoords": [
           {
            "line": {
             "colorbar": {
              "outlinewidth": 0,
              "ticks": ""
             }
            },
            "type": "parcoords"
           }
          ],
          "pie": [
           {
            "automargin": true,
            "type": "pie"
           }
          ],
          "scatter": [
           {
            "marker": {
             "colorbar": {
              "outlinewidth": 0,
              "ticks": ""
             }
            },
            "type": "scatter"
           }
          ],
          "scatter3d": [
           {
            "line": {
             "colorbar": {
              "outlinewidth": 0,
              "ticks": ""
             }
            },
            "marker": {
             "colorbar": {
              "outlinewidth": 0,
              "ticks": ""
             }
            },
            "type": "scatter3d"
           }
          ],
          "scattercarpet": [
           {
            "marker": {
             "colorbar": {
              "outlinewidth": 0,
              "ticks": ""
             }
            },
            "type": "scattercarpet"
           }
          ],
          "scattergeo": [
           {
            "marker": {
             "colorbar": {
              "outlinewidth": 0,
              "ticks": ""
             }
            },
            "type": "scattergeo"
           }
          ],
          "scattergl": [
           {
            "marker": {
             "colorbar": {
              "outlinewidth": 0,
              "ticks": ""
             }
            },
            "type": "scattergl"
           }
          ],
          "scattermapbox": [
           {
            "marker": {
             "colorbar": {
              "outlinewidth": 0,
              "ticks": ""
             }
            },
            "type": "scattermapbox"
           }
          ],
          "scatterpolar": [
           {
            "marker": {
             "colorbar": {
              "outlinewidth": 0,
              "ticks": ""
             }
            },
            "type": "scatterpolar"
           }
          ],
          "scatterpolargl": [
           {
            "marker": {
             "colorbar": {
              "outlinewidth": 0,
              "ticks": ""
             }
            },
            "type": "scatterpolargl"
           }
          ],
          "scatterternary": [
           {
            "marker": {
             "colorbar": {
              "outlinewidth": 0,
              "ticks": ""
             }
            },
            "type": "scatterternary"
           }
          ],
          "surface": [
           {
            "colorbar": {
             "outlinewidth": 0,
             "ticks": ""
            },
            "colorscale": [
             [
              0,
              "#0d0887"
             ],
             [
              0.1111111111111111,
              "#46039f"
             ],
             [
              0.2222222222222222,
              "#7201a8"
             ],
             [
              0.3333333333333333,
              "#9c179e"
             ],
             [
              0.4444444444444444,
              "#bd3786"
             ],
             [
              0.5555555555555556,
              "#d8576b"
             ],
             [
              0.6666666666666666,
              "#ed7953"
             ],
             [
              0.7777777777777778,
              "#fb9f3a"
             ],
             [
              0.8888888888888888,
              "#fdca26"
             ],
             [
              1,
              "#f0f921"
             ]
            ],
            "type": "surface"
           }
          ],
          "table": [
           {
            "cells": {
             "fill": {
              "color": "#EBF0F8"
             },
             "line": {
              "color": "white"
             }
            },
            "header": {
             "fill": {
              "color": "#C8D4E3"
             },
             "line": {
              "color": "white"
             }
            },
            "type": "table"
           }
          ]
         },
         "layout": {
          "annotationdefaults": {
           "arrowcolor": "#2a3f5f",
           "arrowhead": 0,
           "arrowwidth": 1
          },
          "autotypenumbers": "strict",
          "coloraxis": {
           "colorbar": {
            "outlinewidth": 0,
            "ticks": ""
           }
          },
          "colorscale": {
           "diverging": [
            [
             0,
             "#8e0152"
            ],
            [
             0.1,
             "#c51b7d"
            ],
            [
             0.2,
             "#de77ae"
            ],
            [
             0.3,
             "#f1b6da"
            ],
            [
             0.4,
             "#fde0ef"
            ],
            [
             0.5,
             "#f7f7f7"
            ],
            [
             0.6,
             "#e6f5d0"
            ],
            [
             0.7,
             "#b8e186"
            ],
            [
             0.8,
             "#7fbc41"
            ],
            [
             0.9,
             "#4d9221"
            ],
            [
             1,
             "#276419"
            ]
           ],
           "sequential": [
            [
             0,
             "#0d0887"
            ],
            [
             0.1111111111111111,
             "#46039f"
            ],
            [
             0.2222222222222222,
             "#7201a8"
            ],
            [
             0.3333333333333333,
             "#9c179e"
            ],
            [
             0.4444444444444444,
             "#bd3786"
            ],
            [
             0.5555555555555556,
             "#d8576b"
            ],
            [
             0.6666666666666666,
             "#ed7953"
            ],
            [
             0.7777777777777778,
             "#fb9f3a"
            ],
            [
             0.8888888888888888,
             "#fdca26"
            ],
            [
             1,
             "#f0f921"
            ]
           ],
           "sequentialminus": [
            [
             0,
             "#0d0887"
            ],
            [
             0.1111111111111111,
             "#46039f"
            ],
            [
             0.2222222222222222,
             "#7201a8"
            ],
            [
             0.3333333333333333,
             "#9c179e"
            ],
            [
             0.4444444444444444,
             "#bd3786"
            ],
            [
             0.5555555555555556,
             "#d8576b"
            ],
            [
             0.6666666666666666,
             "#ed7953"
            ],
            [
             0.7777777777777778,
             "#fb9f3a"
            ],
            [
             0.8888888888888888,
             "#fdca26"
            ],
            [
             1,
             "#f0f921"
            ]
           ]
          },
          "colorway": [
           "#636efa",
           "#EF553B",
           "#00cc96",
           "#ab63fa",
           "#FFA15A",
           "#19d3f3",
           "#FF6692",
           "#B6E880",
           "#FF97FF",
           "#FECB52"
          ],
          "font": {
           "color": "#2a3f5f"
          },
          "geo": {
           "bgcolor": "white",
           "lakecolor": "white",
           "landcolor": "#E5ECF6",
           "showlakes": true,
           "showland": true,
           "subunitcolor": "white"
          },
          "hoverlabel": {
           "align": "left"
          },
          "hovermode": "closest",
          "mapbox": {
           "style": "light"
          },
          "paper_bgcolor": "white",
          "plot_bgcolor": "#E5ECF6",
          "polar": {
           "angularaxis": {
            "gridcolor": "white",
            "linecolor": "white",
            "ticks": ""
           },
           "bgcolor": "#E5ECF6",
           "radialaxis": {
            "gridcolor": "white",
            "linecolor": "white",
            "ticks": ""
           }
          },
          "scene": {
           "xaxis": {
            "backgroundcolor": "#E5ECF6",
            "gridcolor": "white",
            "gridwidth": 2,
            "linecolor": "white",
            "showbackground": true,
            "ticks": "",
            "zerolinecolor": "white"
           },
           "yaxis": {
            "backgroundcolor": "#E5ECF6",
            "gridcolor": "white",
            "gridwidth": 2,
            "linecolor": "white",
            "showbackground": true,
            "ticks": "",
            "zerolinecolor": "white"
           },
           "zaxis": {
            "backgroundcolor": "#E5ECF6",
            "gridcolor": "white",
            "gridwidth": 2,
            "linecolor": "white",
            "showbackground": true,
            "ticks": "",
            "zerolinecolor": "white"
           }
          },
          "shapedefaults": {
           "line": {
            "color": "#2a3f5f"
           }
          },
          "ternary": {
           "aaxis": {
            "gridcolor": "white",
            "linecolor": "white",
            "ticks": ""
           },
           "baxis": {
            "gridcolor": "white",
            "linecolor": "white",
            "ticks": ""
           },
           "bgcolor": "#E5ECF6",
           "caxis": {
            "gridcolor": "white",
            "linecolor": "white",
            "ticks": ""
           }
          },
          "title": {
           "x": 0.05
          },
          "xaxis": {
           "automargin": true,
           "gridcolor": "white",
           "linecolor": "white",
           "ticks": "",
           "title": {
            "standoff": 15
           },
           "zerolinecolor": "white",
           "zerolinewidth": 2
          },
          "yaxis": {
           "automargin": true,
           "gridcolor": "white",
           "linecolor": "white",
           "ticks": "",
           "title": {
            "standoff": 15
           },
           "zerolinecolor": "white",
           "zerolinewidth": 2
          }
         }
        },
        "xaxis": {
         "rangeslider": {
          "visible": false
         }
        }
       }
      },
      "text/html": [
       "<div>                            <div id=\"e8d2b63d-2bd4-4ccc-83eb-86620c0f50db\" class=\"plotly-graph-div\" style=\"height:525px; width:100%;\"></div>            <script type=\"text/javascript\">                require([\"plotly\"], function(Plotly) {                    window.PLOTLYENV=window.PLOTLYENV || {};                                    if (document.getElementById(\"e8d2b63d-2bd4-4ccc-83eb-86620c0f50db\")) {                    Plotly.newPlot(                        \"e8d2b63d-2bd4-4ccc-83eb-86620c0f50db\",                        [{\"close\": [172.2, 156.0, 159.8, 165.2, 155.93, 145.59, 164.53, 183.51, 192.33, 193.8, 224.35, 225.2], \"high\": [181.68, 174.98, 165.99, 168.45, 172.39, 158.89, 167.35, 186.33, 195.0, 198.52, 233.95, 230.5], \"low\": [163.34, 155.7, 155.23, 147.62, 155.03, 136.2, 146.22, 165.3, 180.93, 189.06, 192.38, 219.23], \"open\": [173.41, 172.51, 155.99, 160.5, 166.0, 156.4, 146.69, 165.53, 183.85, 192.71, 194.5, 224.53], \"type\": \"candlestick\", \"x\": [\"2017-01-31T00:00:00\", \"2017-02-28T00:00:00\", \"2017-03-31T00:00:00\", \"2017-04-30T00:00:00\", \"2017-05-31T00:00:00\", \"2017-06-30T00:00:00\", \"2017-07-31T00:00:00\", \"2017-08-31T00:00:00\", \"2017-09-30T00:00:00\", \"2017-10-31T00:00:00\", \"2017-11-30T00:00:00\", \"2017-12-31T00:00:00\"]}],                        {\"template\": {\"data\": {\"bar\": [{\"error_x\": {\"color\": \"#2a3f5f\"}, \"error_y\": {\"color\": \"#2a3f5f\"}, \"marker\": {\"line\": {\"color\": \"#E5ECF6\", \"width\": 0.5}}, \"type\": \"bar\"}], \"barpolar\": [{\"marker\": {\"line\": {\"color\": \"#E5ECF6\", \"width\": 0.5}}, \"type\": \"barpolar\"}], \"carpet\": [{\"aaxis\": {\"endlinecolor\": \"#2a3f5f\", \"gridcolor\": \"white\", \"linecolor\": \"white\", \"minorgridcolor\": \"white\", \"startlinecolor\": \"#2a3f5f\"}, \"baxis\": {\"endlinecolor\": \"#2a3f5f\", \"gridcolor\": \"white\", \"linecolor\": \"white\", \"minorgridcolor\": \"white\", \"startlinecolor\": \"#2a3f5f\"}, \"type\": \"carpet\"}], \"choropleth\": [{\"colorbar\": {\"outlinewidth\": 0, \"ticks\": \"\"}, \"type\": \"choropleth\"}], \"contour\": [{\"colorbar\": {\"outlinewidth\": 0, \"ticks\": \"\"}, \"colorscale\": [[0.0, \"#0d0887\"], [0.1111111111111111, \"#46039f\"], [0.2222222222222222, \"#7201a8\"], [0.3333333333333333, \"#9c179e\"], [0.4444444444444444, \"#bd3786\"], [0.5555555555555556, \"#d8576b\"], [0.6666666666666666, \"#ed7953\"], [0.7777777777777778, \"#fb9f3a\"], [0.8888888888888888, \"#fdca26\"], [1.0, \"#f0f921\"]], \"type\": \"contour\"}], \"contourcarpet\": [{\"colorbar\": {\"outlinewidth\": 0, \"ticks\": \"\"}, \"type\": \"contourcarpet\"}], \"heatmap\": [{\"colorbar\": {\"outlinewidth\": 0, \"ticks\": \"\"}, \"colorscale\": [[0.0, \"#0d0887\"], [0.1111111111111111, \"#46039f\"], [0.2222222222222222, \"#7201a8\"], [0.3333333333333333, \"#9c179e\"], [0.4444444444444444, \"#bd3786\"], [0.5555555555555556, \"#d8576b\"], [0.6666666666666666, \"#ed7953\"], [0.7777777777777778, \"#fb9f3a\"], [0.8888888888888888, \"#fdca26\"], [1.0, \"#f0f921\"]], \"type\": \"heatmap\"}], \"heatmapgl\": [{\"colorbar\": {\"outlinewidth\": 0, \"ticks\": \"\"}, \"colorscale\": [[0.0, \"#0d0887\"], [0.1111111111111111, \"#46039f\"], [0.2222222222222222, \"#7201a8\"], [0.3333333333333333, \"#9c179e\"], [0.4444444444444444, \"#bd3786\"], [0.5555555555555556, \"#d8576b\"], [0.6666666666666666, \"#ed7953\"], [0.7777777777777778, \"#fb9f3a\"], [0.8888888888888888, \"#fdca26\"], [1.0, \"#f0f921\"]], \"type\": \"heatmapgl\"}], \"histogram\": [{\"marker\": {\"colorbar\": {\"outlinewidth\": 0, \"ticks\": \"\"}}, \"type\": \"histogram\"}], \"histogram2d\": [{\"colorbar\": {\"outlinewidth\": 0, \"ticks\": \"\"}, \"colorscale\": [[0.0, \"#0d0887\"], [0.1111111111111111, \"#46039f\"], [0.2222222222222222, \"#7201a8\"], [0.3333333333333333, \"#9c179e\"], [0.4444444444444444, \"#bd3786\"], [0.5555555555555556, \"#d8576b\"], [0.6666666666666666, \"#ed7953\"], [0.7777777777777778, \"#fb9f3a\"], [0.8888888888888888, \"#fdca26\"], [1.0, \"#f0f921\"]], \"type\": \"histogram2d\"}], \"histogram2dcontour\": [{\"colorbar\": {\"outlinewidth\": 0, \"ticks\": \"\"}, \"colorscale\": [[0.0, \"#0d0887\"], [0.1111111111111111, \"#46039f\"], [0.2222222222222222, \"#7201a8\"], [0.3333333333333333, \"#9c179e\"], [0.4444444444444444, \"#bd3786\"], [0.5555555555555556, \"#d8576b\"], [0.6666666666666666, \"#ed7953\"], [0.7777777777777778, \"#fb9f3a\"], [0.8888888888888888, \"#fdca26\"], [1.0, \"#f0f921\"]], \"type\": \"histogram2dcontour\"}], \"mesh3d\": [{\"colorbar\": {\"outlinewidth\": 0, \"ticks\": \"\"}, \"type\": \"mesh3d\"}], \"parcoords\": [{\"line\": {\"colorbar\": {\"outlinewidth\": 0, \"ticks\": \"\"}}, \"type\": \"parcoords\"}], \"pie\": [{\"automargin\": true, \"type\": \"pie\"}], \"scatter\": [{\"marker\": {\"colorbar\": {\"outlinewidth\": 0, \"ticks\": \"\"}}, \"type\": \"scatter\"}], \"scatter3d\": [{\"line\": {\"colorbar\": {\"outlinewidth\": 0, \"ticks\": \"\"}}, \"marker\": {\"colorbar\": {\"outlinewidth\": 0, \"ticks\": \"\"}}, \"type\": \"scatter3d\"}], \"scattercarpet\": [{\"marker\": {\"colorbar\": {\"outlinewidth\": 0, \"ticks\": \"\"}}, \"type\": \"scattercarpet\"}], \"scattergeo\": [{\"marker\": {\"colorbar\": {\"outlinewidth\": 0, \"ticks\": \"\"}}, \"type\": \"scattergeo\"}], \"scattergl\": [{\"marker\": {\"colorbar\": {\"outlinewidth\": 0, \"ticks\": \"\"}}, \"type\": \"scattergl\"}], \"scattermapbox\": [{\"marker\": {\"colorbar\": {\"outlinewidth\": 0, \"ticks\": \"\"}}, \"type\": \"scattermapbox\"}], \"scatterpolar\": [{\"marker\": {\"colorbar\": {\"outlinewidth\": 0, \"ticks\": \"\"}}, \"type\": \"scatterpolar\"}], \"scatterpolargl\": [{\"marker\": {\"colorbar\": {\"outlinewidth\": 0, \"ticks\": \"\"}}, \"type\": \"scatterpolargl\"}], \"scatterternary\": [{\"marker\": {\"colorbar\": {\"outlinewidth\": 0, \"ticks\": \"\"}}, \"type\": \"scatterternary\"}], \"surface\": [{\"colorbar\": {\"outlinewidth\": 0, \"ticks\": \"\"}, \"colorscale\": [[0.0, \"#0d0887\"], [0.1111111111111111, \"#46039f\"], [0.2222222222222222, \"#7201a8\"], [0.3333333333333333, \"#9c179e\"], [0.4444444444444444, \"#bd3786\"], [0.5555555555555556, \"#d8576b\"], [0.6666666666666666, \"#ed7953\"], [0.7777777777777778, \"#fb9f3a\"], [0.8888888888888888, \"#fdca26\"], [1.0, \"#f0f921\"]], \"type\": \"surface\"}], \"table\": [{\"cells\": {\"fill\": {\"color\": \"#EBF0F8\"}, \"line\": {\"color\": \"white\"}}, \"header\": {\"fill\": {\"color\": \"#C8D4E3\"}, \"line\": {\"color\": \"white\"}}, \"type\": \"table\"}]}, \"layout\": {\"annotationdefaults\": {\"arrowcolor\": \"#2a3f5f\", \"arrowhead\": 0, \"arrowwidth\": 1}, \"autotypenumbers\": \"strict\", \"coloraxis\": {\"colorbar\": {\"outlinewidth\": 0, \"ticks\": \"\"}}, \"colorscale\": {\"diverging\": [[0, \"#8e0152\"], [0.1, \"#c51b7d\"], [0.2, \"#de77ae\"], [0.3, \"#f1b6da\"], [0.4, \"#fde0ef\"], [0.5, \"#f7f7f7\"], [0.6, \"#e6f5d0\"], [0.7, \"#b8e186\"], [0.8, \"#7fbc41\"], [0.9, \"#4d9221\"], [1, \"#276419\"]], \"sequential\": [[0.0, \"#0d0887\"], [0.1111111111111111, \"#46039f\"], [0.2222222222222222, \"#7201a8\"], [0.3333333333333333, \"#9c179e\"], [0.4444444444444444, \"#bd3786\"], [0.5555555555555556, \"#d8576b\"], [0.6666666666666666, \"#ed7953\"], [0.7777777777777778, \"#fb9f3a\"], [0.8888888888888888, \"#fdca26\"], [1.0, \"#f0f921\"]], \"sequentialminus\": [[0.0, \"#0d0887\"], [0.1111111111111111, \"#46039f\"], [0.2222222222222222, \"#7201a8\"], [0.3333333333333333, \"#9c179e\"], [0.4444444444444444, \"#bd3786\"], [0.5555555555555556, \"#d8576b\"], [0.6666666666666666, \"#ed7953\"], [0.7777777777777778, \"#fb9f3a\"], [0.8888888888888888, \"#fdca26\"], [1.0, \"#f0f921\"]]}, \"colorway\": [\"#636efa\", \"#EF553B\", \"#00cc96\", \"#ab63fa\", \"#FFA15A\", \"#19d3f3\", \"#FF6692\", \"#B6E880\", \"#FF97FF\", \"#FECB52\"], \"font\": {\"color\": \"#2a3f5f\"}, \"geo\": {\"bgcolor\": \"white\", \"lakecolor\": \"white\", \"landcolor\": \"#E5ECF6\", \"showlakes\": true, \"showland\": true, \"subunitcolor\": \"white\"}, \"hoverlabel\": {\"align\": \"left\"}, \"hovermode\": \"closest\", \"mapbox\": {\"style\": \"light\"}, \"paper_bgcolor\": \"white\", \"plot_bgcolor\": \"#E5ECF6\", \"polar\": {\"angularaxis\": {\"gridcolor\": \"white\", \"linecolor\": \"white\", \"ticks\": \"\"}, \"bgcolor\": \"#E5ECF6\", \"radialaxis\": {\"gridcolor\": \"white\", \"linecolor\": \"white\", \"ticks\": \"\"}}, \"scene\": {\"xaxis\": {\"backgroundcolor\": \"#E5ECF6\", \"gridcolor\": \"white\", \"gridwidth\": 2, \"linecolor\": \"white\", \"showbackground\": true, \"ticks\": \"\", \"zerolinecolor\": \"white\"}, \"yaxis\": {\"backgroundcolor\": \"#E5ECF6\", \"gridcolor\": \"white\", \"gridwidth\": 2, \"linecolor\": \"white\", \"showbackground\": true, \"ticks\": \"\", \"zerolinecolor\": \"white\"}, \"zaxis\": {\"backgroundcolor\": \"#E5ECF6\", \"gridcolor\": \"white\", \"gridwidth\": 2, \"linecolor\": \"white\", \"showbackground\": true, \"ticks\": \"\", \"zerolinecolor\": \"white\"}}, \"shapedefaults\": {\"line\": {\"color\": \"#2a3f5f\"}}, \"ternary\": {\"aaxis\": {\"gridcolor\": \"white\", \"linecolor\": \"white\", \"ticks\": \"\"}, \"baxis\": {\"gridcolor\": \"white\", \"linecolor\": \"white\", \"ticks\": \"\"}, \"bgcolor\": \"#E5ECF6\", \"caxis\": {\"gridcolor\": \"white\", \"linecolor\": \"white\", \"ticks\": \"\"}}, \"title\": {\"x\": 0.05}, \"xaxis\": {\"automargin\": true, \"gridcolor\": \"white\", \"linecolor\": \"white\", \"ticks\": \"\", \"title\": {\"standoff\": 15}, \"zerolinecolor\": \"white\", \"zerolinewidth\": 2}, \"yaxis\": {\"automargin\": true, \"gridcolor\": \"white\", \"linecolor\": \"white\", \"ticks\": \"\", \"title\": {\"standoff\": 15}, \"zerolinecolor\": \"white\", \"zerolinewidth\": 2}}}, \"xaxis\": {\"rangeslider\": {\"visible\": false}}},                        {\"responsive\": true}                    ).then(function(){\n",
       "                            \n",
       "var gd = document.getElementById('e8d2b63d-2bd4-4ccc-83eb-86620c0f50db');\n",
       "var x = new MutationObserver(function (mutations, observer) {{\n",
       "        var display = window.getComputedStyle(gd).display;\n",
       "        if (!display || display === 'none') {{\n",
       "            console.log([gd, 'removed!']);\n",
       "            Plotly.purge(gd);\n",
       "            observer.disconnect();\n",
       "        }}\n",
       "}});\n",
       "\n",
       "// Listen for the removal of the full notebook cells\n",
       "var notebookContainer = gd.closest('#notebook-container');\n",
       "if (notebookContainer) {{\n",
       "    x.observe(notebookContainer, {childList: true});\n",
       "}}\n",
       "\n",
       "// Listen for the clearing of the current output cell\n",
       "var outputEl = gd.closest('.output');\n",
       "if (outputEl) {{\n",
       "    x.observe(outputEl, {childList: true});\n",
       "}}\n",
       "\n",
       "                        })                };                });            </script>        </div>"
      ]
     },
     "metadata": {},
     "output_type": "display_data"
    }
   ],
   "source": [
    "trace2 = go.Candlestick(\n",
    "                x=sb_m.index,# Проблема месяц, есть ли решение на середину месяца\n",
    "                open=sb_m['Open'],\n",
    "                high=sb_m['High'],\n",
    "                low=sb_m['Low'],\n",
    "                close=sb_m['Close'])\n",
    "\n",
    "# убираем нижний бегунок\n",
    "layout = go.Layout(\n",
    "    xaxis = dict(\n",
    "        rangeslider = dict(\n",
    "            visible = False\n",
    "        )\n",
    "    )\n",
    ")\n",
    "\n",
    "data2 = [trace2]\n",
    "fig = go.Figure(data=data2,layout=layout)\n",
    "iplot(fig)"
   ]
  },
  {
   "cell_type": "code",
   "execution_count": 114,
   "metadata": {},
   "outputs": [
    {
     "data": {
      "application/vnd.plotly.v1+json": {
       "config": {
        "linkText": "Export to plot.ly",
        "plotlyServerURL": "https://plot.ly",
        "showLink": false
       },
       "data": [
        {
         "close": [
          172.2,
          156,
          159.8,
          165.2,
          155.93,
          145.59,
          164.53,
          183.51,
          192.33,
          193.8,
          224.35,
          225.2
         ],
         "high": [
          181.68,
          174.98,
          165.99,
          168.45,
          172.39,
          158.89,
          167.35,
          186.33,
          195,
          198.52,
          233.95,
          230.5
         ],
         "low": [
          163.34,
          155.7,
          155.23,
          147.62,
          155.03,
          136.2,
          146.22,
          165.3,
          180.93,
          189.06,
          192.38,
          219.23
         ],
         "open": [
          173.41,
          172.51,
          155.99,
          160.5,
          166,
          156.4,
          146.69,
          165.53,
          183.85,
          192.71,
          194.5,
          224.53
         ],
         "type": "candlestick",
         "x": [
          "Jan-2017",
          "Feb-2017",
          "Mar-2017",
          "Apr-2017",
          "May-2017",
          "Jun-2017",
          "Jul-2017",
          "Aug-2017",
          "Sep-2017",
          "Oct-2017",
          "Nov-2017",
          "Dec-2017"
         ]
        }
       ],
       "layout": {
        "template": {
         "data": {
          "bar": [
           {
            "error_x": {
             "color": "#2a3f5f"
            },
            "error_y": {
             "color": "#2a3f5f"
            },
            "marker": {
             "line": {
              "color": "#E5ECF6",
              "width": 0.5
             }
            },
            "type": "bar"
           }
          ],
          "barpolar": [
           {
            "marker": {
             "line": {
              "color": "#E5ECF6",
              "width": 0.5
             }
            },
            "type": "barpolar"
           }
          ],
          "carpet": [
           {
            "aaxis": {
             "endlinecolor": "#2a3f5f",
             "gridcolor": "white",
             "linecolor": "white",
             "minorgridcolor": "white",
             "startlinecolor": "#2a3f5f"
            },
            "baxis": {
             "endlinecolor": "#2a3f5f",
             "gridcolor": "white",
             "linecolor": "white",
             "minorgridcolor": "white",
             "startlinecolor": "#2a3f5f"
            },
            "type": "carpet"
           }
          ],
          "choropleth": [
           {
            "colorbar": {
             "outlinewidth": 0,
             "ticks": ""
            },
            "type": "choropleth"
           }
          ],
          "contour": [
           {
            "colorbar": {
             "outlinewidth": 0,
             "ticks": ""
            },
            "colorscale": [
             [
              0,
              "#0d0887"
             ],
             [
              0.1111111111111111,
              "#46039f"
             ],
             [
              0.2222222222222222,
              "#7201a8"
             ],
             [
              0.3333333333333333,
              "#9c179e"
             ],
             [
              0.4444444444444444,
              "#bd3786"
             ],
             [
              0.5555555555555556,
              "#d8576b"
             ],
             [
              0.6666666666666666,
              "#ed7953"
             ],
             [
              0.7777777777777778,
              "#fb9f3a"
             ],
             [
              0.8888888888888888,
              "#fdca26"
             ],
             [
              1,
              "#f0f921"
             ]
            ],
            "type": "contour"
           }
          ],
          "contourcarpet": [
           {
            "colorbar": {
             "outlinewidth": 0,
             "ticks": ""
            },
            "type": "contourcarpet"
           }
          ],
          "heatmap": [
           {
            "colorbar": {
             "outlinewidth": 0,
             "ticks": ""
            },
            "colorscale": [
             [
              0,
              "#0d0887"
             ],
             [
              0.1111111111111111,
              "#46039f"
             ],
             [
              0.2222222222222222,
              "#7201a8"
             ],
             [
              0.3333333333333333,
              "#9c179e"
             ],
             [
              0.4444444444444444,
              "#bd3786"
             ],
             [
              0.5555555555555556,
              "#d8576b"
             ],
             [
              0.6666666666666666,
              "#ed7953"
             ],
             [
              0.7777777777777778,
              "#fb9f3a"
             ],
             [
              0.8888888888888888,
              "#fdca26"
             ],
             [
              1,
              "#f0f921"
             ]
            ],
            "type": "heatmap"
           }
          ],
          "heatmapgl": [
           {
            "colorbar": {
             "outlinewidth": 0,
             "ticks": ""
            },
            "colorscale": [
             [
              0,
              "#0d0887"
             ],
             [
              0.1111111111111111,
              "#46039f"
             ],
             [
              0.2222222222222222,
              "#7201a8"
             ],
             [
              0.3333333333333333,
              "#9c179e"
             ],
             [
              0.4444444444444444,
              "#bd3786"
             ],
             [
              0.5555555555555556,
              "#d8576b"
             ],
             [
              0.6666666666666666,
              "#ed7953"
             ],
             [
              0.7777777777777778,
              "#fb9f3a"
             ],
             [
              0.8888888888888888,
              "#fdca26"
             ],
             [
              1,
              "#f0f921"
             ]
            ],
            "type": "heatmapgl"
           }
          ],
          "histogram": [
           {
            "marker": {
             "colorbar": {
              "outlinewidth": 0,
              "ticks": ""
             }
            },
            "type": "histogram"
           }
          ],
          "histogram2d": [
           {
            "colorbar": {
             "outlinewidth": 0,
             "ticks": ""
            },
            "colorscale": [
             [
              0,
              "#0d0887"
             ],
             [
              0.1111111111111111,
              "#46039f"
             ],
             [
              0.2222222222222222,
              "#7201a8"
             ],
             [
              0.3333333333333333,
              "#9c179e"
             ],
             [
              0.4444444444444444,
              "#bd3786"
             ],
             [
              0.5555555555555556,
              "#d8576b"
             ],
             [
              0.6666666666666666,
              "#ed7953"
             ],
             [
              0.7777777777777778,
              "#fb9f3a"
             ],
             [
              0.8888888888888888,
              "#fdca26"
             ],
             [
              1,
              "#f0f921"
             ]
            ],
            "type": "histogram2d"
           }
          ],
          "histogram2dcontour": [
           {
            "colorbar": {
             "outlinewidth": 0,
             "ticks": ""
            },
            "colorscale": [
             [
              0,
              "#0d0887"
             ],
             [
              0.1111111111111111,
              "#46039f"
             ],
             [
              0.2222222222222222,
              "#7201a8"
             ],
             [
              0.3333333333333333,
              "#9c179e"
             ],
             [
              0.4444444444444444,
              "#bd3786"
             ],
             [
              0.5555555555555556,
              "#d8576b"
             ],
             [
              0.6666666666666666,
              "#ed7953"
             ],
             [
              0.7777777777777778,
              "#fb9f3a"
             ],
             [
              0.8888888888888888,
              "#fdca26"
             ],
             [
              1,
              "#f0f921"
             ]
            ],
            "type": "histogram2dcontour"
           }
          ],
          "mesh3d": [
           {
            "colorbar": {
             "outlinewidth": 0,
             "ticks": ""
            },
            "type": "mesh3d"
           }
          ],
          "parcoords": [
           {
            "line": {
             "colorbar": {
              "outlinewidth": 0,
              "ticks": ""
             }
            },
            "type": "parcoords"
           }
          ],
          "pie": [
           {
            "automargin": true,
            "type": "pie"
           }
          ],
          "scatter": [
           {
            "marker": {
             "colorbar": {
              "outlinewidth": 0,
              "ticks": ""
             }
            },
            "type": "scatter"
           }
          ],
          "scatter3d": [
           {
            "line": {
             "colorbar": {
              "outlinewidth": 0,
              "ticks": ""
             }
            },
            "marker": {
             "colorbar": {
              "outlinewidth": 0,
              "ticks": ""
             }
            },
            "type": "scatter3d"
           }
          ],
          "scattercarpet": [
           {
            "marker": {
             "colorbar": {
              "outlinewidth": 0,
              "ticks": ""
             }
            },
            "type": "scattercarpet"
           }
          ],
          "scattergeo": [
           {
            "marker": {
             "colorbar": {
              "outlinewidth": 0,
              "ticks": ""
             }
            },
            "type": "scattergeo"
           }
          ],
          "scattergl": [
           {
            "marker": {
             "colorbar": {
              "outlinewidth": 0,
              "ticks": ""
             }
            },
            "type": "scattergl"
           }
          ],
          "scattermapbox": [
           {
            "marker": {
             "colorbar": {
              "outlinewidth": 0,
              "ticks": ""
             }
            },
            "type": "scattermapbox"
           }
          ],
          "scatterpolar": [
           {
            "marker": {
             "colorbar": {
              "outlinewidth": 0,
              "ticks": ""
             }
            },
            "type": "scatterpolar"
           }
          ],
          "scatterpolargl": [
           {
            "marker": {
             "colorbar": {
              "outlinewidth": 0,
              "ticks": ""
             }
            },
            "type": "scatterpolargl"
           }
          ],
          "scatterternary": [
           {
            "marker": {
             "colorbar": {
              "outlinewidth": 0,
              "ticks": ""
             }
            },
            "type": "scatterternary"
           }
          ],
          "surface": [
           {
            "colorbar": {
             "outlinewidth": 0,
             "ticks": ""
            },
            "colorscale": [
             [
              0,
              "#0d0887"
             ],
             [
              0.1111111111111111,
              "#46039f"
             ],
             [
              0.2222222222222222,
              "#7201a8"
             ],
             [
              0.3333333333333333,
              "#9c179e"
             ],
             [
              0.4444444444444444,
              "#bd3786"
             ],
             [
              0.5555555555555556,
              "#d8576b"
             ],
             [
              0.6666666666666666,
              "#ed7953"
             ],
             [
              0.7777777777777778,
              "#fb9f3a"
             ],
             [
              0.8888888888888888,
              "#fdca26"
             ],
             [
              1,
              "#f0f921"
             ]
            ],
            "type": "surface"
           }
          ],
          "table": [
           {
            "cells": {
             "fill": {
              "color": "#EBF0F8"
             },
             "line": {
              "color": "white"
             }
            },
            "header": {
             "fill": {
              "color": "#C8D4E3"
             },
             "line": {
              "color": "white"
             }
            },
            "type": "table"
           }
          ]
         },
         "layout": {
          "annotationdefaults": {
           "arrowcolor": "#2a3f5f",
           "arrowhead": 0,
           "arrowwidth": 1
          },
          "autotypenumbers": "strict",
          "coloraxis": {
           "colorbar": {
            "outlinewidth": 0,
            "ticks": ""
           }
          },
          "colorscale": {
           "diverging": [
            [
             0,
             "#8e0152"
            ],
            [
             0.1,
             "#c51b7d"
            ],
            [
             0.2,
             "#de77ae"
            ],
            [
             0.3,
             "#f1b6da"
            ],
            [
             0.4,
             "#fde0ef"
            ],
            [
             0.5,
             "#f7f7f7"
            ],
            [
             0.6,
             "#e6f5d0"
            ],
            [
             0.7,
             "#b8e186"
            ],
            [
             0.8,
             "#7fbc41"
            ],
            [
             0.9,
             "#4d9221"
            ],
            [
             1,
             "#276419"
            ]
           ],
           "sequential": [
            [
             0,
             "#0d0887"
            ],
            [
             0.1111111111111111,
             "#46039f"
            ],
            [
             0.2222222222222222,
             "#7201a8"
            ],
            [
             0.3333333333333333,
             "#9c179e"
            ],
            [
             0.4444444444444444,
             "#bd3786"
            ],
            [
             0.5555555555555556,
             "#d8576b"
            ],
            [
             0.6666666666666666,
             "#ed7953"
            ],
            [
             0.7777777777777778,
             "#fb9f3a"
            ],
            [
             0.8888888888888888,
             "#fdca26"
            ],
            [
             1,
             "#f0f921"
            ]
           ],
           "sequentialminus": [
            [
             0,
             "#0d0887"
            ],
            [
             0.1111111111111111,
             "#46039f"
            ],
            [
             0.2222222222222222,
             "#7201a8"
            ],
            [
             0.3333333333333333,
             "#9c179e"
            ],
            [
             0.4444444444444444,
             "#bd3786"
            ],
            [
             0.5555555555555556,
             "#d8576b"
            ],
            [
             0.6666666666666666,
             "#ed7953"
            ],
            [
             0.7777777777777778,
             "#fb9f3a"
            ],
            [
             0.8888888888888888,
             "#fdca26"
            ],
            [
             1,
             "#f0f921"
            ]
           ]
          },
          "colorway": [
           "#636efa",
           "#EF553B",
           "#00cc96",
           "#ab63fa",
           "#FFA15A",
           "#19d3f3",
           "#FF6692",
           "#B6E880",
           "#FF97FF",
           "#FECB52"
          ],
          "font": {
           "color": "#2a3f5f"
          },
          "geo": {
           "bgcolor": "white",
           "lakecolor": "white",
           "landcolor": "#E5ECF6",
           "showlakes": true,
           "showland": true,
           "subunitcolor": "white"
          },
          "hoverlabel": {
           "align": "left"
          },
          "hovermode": "closest",
          "mapbox": {
           "style": "light"
          },
          "paper_bgcolor": "white",
          "plot_bgcolor": "#E5ECF6",
          "polar": {
           "angularaxis": {
            "gridcolor": "white",
            "linecolor": "white",
            "ticks": ""
           },
           "bgcolor": "#E5ECF6",
           "radialaxis": {
            "gridcolor": "white",
            "linecolor": "white",
            "ticks": ""
           }
          },
          "scene": {
           "xaxis": {
            "backgroundcolor": "#E5ECF6",
            "gridcolor": "white",
            "gridwidth": 2,
            "linecolor": "white",
            "showbackground": true,
            "ticks": "",
            "zerolinecolor": "white"
           },
           "yaxis": {
            "backgroundcolor": "#E5ECF6",
            "gridcolor": "white",
            "gridwidth": 2,
            "linecolor": "white",
            "showbackground": true,
            "ticks": "",
            "zerolinecolor": "white"
           },
           "zaxis": {
            "backgroundcolor": "#E5ECF6",
            "gridcolor": "white",
            "gridwidth": 2,
            "linecolor": "white",
            "showbackground": true,
            "ticks": "",
            "zerolinecolor": "white"
           }
          },
          "shapedefaults": {
           "line": {
            "color": "#2a3f5f"
           }
          },
          "ternary": {
           "aaxis": {
            "gridcolor": "white",
            "linecolor": "white",
            "ticks": ""
           },
           "baxis": {
            "gridcolor": "white",
            "linecolor": "white",
            "ticks": ""
           },
           "bgcolor": "#E5ECF6",
           "caxis": {
            "gridcolor": "white",
            "linecolor": "white",
            "ticks": ""
           }
          },
          "title": {
           "x": 0.05
          },
          "xaxis": {
           "automargin": true,
           "gridcolor": "white",
           "linecolor": "white",
           "ticks": "",
           "title": {
            "standoff": 15
           },
           "zerolinecolor": "white",
           "zerolinewidth": 2
          },
          "yaxis": {
           "automargin": true,
           "gridcolor": "white",
           "linecolor": "white",
           "ticks": "",
           "title": {
            "standoff": 15
           },
           "zerolinecolor": "white",
           "zerolinewidth": 2
          }
         }
        },
        "xaxis": {
         "rangeslider": {
          "visible": false
         }
        }
       }
      },
      "text/html": [
       "<div>                            <div id=\"57a88488-7c83-40c3-a300-14674cf9f8ed\" class=\"plotly-graph-div\" style=\"height:525px; width:100%;\"></div>            <script type=\"text/javascript\">                require([\"plotly\"], function(Plotly) {                    window.PLOTLYENV=window.PLOTLYENV || {};                                    if (document.getElementById(\"57a88488-7c83-40c3-a300-14674cf9f8ed\")) {                    Plotly.newPlot(                        \"57a88488-7c83-40c3-a300-14674cf9f8ed\",                        [{\"close\": [172.2, 156.0, 159.8, 165.2, 155.93, 145.59, 164.53, 183.51, 192.33, 193.8, 224.35, 225.2], \"high\": [181.68, 174.98, 165.99, 168.45, 172.39, 158.89, 167.35, 186.33, 195.0, 198.52, 233.95, 230.5], \"low\": [163.34, 155.7, 155.23, 147.62, 155.03, 136.2, 146.22, 165.3, 180.93, 189.06, 192.38, 219.23], \"open\": [173.41, 172.51, 155.99, 160.5, 166.0, 156.4, 146.69, 165.53, 183.85, 192.71, 194.5, 224.53], \"type\": \"candlestick\", \"x\": [\"Jan-2017\", \"Feb-2017\", \"Mar-2017\", \"Apr-2017\", \"May-2017\", \"Jun-2017\", \"Jul-2017\", \"Aug-2017\", \"Sep-2017\", \"Oct-2017\", \"Nov-2017\", \"Dec-2017\"]}],                        {\"template\": {\"data\": {\"bar\": [{\"error_x\": {\"color\": \"#2a3f5f\"}, \"error_y\": {\"color\": \"#2a3f5f\"}, \"marker\": {\"line\": {\"color\": \"#E5ECF6\", \"width\": 0.5}}, \"type\": \"bar\"}], \"barpolar\": [{\"marker\": {\"line\": {\"color\": \"#E5ECF6\", \"width\": 0.5}}, \"type\": \"barpolar\"}], \"carpet\": [{\"aaxis\": {\"endlinecolor\": \"#2a3f5f\", \"gridcolor\": \"white\", \"linecolor\": \"white\", \"minorgridcolor\": \"white\", \"startlinecolor\": \"#2a3f5f\"}, \"baxis\": {\"endlinecolor\": \"#2a3f5f\", \"gridcolor\": \"white\", \"linecolor\": \"white\", \"minorgridcolor\": \"white\", \"startlinecolor\": \"#2a3f5f\"}, \"type\": \"carpet\"}], \"choropleth\": [{\"colorbar\": {\"outlinewidth\": 0, \"ticks\": \"\"}, \"type\": \"choropleth\"}], \"contour\": [{\"colorbar\": {\"outlinewidth\": 0, \"ticks\": \"\"}, \"colorscale\": [[0.0, \"#0d0887\"], [0.1111111111111111, \"#46039f\"], [0.2222222222222222, \"#7201a8\"], [0.3333333333333333, \"#9c179e\"], [0.4444444444444444, \"#bd3786\"], [0.5555555555555556, \"#d8576b\"], [0.6666666666666666, \"#ed7953\"], [0.7777777777777778, \"#fb9f3a\"], [0.8888888888888888, \"#fdca26\"], [1.0, \"#f0f921\"]], \"type\": \"contour\"}], \"contourcarpet\": [{\"colorbar\": {\"outlinewidth\": 0, \"ticks\": \"\"}, \"type\": \"contourcarpet\"}], \"heatmap\": [{\"colorbar\": {\"outlinewidth\": 0, \"ticks\": \"\"}, \"colorscale\": [[0.0, \"#0d0887\"], [0.1111111111111111, \"#46039f\"], [0.2222222222222222, \"#7201a8\"], [0.3333333333333333, \"#9c179e\"], [0.4444444444444444, \"#bd3786\"], [0.5555555555555556, \"#d8576b\"], [0.6666666666666666, \"#ed7953\"], [0.7777777777777778, \"#fb9f3a\"], [0.8888888888888888, \"#fdca26\"], [1.0, \"#f0f921\"]], \"type\": \"heatmap\"}], \"heatmapgl\": [{\"colorbar\": {\"outlinewidth\": 0, \"ticks\": \"\"}, \"colorscale\": [[0.0, \"#0d0887\"], [0.1111111111111111, \"#46039f\"], [0.2222222222222222, \"#7201a8\"], [0.3333333333333333, \"#9c179e\"], [0.4444444444444444, \"#bd3786\"], [0.5555555555555556, \"#d8576b\"], [0.6666666666666666, \"#ed7953\"], [0.7777777777777778, \"#fb9f3a\"], [0.8888888888888888, \"#fdca26\"], [1.0, \"#f0f921\"]], \"type\": \"heatmapgl\"}], \"histogram\": [{\"marker\": {\"colorbar\": {\"outlinewidth\": 0, \"ticks\": \"\"}}, \"type\": \"histogram\"}], \"histogram2d\": [{\"colorbar\": {\"outlinewidth\": 0, \"ticks\": \"\"}, \"colorscale\": [[0.0, \"#0d0887\"], [0.1111111111111111, \"#46039f\"], [0.2222222222222222, \"#7201a8\"], [0.3333333333333333, \"#9c179e\"], [0.4444444444444444, \"#bd3786\"], [0.5555555555555556, \"#d8576b\"], [0.6666666666666666, \"#ed7953\"], [0.7777777777777778, \"#fb9f3a\"], [0.8888888888888888, \"#fdca26\"], [1.0, \"#f0f921\"]], \"type\": \"histogram2d\"}], \"histogram2dcontour\": [{\"colorbar\": {\"outlinewidth\": 0, \"ticks\": \"\"}, \"colorscale\": [[0.0, \"#0d0887\"], [0.1111111111111111, \"#46039f\"], [0.2222222222222222, \"#7201a8\"], [0.3333333333333333, \"#9c179e\"], [0.4444444444444444, \"#bd3786\"], [0.5555555555555556, \"#d8576b\"], [0.6666666666666666, \"#ed7953\"], [0.7777777777777778, \"#fb9f3a\"], [0.8888888888888888, \"#fdca26\"], [1.0, \"#f0f921\"]], \"type\": \"histogram2dcontour\"}], \"mesh3d\": [{\"colorbar\": {\"outlinewidth\": 0, \"ticks\": \"\"}, \"type\": \"mesh3d\"}], \"parcoords\": [{\"line\": {\"colorbar\": {\"outlinewidth\": 0, \"ticks\": \"\"}}, \"type\": \"parcoords\"}], \"pie\": [{\"automargin\": true, \"type\": \"pie\"}], \"scatter\": [{\"marker\": {\"colorbar\": {\"outlinewidth\": 0, \"ticks\": \"\"}}, \"type\": \"scatter\"}], \"scatter3d\": [{\"line\": {\"colorbar\": {\"outlinewidth\": 0, \"ticks\": \"\"}}, \"marker\": {\"colorbar\": {\"outlinewidth\": 0, \"ticks\": \"\"}}, \"type\": \"scatter3d\"}], \"scattercarpet\": [{\"marker\": {\"colorbar\": {\"outlinewidth\": 0, \"ticks\": \"\"}}, \"type\": \"scattercarpet\"}], \"scattergeo\": [{\"marker\": {\"colorbar\": {\"outlinewidth\": 0, \"ticks\": \"\"}}, \"type\": \"scattergeo\"}], \"scattergl\": [{\"marker\": {\"colorbar\": {\"outlinewidth\": 0, \"ticks\": \"\"}}, \"type\": \"scattergl\"}], \"scattermapbox\": [{\"marker\": {\"colorbar\": {\"outlinewidth\": 0, \"ticks\": \"\"}}, \"type\": \"scattermapbox\"}], \"scatterpolar\": [{\"marker\": {\"colorbar\": {\"outlinewidth\": 0, \"ticks\": \"\"}}, \"type\": \"scatterpolar\"}], \"scatterpolargl\": [{\"marker\": {\"colorbar\": {\"outlinewidth\": 0, \"ticks\": \"\"}}, \"type\": \"scatterpolargl\"}], \"scatterternary\": [{\"marker\": {\"colorbar\": {\"outlinewidth\": 0, \"ticks\": \"\"}}, \"type\": \"scatterternary\"}], \"surface\": [{\"colorbar\": {\"outlinewidth\": 0, \"ticks\": \"\"}, \"colorscale\": [[0.0, \"#0d0887\"], [0.1111111111111111, \"#46039f\"], [0.2222222222222222, \"#7201a8\"], [0.3333333333333333, \"#9c179e\"], [0.4444444444444444, \"#bd3786\"], [0.5555555555555556, \"#d8576b\"], [0.6666666666666666, \"#ed7953\"], [0.7777777777777778, \"#fb9f3a\"], [0.8888888888888888, \"#fdca26\"], [1.0, \"#f0f921\"]], \"type\": \"surface\"}], \"table\": [{\"cells\": {\"fill\": {\"color\": \"#EBF0F8\"}, \"line\": {\"color\": \"white\"}}, \"header\": {\"fill\": {\"color\": \"#C8D4E3\"}, \"line\": {\"color\": \"white\"}}, \"type\": \"table\"}]}, \"layout\": {\"annotationdefaults\": {\"arrowcolor\": \"#2a3f5f\", \"arrowhead\": 0, \"arrowwidth\": 1}, \"autotypenumbers\": \"strict\", \"coloraxis\": {\"colorbar\": {\"outlinewidth\": 0, \"ticks\": \"\"}}, \"colorscale\": {\"diverging\": [[0, \"#8e0152\"], [0.1, \"#c51b7d\"], [0.2, \"#de77ae\"], [0.3, \"#f1b6da\"], [0.4, \"#fde0ef\"], [0.5, \"#f7f7f7\"], [0.6, \"#e6f5d0\"], [0.7, \"#b8e186\"], [0.8, \"#7fbc41\"], [0.9, \"#4d9221\"], [1, \"#276419\"]], \"sequential\": [[0.0, \"#0d0887\"], [0.1111111111111111, \"#46039f\"], [0.2222222222222222, \"#7201a8\"], [0.3333333333333333, \"#9c179e\"], [0.4444444444444444, \"#bd3786\"], [0.5555555555555556, \"#d8576b\"], [0.6666666666666666, \"#ed7953\"], [0.7777777777777778, \"#fb9f3a\"], [0.8888888888888888, \"#fdca26\"], [1.0, \"#f0f921\"]], \"sequentialminus\": [[0.0, \"#0d0887\"], [0.1111111111111111, \"#46039f\"], [0.2222222222222222, \"#7201a8\"], [0.3333333333333333, \"#9c179e\"], [0.4444444444444444, \"#bd3786\"], [0.5555555555555556, \"#d8576b\"], [0.6666666666666666, \"#ed7953\"], [0.7777777777777778, \"#fb9f3a\"], [0.8888888888888888, \"#fdca26\"], [1.0, \"#f0f921\"]]}, \"colorway\": [\"#636efa\", \"#EF553B\", \"#00cc96\", \"#ab63fa\", \"#FFA15A\", \"#19d3f3\", \"#FF6692\", \"#B6E880\", \"#FF97FF\", \"#FECB52\"], \"font\": {\"color\": \"#2a3f5f\"}, \"geo\": {\"bgcolor\": \"white\", \"lakecolor\": \"white\", \"landcolor\": \"#E5ECF6\", \"showlakes\": true, \"showland\": true, \"subunitcolor\": \"white\"}, \"hoverlabel\": {\"align\": \"left\"}, \"hovermode\": \"closest\", \"mapbox\": {\"style\": \"light\"}, \"paper_bgcolor\": \"white\", \"plot_bgcolor\": \"#E5ECF6\", \"polar\": {\"angularaxis\": {\"gridcolor\": \"white\", \"linecolor\": \"white\", \"ticks\": \"\"}, \"bgcolor\": \"#E5ECF6\", \"radialaxis\": {\"gridcolor\": \"white\", \"linecolor\": \"white\", \"ticks\": \"\"}}, \"scene\": {\"xaxis\": {\"backgroundcolor\": \"#E5ECF6\", \"gridcolor\": \"white\", \"gridwidth\": 2, \"linecolor\": \"white\", \"showbackground\": true, \"ticks\": \"\", \"zerolinecolor\": \"white\"}, \"yaxis\": {\"backgroundcolor\": \"#E5ECF6\", \"gridcolor\": \"white\", \"gridwidth\": 2, \"linecolor\": \"white\", \"showbackground\": true, \"ticks\": \"\", \"zerolinecolor\": \"white\"}, \"zaxis\": {\"backgroundcolor\": \"#E5ECF6\", \"gridcolor\": \"white\", \"gridwidth\": 2, \"linecolor\": \"white\", \"showbackground\": true, \"ticks\": \"\", \"zerolinecolor\": \"white\"}}, \"shapedefaults\": {\"line\": {\"color\": \"#2a3f5f\"}}, \"ternary\": {\"aaxis\": {\"gridcolor\": \"white\", \"linecolor\": \"white\", \"ticks\": \"\"}, \"baxis\": {\"gridcolor\": \"white\", \"linecolor\": \"white\", \"ticks\": \"\"}, \"bgcolor\": \"#E5ECF6\", \"caxis\": {\"gridcolor\": \"white\", \"linecolor\": \"white\", \"ticks\": \"\"}}, \"title\": {\"x\": 0.05}, \"xaxis\": {\"automargin\": true, \"gridcolor\": \"white\", \"linecolor\": \"white\", \"ticks\": \"\", \"title\": {\"standoff\": 15}, \"zerolinecolor\": \"white\", \"zerolinewidth\": 2}, \"yaxis\": {\"automargin\": true, \"gridcolor\": \"white\", \"linecolor\": \"white\", \"ticks\": \"\", \"title\": {\"standoff\": 15}, \"zerolinecolor\": \"white\", \"zerolinewidth\": 2}}}, \"xaxis\": {\"rangeslider\": {\"visible\": false}}},                        {\"responsive\": true}                    ).then(function(){\n",
       "                            \n",
       "var gd = document.getElementById('57a88488-7c83-40c3-a300-14674cf9f8ed');\n",
       "var x = new MutationObserver(function (mutations, observer) {{\n",
       "        var display = window.getComputedStyle(gd).display;\n",
       "        if (!display || display === 'none') {{\n",
       "            console.log([gd, 'removed!']);\n",
       "            Plotly.purge(gd);\n",
       "            observer.disconnect();\n",
       "        }}\n",
       "}});\n",
       "\n",
       "// Listen for the removal of the full notebook cells\n",
       "var notebookContainer = gd.closest('#notebook-container');\n",
       "if (notebookContainer) {{\n",
       "    x.observe(notebookContainer, {childList: true});\n",
       "}}\n",
       "\n",
       "// Listen for the clearing of the current output cell\n",
       "var outputEl = gd.closest('.output');\n",
       "if (outputEl) {{\n",
       "    x.observe(outputEl, {childList: true});\n",
       "}}\n",
       "\n",
       "                        })                };                });            </script>        </div>"
      ]
     },
     "metadata": {},
     "output_type": "display_data"
    }
   ],
   "source": [
    "month=sb_m.index.strftime('%b-%Y')\n",
    "\n",
    "trace2 = go.Candlestick(\n",
    "                x=month, # Внимание на месяц\n",
    "                open=sb_m['Open'],\n",
    "                high=sb_m['High'],\n",
    "                low=sb_m['Low'],\n",
    "                close=sb_m['Close'])\n",
    "\n",
    "# убираем нижний бегунок\n",
    "layout = go.Layout(\n",
    "    xaxis = dict(\n",
    "        rangeslider = dict(\n",
    "            visible = False\n",
    "        )\n",
    "    )\n",
    ")\n",
    "\n",
    "data2 = [trace2]\n",
    "fig = go.Figure(data=data2,layout=layout)\n",
    "iplot(fig)"
   ]
  },
  {
   "cell_type": "code",
   "execution_count": null,
   "metadata": {},
   "outputs": [],
   "source": []
  }
 ],
 "metadata": {
  "kernelspec": {
   "display_name": "Python 3",
   "language": "python",
   "name": "python3"
  },
  "language_info": {
   "codemirror_mode": {
    "name": "ipython",
    "version": 3
   },
   "file_extension": ".py",
   "mimetype": "text/x-python",
   "name": "python",
   "nbconvert_exporter": "python",
   "pygments_lexer": "ipython3",
   "version": "3.8.5"
  }
 },
 "nbformat": 4,
 "nbformat_minor": 2
}
