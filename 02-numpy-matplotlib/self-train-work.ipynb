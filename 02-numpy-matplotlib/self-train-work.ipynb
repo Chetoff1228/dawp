{
 "cells": [
  {
   "cell_type": "markdown",
   "metadata": {},
   "source": [
    "# Для самостоятельного решения\n",
    "### Фамилия Имя: ...\n",
    "\n",
    "Смоделируем случайные блуждания, что обеспечит иллюстративное применение использования операций с массивом. Рассмотрим случайное блуждание в 1000 шагов, начинающееся с 0 с шагом 1 и -1, с равной вероятностью (пояснение: длинна равна 1000). \n",
    "\n",
    "Найти:\n",
    "1. Минимальное и максимальное значение по траектории\n",
    "2. Найти первый момент времени, когда на прогулке было сделано более 10 шагов в одну сторону\n",
    "3. Найти максимальное количество шагов в одну сторону\n",
    "\n",
    "Каждое решение сопроводить сопроводить визуализацией."
   ]
  },
  {
   "cell_type": "code",
   "execution_count": 1,
   "metadata": {},
   "outputs": [],
   "source": [
    "# Здесь укажите необходимые вам библиотеки\n",
    "\n"
   ]
  },
  {
   "cell_type": "code",
   "execution_count": 5,
   "metadata": {},
   "outputs": [],
   "source": [
    "# Здесь нужно написать код случайного блужания\n",
    "\n"
   ]
  },
  {
   "cell_type": "markdown",
   "metadata": {},
   "source": [
    "### 1. Минимальное и максимальное значение по траектории"
   ]
  },
  {
   "cell_type": "code",
   "execution_count": 2,
   "metadata": {},
   "outputs": [],
   "source": [
    "# здесь ваше решение и визуализация (все в одном блоке)\n"
   ]
  },
  {
   "cell_type": "markdown",
   "metadata": {},
   "source": [
    "### 2. Найдем первый момент времени, когда на прогулке было сделано более 10 шагов в одну сторону"
   ]
  },
  {
   "cell_type": "code",
   "execution_count": 3,
   "metadata": {},
   "outputs": [],
   "source": [
    "# здесь ваше решение и визуализация (все в одном блоке)\n"
   ]
  },
  {
   "cell_type": "markdown",
   "metadata": {},
   "source": [
    "### 3. Найдем максимальное количество шагов в одну сторону"
   ]
  },
  {
   "cell_type": "code",
   "execution_count": 4,
   "metadata": {},
   "outputs": [],
   "source": [
    "# здесь ваше решение и визуализация (все в одном блоке)\n"
   ]
  }
 ],
 "metadata": {
  "kernelspec": {
   "display_name": "Python 3 (ipykernel)",
   "language": "python",
   "name": "python3"
  },
  "language_info": {
   "codemirror_mode": {
    "name": "ipython",
    "version": 3
   },
   "file_extension": ".py",
   "mimetype": "text/x-python",
   "name": "python",
   "nbconvert_exporter": "python",
   "pygments_lexer": "ipython3",
   "version": "3.10.13"
  }
 },
 "nbformat": 4,
 "nbformat_minor": 4
}
